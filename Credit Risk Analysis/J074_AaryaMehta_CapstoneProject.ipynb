{
 "cells": [
  {
   "cell_type": "markdown",
   "metadata": {},
   "source": [
    "# Credit Risk\n",
    "## Improving business with a credit risk model"
   ]
  },
  {
   "cell_type": "markdown",
   "metadata": {},
   "source": [
    "These are the packages that I imported. I separated them by their purpose."
   ]
  },
  {
   "cell_type": "code",
   "execution_count": 1,
   "metadata": {
    "ExecuteTime": {
     "end_time": "2020-10-06T13:52:27.477807Z",
     "start_time": "2020-10-06T13:52:25.641144Z"
    },
    "execution": {
     "iopub.execute_input": "2020-10-23T18:01:13.446000Z",
     "iopub.status.busy": "2020-10-23T18:01:13.445714Z",
     "iopub.status.idle": "2020-10-23T18:01:15.364915Z",
     "shell.execute_reply": "2020-10-23T18:01:15.364212Z",
     "shell.execute_reply.started": "2020-10-23T18:01:13.445969Z"
    }
   },
   "outputs": [],
   "source": [
    "# data manipulation\n",
    "import pickle\n",
    "import pandas as pd\n",
    "import numpy as np\n",
    "\n",
    "# EDA\n",
    "import matplotlib\n",
    "import matplotlib.pyplot as plt\n",
    "import seaborn as sns\n",
    "from collections import Counter\n",
    "from scipy.stats import chi2_contingency\n",
    "from pyitlib import discrete_random_variable as drv\n",
    "\n",
    "# data preprocessing\n",
    "from sklearn.preprocessing import MinMaxScaler\n",
    "\n",
    "# feature selection\n",
    "from sklearn.ensemble import RandomForestClassifier\n",
    "from boruta import BorutaPy\n",
    "\n",
    "# machine learning\n",
    "from sklearn.model_selection import train_test_split\n",
    "from imblearn.combine import SMOTETomek\n",
    "from imblearn.pipeline import Pipeline\n",
    "from scipy import stats\n",
    "\n",
    "# algorithms\n",
    "from sklearn.linear_model import LogisticRegression\n",
    "from sklearn.ensemble import RandomForestClassifier\n",
    "import xgboost as xgb\n",
    "from catboost import CatBoostClassifier\n",
    "\n",
    "# model evaluation\n",
    "from sklearn.metrics import classification_report, precision_recall_fscore_support, f1_score\n",
    "from sklearn.metrics import roc_curve, roc_auc_score, accuracy_score\n",
    "from sklearn.metrics import confusion_matrix, precision_recall_curve, brier_score_loss\n",
    "from sklearn.model_selection import StratifiedKFold, cross_val_score\n",
    "\n",
    "# hyperparameter tuning\n",
    "from sklearn.model_selection import RandomizedSearchCV\n",
    "\n",
    "# model calibration\n",
    "from sklearn.calibration import CalibratedClassifierCV, calibration_curve"
   ]
  },
  {
   "cell_type": "markdown",
   "metadata": {
    "collapsed": "true"
   },
   "source": [
    "# Checking the data set"
   ]
  },
  {
   "cell_type": "markdown",
   "metadata": {},
   "source": [
    "## Data Dictionary"
   ]
  },
  {
   "cell_type": "markdown",
   "metadata": {},
   "source": [
    "| Column                         | Description                                                                                                    |\n",
    "|:--------------------------------|:----------------------------------------------------------------------------------------------------------------|\n",
    "| person\\_age                    | The person's age in years                                                                                      |\n",
    "| person\\_income                 | The person's anual income                                                                                      |\n",
    "| person\\_home\\_ownership        | The type of home ownership \\(RENT; OWN; MORTGAGE; OTHER\\)                                                      |\n",
    "| person\\_emp\\_length            | The person's employment length in years                                                                        |\n",
    "| loan\\_intent                   | The person's intent for the loan \\(PERSONAL, EDUCATION, MEDICAL, VENTURE, HOMEIMPROVEMENT, DEBTCONSOLIDATION\\) |\n",
    "| loan\\_grade                    | The loan grade \\(A, B, C, D, E, F, G\\)                                                                         |\n",
    "| loan\\_amnt                     | The loan amount                                                                                                |\n",
    "| loan\\_int\\_rate                | The loan interest rate                                                                                         |\n",
    "| loan\\_status                   | Shows whether the loan is currently in default with 1 being default and 0 being non\\-default                   |\n",
    "| loan\\_percent\\_income          | The percentage of person's income dedicated for the mortgage                                                   |\n",
    "| cb\\_person\\_default\\_on\\_file  | If the person has a default history \\(Yes; No\\)                                                                |\n",
    "| cb\\_person\\_cred\\_hist\\_length | The person's credit history                                                                                    |\n"
   ]
  },
  {
   "cell_type": "markdown",
   "metadata": {},
   "source": [
    "## Loading the data set"
   ]
  },
  {
   "cell_type": "code",
   "execution_count": 3,
   "metadata": {
    "ExecuteTime": {
     "end_time": "2020-10-06T13:52:27.569116Z",
     "start_time": "2020-10-06T13:52:27.488189Z"
    },
    "execution": {
     "iopub.execute_input": "2020-10-17T15:20:16.122578Z",
     "iopub.status.busy": "2020-10-17T15:20:16.122350Z",
     "iopub.status.idle": "2020-10-17T15:20:16.220529Z",
     "shell.execute_reply": "2020-10-17T15:20:16.219637Z",
     "shell.execute_reply.started": "2020-10-17T15:20:16.122554Z"
    }
   },
   "outputs": [
    {
     "data": {
      "text/html": [
       "<div>\n",
       "<style scoped>\n",
       "    .dataframe tbody tr th:only-of-type {\n",
       "        vertical-align: middle;\n",
       "    }\n",
       "\n",
       "    .dataframe tbody tr th {\n",
       "        vertical-align: top;\n",
       "    }\n",
       "\n",
       "    .dataframe thead th {\n",
       "        text-align: right;\n",
       "    }\n",
       "</style>\n",
       "<table border=\"1\" class=\"dataframe\">\n",
       "  <thead>\n",
       "    <tr style=\"text-align: right;\">\n",
       "      <th></th>\n",
       "      <th>person_age</th>\n",
       "      <th>person_income</th>\n",
       "      <th>person_home_ownership</th>\n",
       "      <th>person_emp_length</th>\n",
       "      <th>loan_intent</th>\n",
       "      <th>loan_grade</th>\n",
       "      <th>loan_amnt</th>\n",
       "      <th>loan_int_rate</th>\n",
       "      <th>loan_status</th>\n",
       "      <th>loan_percent_income</th>\n",
       "      <th>cb_person_default_on_file</th>\n",
       "      <th>cb_person_cred_hist_length</th>\n",
       "    </tr>\n",
       "  </thead>\n",
       "  <tbody>\n",
       "    <tr>\n",
       "      <th>0</th>\n",
       "      <td>22</td>\n",
       "      <td>59000</td>\n",
       "      <td>RENT</td>\n",
       "      <td>123.0</td>\n",
       "      <td>PERSONAL</td>\n",
       "      <td>D</td>\n",
       "      <td>35000</td>\n",
       "      <td>16.02</td>\n",
       "      <td>1</td>\n",
       "      <td>0.59</td>\n",
       "      <td>Y</td>\n",
       "      <td>3</td>\n",
       "    </tr>\n",
       "    <tr>\n",
       "      <th>1</th>\n",
       "      <td>21</td>\n",
       "      <td>9600</td>\n",
       "      <td>OWN</td>\n",
       "      <td>5.0</td>\n",
       "      <td>EDUCATION</td>\n",
       "      <td>B</td>\n",
       "      <td>1000</td>\n",
       "      <td>11.14</td>\n",
       "      <td>0</td>\n",
       "      <td>0.10</td>\n",
       "      <td>N</td>\n",
       "      <td>2</td>\n",
       "    </tr>\n",
       "    <tr>\n",
       "      <th>2</th>\n",
       "      <td>25</td>\n",
       "      <td>9600</td>\n",
       "      <td>MORTGAGE</td>\n",
       "      <td>1.0</td>\n",
       "      <td>MEDICAL</td>\n",
       "      <td>C</td>\n",
       "      <td>5500</td>\n",
       "      <td>12.87</td>\n",
       "      <td>1</td>\n",
       "      <td>0.57</td>\n",
       "      <td>N</td>\n",
       "      <td>3</td>\n",
       "    </tr>\n",
       "    <tr>\n",
       "      <th>3</th>\n",
       "      <td>23</td>\n",
       "      <td>65500</td>\n",
       "      <td>RENT</td>\n",
       "      <td>4.0</td>\n",
       "      <td>MEDICAL</td>\n",
       "      <td>C</td>\n",
       "      <td>35000</td>\n",
       "      <td>15.23</td>\n",
       "      <td>1</td>\n",
       "      <td>0.53</td>\n",
       "      <td>N</td>\n",
       "      <td>2</td>\n",
       "    </tr>\n",
       "    <tr>\n",
       "      <th>4</th>\n",
       "      <td>24</td>\n",
       "      <td>54400</td>\n",
       "      <td>RENT</td>\n",
       "      <td>8.0</td>\n",
       "      <td>MEDICAL</td>\n",
       "      <td>C</td>\n",
       "      <td>35000</td>\n",
       "      <td>14.27</td>\n",
       "      <td>1</td>\n",
       "      <td>0.55</td>\n",
       "      <td>Y</td>\n",
       "      <td>4</td>\n",
       "    </tr>\n",
       "  </tbody>\n",
       "</table>\n",
       "</div>"
      ],
      "text/plain": [
       "   person_age  person_income person_home_ownership  person_emp_length  \\\n",
       "0          22          59000                  RENT              123.0   \n",
       "1          21           9600                   OWN                5.0   \n",
       "2          25           9600              MORTGAGE                1.0   \n",
       "3          23          65500                  RENT                4.0   \n",
       "4          24          54400                  RENT                8.0   \n",
       "\n",
       "  loan_intent loan_grade  loan_amnt  loan_int_rate  loan_status  \\\n",
       "0    PERSONAL          D      35000          16.02            1   \n",
       "1   EDUCATION          B       1000          11.14            0   \n",
       "2     MEDICAL          C       5500          12.87            1   \n",
       "3     MEDICAL          C      35000          15.23            1   \n",
       "4     MEDICAL          C      35000          14.27            1   \n",
       "\n",
       "   loan_percent_income cb_person_default_on_file  cb_person_cred_hist_length  \n",
       "0                 0.59                         Y                           3  \n",
       "1                 0.10                         N                           2  \n",
       "2                 0.57                         N                           3  \n",
       "3                 0.53                         N                           2  \n",
       "4                 0.55                         Y                           4  "
      ]
     },
     "execution_count": 3,
     "metadata": {},
     "output_type": "execute_result"
    }
   ],
   "source": [
    "# loads data set\n",
    "df_cr_loan = pd.read_csv('/Users/aaryamehta/Desktop/CAPSTONE/credit_risk-master/data/raw_cr_loan2.csv')\n",
    "\n",
    "# checks the first five rows of the data\n",
    "df_cr_loan.head()"
   ]
  },
  {
   "cell_type": "code",
   "execution_count": 4,
   "metadata": {
    "ExecuteTime": {
     "end_time": "2020-10-06T13:52:27.588751Z",
     "start_time": "2020-10-06T13:52:27.572253Z"
    },
    "execution": {
     "iopub.execute_input": "2020-10-17T15:20:16.223835Z",
     "iopub.status.busy": "2020-10-17T15:20:16.223445Z",
     "iopub.status.idle": "2020-10-17T15:20:16.246352Z",
     "shell.execute_reply": "2020-10-17T15:20:16.245290Z",
     "shell.execute_reply.started": "2020-10-17T15:20:16.223780Z"
    }
   },
   "outputs": [
    {
     "name": "stdout",
     "output_type": "stream",
     "text": [
      "<class 'pandas.core.frame.DataFrame'>\n",
      "RangeIndex: 32581 entries, 0 to 32580\n",
      "Data columns (total 12 columns):\n",
      " #   Column                      Non-Null Count  Dtype  \n",
      "---  ------                      --------------  -----  \n",
      " 0   person_age                  32581 non-null  int64  \n",
      " 1   person_income               32581 non-null  int64  \n",
      " 2   person_home_ownership       32581 non-null  object \n",
      " 3   person_emp_length           31686 non-null  float64\n",
      " 4   loan_intent                 32581 non-null  object \n",
      " 5   loan_grade                  32581 non-null  object \n",
      " 6   loan_amnt                   32581 non-null  int64  \n",
      " 7   loan_int_rate               29465 non-null  float64\n",
      " 8   loan_status                 32581 non-null  int64  \n",
      " 9   loan_percent_income         32581 non-null  float64\n",
      " 10  cb_person_default_on_file   32581 non-null  object \n",
      " 11  cb_person_cred_hist_length  32581 non-null  int64  \n",
      "dtypes: float64(3), int64(5), object(4)\n",
      "memory usage: 3.0+ MB\n"
     ]
    }
   ],
   "source": [
    "# checks the structure of the data set\n",
    "df_cr_loan.info()"
   ]
  },
  {
   "cell_type": "markdown",
   "metadata": {},
   "source": [
    "## Descriptive statistics"
   ]
  },
  {
   "cell_type": "code",
   "execution_count": 5,
   "metadata": {
    "ExecuteTime": {
     "end_time": "2020-10-06T13:52:27.599805Z",
     "start_time": "2020-10-06T13:52:27.590929Z"
    },
    "execution": {
     "iopub.execute_input": "2020-10-17T15:20:16.248342Z",
     "iopub.status.busy": "2020-10-17T15:20:16.248017Z",
     "iopub.status.idle": "2020-10-17T15:20:16.260859Z",
     "shell.execute_reply": "2020-10-17T15:20:16.259417Z",
     "shell.execute_reply.started": "2020-10-17T15:20:16.248297Z"
    }
   },
   "outputs": [],
   "source": [
    "# creates a dataset for numerical attributes\n",
    "num_attributes = df_cr_loan.select_dtypes(include=['int64', 'float64'])\n",
    "\n",
    "# creates a dataset for categorical attributes\n",
    "cat_attributes = df_cr_loan.select_dtypes(exclude=['int64', 'float64'])"
   ]
  },
  {
   "cell_type": "code",
   "execution_count": 6,
   "metadata": {
    "ExecuteTime": {
     "end_time": "2020-10-06T13:52:27.615217Z",
     "start_time": "2020-10-06T13:52:27.602665Z"
    },
    "execution": {
     "iopub.execute_input": "2020-10-17T15:20:16.262829Z",
     "iopub.status.busy": "2020-10-17T15:20:16.262581Z",
     "iopub.status.idle": "2020-10-17T15:20:16.277634Z",
     "shell.execute_reply": "2020-10-17T15:20:16.276278Z",
     "shell.execute_reply.started": "2020-10-17T15:20:16.262802Z"
    }
   },
   "outputs": [
    {
     "data": {
      "text/html": [
       "<div>\n",
       "<style scoped>\n",
       "    .dataframe tbody tr th:only-of-type {\n",
       "        vertical-align: middle;\n",
       "    }\n",
       "\n",
       "    .dataframe tbody tr th {\n",
       "        vertical-align: top;\n",
       "    }\n",
       "\n",
       "    .dataframe thead th {\n",
       "        text-align: right;\n",
       "    }\n",
       "</style>\n",
       "<table border=\"1\" class=\"dataframe\">\n",
       "  <thead>\n",
       "    <tr style=\"text-align: right;\">\n",
       "      <th></th>\n",
       "      <th>person_age</th>\n",
       "      <th>person_income</th>\n",
       "      <th>person_emp_length</th>\n",
       "      <th>loan_amnt</th>\n",
       "      <th>loan_int_rate</th>\n",
       "      <th>loan_status</th>\n",
       "      <th>loan_percent_income</th>\n",
       "      <th>cb_person_cred_hist_length</th>\n",
       "    </tr>\n",
       "  </thead>\n",
       "  <tbody>\n",
       "    <tr>\n",
       "      <th>6629</th>\n",
       "      <td>26</td>\n",
       "      <td>51356</td>\n",
       "      <td>4.0</td>\n",
       "      <td>6000</td>\n",
       "      <td>5.79</td>\n",
       "      <td>0</td>\n",
       "      <td>0.12</td>\n",
       "      <td>4</td>\n",
       "    </tr>\n",
       "    <tr>\n",
       "      <th>3330</th>\n",
       "      <td>24</td>\n",
       "      <td>40000</td>\n",
       "      <td>1.0</td>\n",
       "      <td>3600</td>\n",
       "      <td>13.49</td>\n",
       "      <td>0</td>\n",
       "      <td>0.09</td>\n",
       "      <td>3</td>\n",
       "    </tr>\n",
       "  </tbody>\n",
       "</table>\n",
       "</div>"
      ],
      "text/plain": [
       "      person_age  person_income  person_emp_length  loan_amnt  loan_int_rate  \\\n",
       "6629          26          51356                4.0       6000           5.79   \n",
       "3330          24          40000                1.0       3600          13.49   \n",
       "\n",
       "      loan_status  loan_percent_income  cb_person_cred_hist_length  \n",
       "6629            0                 0.12                           4  \n",
       "3330            0                 0.09                           3  "
      ]
     },
     "execution_count": 6,
     "metadata": {},
     "output_type": "execute_result"
    }
   ],
   "source": [
    "# checks the operation\n",
    "num_attributes.sample(2)"
   ]
  },
  {
   "cell_type": "code",
   "execution_count": 7,
   "metadata": {
    "ExecuteTime": {
     "end_time": "2020-10-06T13:52:27.629966Z",
     "start_time": "2020-10-06T13:52:27.618208Z"
    },
    "execution": {
     "iopub.execute_input": "2020-10-17T15:20:16.279774Z",
     "iopub.status.busy": "2020-10-17T15:20:16.279313Z",
     "iopub.status.idle": "2020-10-17T15:20:16.294216Z",
     "shell.execute_reply": "2020-10-17T15:20:16.292795Z",
     "shell.execute_reply.started": "2020-10-17T15:20:16.279731Z"
    }
   },
   "outputs": [
    {
     "data": {
      "text/html": [
       "<div>\n",
       "<style scoped>\n",
       "    .dataframe tbody tr th:only-of-type {\n",
       "        vertical-align: middle;\n",
       "    }\n",
       "\n",
       "    .dataframe tbody tr th {\n",
       "        vertical-align: top;\n",
       "    }\n",
       "\n",
       "    .dataframe thead th {\n",
       "        text-align: right;\n",
       "    }\n",
       "</style>\n",
       "<table border=\"1\" class=\"dataframe\">\n",
       "  <thead>\n",
       "    <tr style=\"text-align: right;\">\n",
       "      <th></th>\n",
       "      <th>person_home_ownership</th>\n",
       "      <th>loan_intent</th>\n",
       "      <th>loan_grade</th>\n",
       "      <th>cb_person_default_on_file</th>\n",
       "    </tr>\n",
       "  </thead>\n",
       "  <tbody>\n",
       "    <tr>\n",
       "      <th>9485</th>\n",
       "      <td>MORTGAGE</td>\n",
       "      <td>MEDICAL</td>\n",
       "      <td>E</td>\n",
       "      <td>Y</td>\n",
       "    </tr>\n",
       "    <tr>\n",
       "      <th>19052</th>\n",
       "      <td>RENT</td>\n",
       "      <td>PERSONAL</td>\n",
       "      <td>A</td>\n",
       "      <td>N</td>\n",
       "    </tr>\n",
       "  </tbody>\n",
       "</table>\n",
       "</div>"
      ],
      "text/plain": [
       "      person_home_ownership loan_intent loan_grade cb_person_default_on_file\n",
       "9485               MORTGAGE     MEDICAL          E                         Y\n",
       "19052                  RENT    PERSONAL          A                         N"
      ]
     },
     "execution_count": 7,
     "metadata": {},
     "output_type": "execute_result"
    }
   ],
   "source": [
    "# checks the operation\n",
    "cat_attributes.sample(2)"
   ]
  },
  {
   "cell_type": "code",
   "execution_count": 8,
   "metadata": {
    "ExecuteTime": {
     "end_time": "2020-10-06T13:52:27.737325Z",
     "start_time": "2020-10-06T13:52:27.632681Z"
    },
    "execution": {
     "iopub.execute_input": "2020-10-17T15:20:16.298744Z",
     "iopub.status.busy": "2020-10-17T15:20:16.298466Z",
     "iopub.status.idle": "2020-10-17T15:20:16.427009Z",
     "shell.execute_reply": "2020-10-17T15:20:16.425823Z",
     "shell.execute_reply.started": "2020-10-17T15:20:16.298714Z"
    }
   },
   "outputs": [],
   "source": [
    "# central tendency: mean, median\n",
    "mean = pd.DataFrame(num_attributes.apply(np.mean)).T\n",
    "median = pd.DataFrame(num_attributes.apply(np.median)).T\n",
    "\n",
    "# distribution: std, min, max, range, skew, kurtosis\n",
    "std = pd.DataFrame(num_attributes.apply(np.std)).T\n",
    "min_value = pd.DataFrame(num_attributes.apply(min)).T\n",
    "max_value = pd.DataFrame(num_attributes.apply(max)).T\n",
    "range_value = pd.DataFrame(num_attributes.apply(lambda x: x.max() - x.min())).T\n",
    "skewness = pd.DataFrame(num_attributes.apply(lambda x: x.skew())).T\n",
    "kurtosis = pd.DataFrame(num_attributes.apply(lambda x: x.kurtosis())).T\n",
    "\n",
    "# concatenates\n",
    "summary_stats = pd.concat([min_value, max_value, range_value, mean, median, std, skewness, kurtosis]).T.reset_index()\n",
    "summary_stats.columns = ['attributes','min','max','range','mean','median','std','skewness','kurtosis']"
   ]
  },
  {
   "cell_type": "code",
   "execution_count": 9,
   "metadata": {
    "ExecuteTime": {
     "end_time": "2020-10-06T13:52:27.751913Z",
     "start_time": "2020-10-06T13:52:27.742060Z"
    },
    "execution": {
     "iopub.execute_input": "2020-10-17T15:20:16.430386Z",
     "iopub.status.busy": "2020-10-17T15:20:16.430112Z",
     "iopub.status.idle": "2020-10-17T15:20:16.444246Z",
     "shell.execute_reply": "2020-10-17T15:20:16.442779Z",
     "shell.execute_reply.started": "2020-10-17T15:20:16.430357Z"
    }
   },
   "outputs": [
    {
     "data": {
      "text/html": [
       "<div>\n",
       "<style scoped>\n",
       "    .dataframe tbody tr th:only-of-type {\n",
       "        vertical-align: middle;\n",
       "    }\n",
       "\n",
       "    .dataframe tbody tr th {\n",
       "        vertical-align: top;\n",
       "    }\n",
       "\n",
       "    .dataframe thead th {\n",
       "        text-align: right;\n",
       "    }\n",
       "</style>\n",
       "<table border=\"1\" class=\"dataframe\">\n",
       "  <thead>\n",
       "    <tr style=\"text-align: right;\">\n",
       "      <th></th>\n",
       "      <th>attributes</th>\n",
       "      <th>min</th>\n",
       "      <th>max</th>\n",
       "      <th>range</th>\n",
       "      <th>mean</th>\n",
       "      <th>median</th>\n",
       "      <th>std</th>\n",
       "      <th>skewness</th>\n",
       "      <th>kurtosis</th>\n",
       "    </tr>\n",
       "  </thead>\n",
       "  <tbody>\n",
       "    <tr>\n",
       "      <th>0</th>\n",
       "      <td>person_age</td>\n",
       "      <td>20.00</td>\n",
       "      <td>144.00</td>\n",
       "      <td>124.00</td>\n",
       "      <td>27.734600</td>\n",
       "      <td>26.00</td>\n",
       "      <td>6.347981</td>\n",
       "      <td>2.581393</td>\n",
       "      <td>18.560825</td>\n",
       "    </tr>\n",
       "    <tr>\n",
       "      <th>1</th>\n",
       "      <td>person_income</td>\n",
       "      <td>4000.00</td>\n",
       "      <td>6000000.00</td>\n",
       "      <td>5996000.00</td>\n",
       "      <td>66074.848470</td>\n",
       "      <td>55000.00</td>\n",
       "      <td>61982.167945</td>\n",
       "      <td>32.865349</td>\n",
       "      <td>2693.272776</td>\n",
       "    </tr>\n",
       "    <tr>\n",
       "      <th>2</th>\n",
       "      <td>person_emp_length</td>\n",
       "      <td>0.00</td>\n",
       "      <td>123.00</td>\n",
       "      <td>123.00</td>\n",
       "      <td>4.789686</td>\n",
       "      <td>NaN</td>\n",
       "      <td>4.142565</td>\n",
       "      <td>2.614455</td>\n",
       "      <td>43.722338</td>\n",
       "    </tr>\n",
       "    <tr>\n",
       "      <th>3</th>\n",
       "      <td>loan_amnt</td>\n",
       "      <td>500.00</td>\n",
       "      <td>35000.00</td>\n",
       "      <td>34500.00</td>\n",
       "      <td>9589.371106</td>\n",
       "      <td>8000.00</td>\n",
       "      <td>6321.989624</td>\n",
       "      <td>1.192477</td>\n",
       "      <td>1.423565</td>\n",
       "    </tr>\n",
       "    <tr>\n",
       "      <th>4</th>\n",
       "      <td>loan_int_rate</td>\n",
       "      <td>5.42</td>\n",
       "      <td>23.22</td>\n",
       "      <td>17.80</td>\n",
       "      <td>11.011695</td>\n",
       "      <td>NaN</td>\n",
       "      <td>3.240404</td>\n",
       "      <td>0.208550</td>\n",
       "      <td>-0.671609</td>\n",
       "    </tr>\n",
       "    <tr>\n",
       "      <th>5</th>\n",
       "      <td>loan_status</td>\n",
       "      <td>0.00</td>\n",
       "      <td>1.00</td>\n",
       "      <td>1.00</td>\n",
       "      <td>0.218164</td>\n",
       "      <td>0.00</td>\n",
       "      <td>0.412999</td>\n",
       "      <td>1.364888</td>\n",
       "      <td>-0.137088</td>\n",
       "    </tr>\n",
       "    <tr>\n",
       "      <th>6</th>\n",
       "      <td>loan_percent_income</td>\n",
       "      <td>0.00</td>\n",
       "      <td>0.83</td>\n",
       "      <td>0.83</td>\n",
       "      <td>0.170203</td>\n",
       "      <td>0.15</td>\n",
       "      <td>0.106780</td>\n",
       "      <td>1.064669</td>\n",
       "      <td>1.223687</td>\n",
       "    </tr>\n",
       "    <tr>\n",
       "      <th>7</th>\n",
       "      <td>cb_person_cred_hist_length</td>\n",
       "      <td>2.00</td>\n",
       "      <td>30.00</td>\n",
       "      <td>28.00</td>\n",
       "      <td>5.804211</td>\n",
       "      <td>4.00</td>\n",
       "      <td>4.054939</td>\n",
       "      <td>1.661790</td>\n",
       "      <td>3.716194</td>\n",
       "    </tr>\n",
       "  </tbody>\n",
       "</table>\n",
       "</div>"
      ],
      "text/plain": [
       "                   attributes      min         max       range          mean  \\\n",
       "0                  person_age    20.00      144.00      124.00     27.734600   \n",
       "1               person_income  4000.00  6000000.00  5996000.00  66074.848470   \n",
       "2           person_emp_length     0.00      123.00      123.00      4.789686   \n",
       "3                   loan_amnt   500.00    35000.00    34500.00   9589.371106   \n",
       "4               loan_int_rate     5.42       23.22       17.80     11.011695   \n",
       "5                 loan_status     0.00        1.00        1.00      0.218164   \n",
       "6         loan_percent_income     0.00        0.83        0.83      0.170203   \n",
       "7  cb_person_cred_hist_length     2.00       30.00       28.00      5.804211   \n",
       "\n",
       "     median           std   skewness     kurtosis  \n",
       "0     26.00      6.347981   2.581393    18.560825  \n",
       "1  55000.00  61982.167945  32.865349  2693.272776  \n",
       "2       NaN      4.142565   2.614455    43.722338  \n",
       "3   8000.00   6321.989624   1.192477     1.423565  \n",
       "4       NaN      3.240404   0.208550    -0.671609  \n",
       "5      0.00      0.412999   1.364888    -0.137088  \n",
       "6      0.15      0.106780   1.064669     1.223687  \n",
       "7      4.00      4.054939   1.661790     3.716194  "
      ]
     },
     "execution_count": 9,
     "metadata": {},
     "output_type": "execute_result"
    }
   ],
   "source": [
    "# checks the operations\n",
    "summary_stats"
   ]
  },
  {
   "cell_type": "markdown",
   "metadata": {},
   "source": [
    "As observed, we can notice the presence of outliers in `person_age` (`max = 144`) and `person_emp_length` (`max = 123`)."
   ]
  },
  {
   "cell_type": "code",
   "execution_count": 10,
   "metadata": {
    "ExecuteTime": {
     "end_time": "2020-10-06T13:52:28.705623Z",
     "start_time": "2020-10-06T13:52:27.755768Z"
    },
    "execution": {
     "iopub.execute_input": "2020-10-17T15:20:16.446414Z",
     "iopub.status.busy": "2020-10-17T15:20:16.446087Z",
     "iopub.status.idle": "2020-10-17T15:20:17.177599Z",
     "shell.execute_reply": "2020-10-17T15:20:17.176714Z",
     "shell.execute_reply.started": "2020-10-17T15:20:16.446381Z"
    }
   },
   "outputs": [
    {
     "data": {
      "image/png": "[encoded data removed]",
      "text/plain": [
       "<Figure size 1152x432 with 2 Axes>"
      ]
     },
     "metadata": {
      "needs_background": "light"
     },
     "output_type": "display_data"
    }
   ],
   "source": [
    "# looks at the distribution of loan amounts with a histogram\n",
    "plt.figure(figsize=(16, 6))\n",
    "\n",
    "plt.subplot(1,2,1)\n",
    "n, bins, patches = plt.hist(x=df_cr_loan['loan_amnt'], bins='auto', color='blue', alpha=0.7, rwidth=0.85)\n",
    "plt.title(\"nbins = auto\")\n",
    "plt.xlabel(\"Loan Amount\")\n",
    "\n",
    "plt.subplot(1,2,2)\n",
    "n, bins, patches = plt.hist(x=df_cr_loan['loan_amnt'], bins=25, color='blue', alpha=0.7, rwidth=0.85)\n",
    "plt.title(\"nbins = 25\")\n",
    "plt.xlabel(\"Loan Amount\")\n",
    "\n",
    "plt.show()"
   ]
  },
  {
   "cell_type": "markdown",
   "metadata": {},
   "source": [
    "### Categorical attributes"
   ]
  },
  {
   "cell_type": "code",
   "execution_count": 11,
   "metadata": {
    "ExecuteTime": {
     "end_time": "2020-10-06T13:52:28.720081Z",
     "start_time": "2020-10-06T13:52:28.707968Z"
    },
    "execution": {
     "iopub.execute_input": "2020-10-17T15:20:17.179205Z",
     "iopub.status.busy": "2020-10-17T15:20:17.178812Z",
     "iopub.status.idle": "2020-10-17T15:20:17.192250Z",
     "shell.execute_reply": "2020-10-17T15:20:17.191359Z",
     "shell.execute_reply.started": "2020-10-17T15:20:17.179173Z"
    }
   },
   "outputs": [
    {
     "data": {
      "text/plain": [
       "person_home_ownership        4\n",
       "loan_intent                  6\n",
       "loan_grade                   7\n",
       "cb_person_default_on_file    2\n",
       "dtype: int64"
      ]
     },
     "execution_count": 11,
     "metadata": {},
     "output_type": "execute_result"
    }
   ],
   "source": [
    "# checks how many types we have for each atribute\n",
    "cat_attributes.apply(lambda x: x.unique().shape[0])"
   ]
  },
  {
   "cell_type": "markdown",
   "metadata": {},
   "source": [
    "### Crosstab and pivot tables"
   ]
  },
  {
   "cell_type": "code",
   "execution_count": 12,
   "metadata": {
    "ExecuteTime": {
     "end_time": "2020-10-06T13:52:28.779622Z",
     "start_time": "2020-10-06T13:52:28.722226Z"
    },
    "execution": {
     "iopub.execute_input": "2020-10-17T15:20:17.194408Z",
     "iopub.status.busy": "2020-10-17T15:20:17.194140Z",
     "iopub.status.idle": "2020-10-17T15:20:17.269326Z",
     "shell.execute_reply": "2020-10-17T15:20:17.268271Z",
     "shell.execute_reply.started": "2020-10-17T15:20:17.194382Z"
    }
   },
   "outputs": [
    {
     "data": {
      "text/html": [
       "<div>\n",
       "<style scoped>\n",
       "    .dataframe tbody tr th:only-of-type {\n",
       "        vertical-align: middle;\n",
       "    }\n",
       "\n",
       "    .dataframe tbody tr th {\n",
       "        vertical-align: top;\n",
       "    }\n",
       "\n",
       "    .dataframe thead th {\n",
       "        text-align: right;\n",
       "    }\n",
       "</style>\n",
       "<table border=\"1\" class=\"dataframe\">\n",
       "  <thead>\n",
       "    <tr style=\"text-align: right;\">\n",
       "      <th>loan_status</th>\n",
       "      <th>0</th>\n",
       "      <th>1</th>\n",
       "      <th>All</th>\n",
       "    </tr>\n",
       "    <tr>\n",
       "      <th>loan_intent</th>\n",
       "      <th></th>\n",
       "      <th></th>\n",
       "      <th></th>\n",
       "    </tr>\n",
       "  </thead>\n",
       "  <tbody>\n",
       "    <tr>\n",
       "      <th>DEBTCONSOLIDATION</th>\n",
       "      <td>3722</td>\n",
       "      <td>1490</td>\n",
       "      <td>5212</td>\n",
       "    </tr>\n",
       "    <tr>\n",
       "      <th>EDUCATION</th>\n",
       "      <td>5342</td>\n",
       "      <td>1111</td>\n",
       "      <td>6453</td>\n",
       "    </tr>\n",
       "    <tr>\n",
       "      <th>HOMEIMPROVEMENT</th>\n",
       "      <td>2664</td>\n",
       "      <td>941</td>\n",
       "      <td>3605</td>\n",
       "    </tr>\n",
       "    <tr>\n",
       "      <th>MEDICAL</th>\n",
       "      <td>4450</td>\n",
       "      <td>1621</td>\n",
       "      <td>6071</td>\n",
       "    </tr>\n",
       "    <tr>\n",
       "      <th>PERSONAL</th>\n",
       "      <td>4423</td>\n",
       "      <td>1098</td>\n",
       "      <td>5521</td>\n",
       "    </tr>\n",
       "    <tr>\n",
       "      <th>VENTURE</th>\n",
       "      <td>4872</td>\n",
       "      <td>847</td>\n",
       "      <td>5719</td>\n",
       "    </tr>\n",
       "    <tr>\n",
       "      <th>All</th>\n",
       "      <td>25473</td>\n",
       "      <td>7108</td>\n",
       "      <td>32581</td>\n",
       "    </tr>\n",
       "  </tbody>\n",
       "</table>\n",
       "</div>"
      ],
      "text/plain": [
       "loan_status            0     1    All\n",
       "loan_intent                          \n",
       "DEBTCONSOLIDATION   3722  1490   5212\n",
       "EDUCATION           5342  1111   6453\n",
       "HOMEIMPROVEMENT     2664   941   3605\n",
       "MEDICAL             4450  1621   6071\n",
       "PERSONAL            4423  1098   5521\n",
       "VENTURE             4872   847   5719\n",
       "All                25473  7108  32581"
      ]
     },
     "execution_count": 12,
     "metadata": {},
     "output_type": "execute_result"
    }
   ],
   "source": [
    "# creates a cross table of the loan intent and loan status\n",
    "pd.crosstab(df_cr_loan['loan_intent'], df_cr_loan['loan_status'], margins=True)"
   ]
  },
  {
   "cell_type": "markdown",
   "metadata": {},
   "source": [
    "As observed: \n",
    "- `VENTURE` has the least number of defaults while `MEDICAL` has the most.\n",
    "- `EDUCATION` and `MEDICAL` are the greatest loan intents while `HOMEIMPROVEMENT` is the least.\n",
    "- `MEDICAL` and `DEBTCONSOLIDATION` are the intents where there are more defaults."
   ]
  },
  {
   "cell_type": "code",
   "execution_count": 13,
   "metadata": {
    "ExecuteTime": {
     "end_time": "2020-10-06T13:52:28.857248Z",
     "start_time": "2020-10-06T13:52:28.781676Z"
    },
    "execution": {
     "iopub.execute_input": "2020-10-17T15:20:17.271182Z",
     "iopub.status.busy": "2020-10-17T15:20:17.270910Z",
     "iopub.status.idle": "2020-10-17T15:20:17.356179Z",
     "shell.execute_reply": "2020-10-17T15:20:17.355267Z",
     "shell.execute_reply.started": "2020-10-17T15:20:17.271157Z"
    }
   },
   "outputs": [
    {
     "data": {
      "text/html": [
       "<div>\n",
       "<style scoped>\n",
       "    .dataframe tbody tr th:only-of-type {\n",
       "        vertical-align: middle;\n",
       "    }\n",
       "\n",
       "    .dataframe tbody tr th {\n",
       "        vertical-align: top;\n",
       "    }\n",
       "\n",
       "    .dataframe thead tr th {\n",
       "        text-align: left;\n",
       "    }\n",
       "\n",
       "    .dataframe thead tr:last-of-type th {\n",
       "        text-align: right;\n",
       "    }\n",
       "</style>\n",
       "<table border=\"1\" class=\"dataframe\">\n",
       "  <thead>\n",
       "    <tr>\n",
       "      <th>loan_status</th>\n",
       "      <th colspan=\"7\" halign=\"left\">0</th>\n",
       "      <th colspan=\"7\" halign=\"left\">1</th>\n",
       "      <th>All</th>\n",
       "    </tr>\n",
       "    <tr>\n",
       "      <th>loan_grade</th>\n",
       "      <th>A</th>\n",
       "      <th>B</th>\n",
       "      <th>C</th>\n",
       "      <th>D</th>\n",
       "      <th>E</th>\n",
       "      <th>F</th>\n",
       "      <th>G</th>\n",
       "      <th>A</th>\n",
       "      <th>B</th>\n",
       "      <th>C</th>\n",
       "      <th>D</th>\n",
       "      <th>E</th>\n",
       "      <th>F</th>\n",
       "      <th>G</th>\n",
       "      <th></th>\n",
       "    </tr>\n",
       "    <tr>\n",
       "      <th>person_home_ownership</th>\n",
       "      <th></th>\n",
       "      <th></th>\n",
       "      <th></th>\n",
       "      <th></th>\n",
       "      <th></th>\n",
       "      <th></th>\n",
       "      <th></th>\n",
       "      <th></th>\n",
       "      <th></th>\n",
       "      <th></th>\n",
       "      <th></th>\n",
       "      <th></th>\n",
       "      <th></th>\n",
       "      <th></th>\n",
       "      <th></th>\n",
       "    </tr>\n",
       "  </thead>\n",
       "  <tbody>\n",
       "    <tr>\n",
       "      <th>MORTGAGE</th>\n",
       "      <td>5219</td>\n",
       "      <td>3729</td>\n",
       "      <td>1934</td>\n",
       "      <td>658</td>\n",
       "      <td>178</td>\n",
       "      <td>36</td>\n",
       "      <td>0</td>\n",
       "      <td>239</td>\n",
       "      <td>324</td>\n",
       "      <td>321</td>\n",
       "      <td>553</td>\n",
       "      <td>161</td>\n",
       "      <td>61</td>\n",
       "      <td>31</td>\n",
       "      <td>13444</td>\n",
       "    </tr>\n",
       "    <tr>\n",
       "      <th>OTHER</th>\n",
       "      <td>23</td>\n",
       "      <td>29</td>\n",
       "      <td>11</td>\n",
       "      <td>9</td>\n",
       "      <td>2</td>\n",
       "      <td>0</td>\n",
       "      <td>0</td>\n",
       "      <td>3</td>\n",
       "      <td>5</td>\n",
       "      <td>6</td>\n",
       "      <td>11</td>\n",
       "      <td>6</td>\n",
       "      <td>2</td>\n",
       "      <td>0</td>\n",
       "      <td>107</td>\n",
       "    </tr>\n",
       "    <tr>\n",
       "      <th>OWN</th>\n",
       "      <td>860</td>\n",
       "      <td>770</td>\n",
       "      <td>464</td>\n",
       "      <td>264</td>\n",
       "      <td>26</td>\n",
       "      <td>7</td>\n",
       "      <td>0</td>\n",
       "      <td>66</td>\n",
       "      <td>34</td>\n",
       "      <td>31</td>\n",
       "      <td>18</td>\n",
       "      <td>31</td>\n",
       "      <td>8</td>\n",
       "      <td>5</td>\n",
       "      <td>2584</td>\n",
       "    </tr>\n",
       "    <tr>\n",
       "      <th>RENT</th>\n",
       "      <td>3602</td>\n",
       "      <td>4222</td>\n",
       "      <td>2710</td>\n",
       "      <td>554</td>\n",
       "      <td>137</td>\n",
       "      <td>28</td>\n",
       "      <td>1</td>\n",
       "      <td>765</td>\n",
       "      <td>1338</td>\n",
       "      <td>981</td>\n",
       "      <td>1559</td>\n",
       "      <td>423</td>\n",
       "      <td>99</td>\n",
       "      <td>27</td>\n",
       "      <td>16446</td>\n",
       "    </tr>\n",
       "    <tr>\n",
       "      <th>All</th>\n",
       "      <td>9704</td>\n",
       "      <td>8750</td>\n",
       "      <td>5119</td>\n",
       "      <td>1485</td>\n",
       "      <td>343</td>\n",
       "      <td>71</td>\n",
       "      <td>1</td>\n",
       "      <td>1073</td>\n",
       "      <td>1701</td>\n",
       "      <td>1339</td>\n",
       "      <td>2141</td>\n",
       "      <td>621</td>\n",
       "      <td>170</td>\n",
       "      <td>63</td>\n",
       "      <td>32581</td>\n",
       "    </tr>\n",
       "  </tbody>\n",
       "</table>\n",
       "</div>"
      ],
      "text/plain": [
       "loan_status               0                                   1              \\\n",
       "loan_grade                A     B     C     D    E   F  G     A     B     C   \n",
       "person_home_ownership                                                         \n",
       "MORTGAGE               5219  3729  1934   658  178  36  0   239   324   321   \n",
       "OTHER                    23    29    11     9    2   0  0     3     5     6   \n",
       "OWN                     860   770   464   264   26   7  0    66    34    31   \n",
       "RENT                   3602  4222  2710   554  137  28  1   765  1338   981   \n",
       "All                    9704  8750  5119  1485  343  71  1  1073  1701  1339   \n",
       "\n",
       "loan_status                                  All  \n",
       "loan_grade                D    E    F   G         \n",
       "person_home_ownership                             \n",
       "MORTGAGE                553  161   61  31  13444  \n",
       "OTHER                    11    6    2   0    107  \n",
       "OWN                      18   31    8   5   2584  \n",
       "RENT                   1559  423   99  27  16446  \n",
       "All                    2141  621  170  63  32581  "
      ]
     },
     "execution_count": 13,
     "metadata": {},
     "output_type": "execute_result"
    }
   ],
   "source": [
    "# creates a cross table of home ownership, loan status, and grade\n",
    "pd.crosstab(df_cr_loan['person_home_ownership'], [df_cr_loan['loan_status'], df_cr_loan['loan_grade']], \n",
    "            margins=True)"
   ]
  },
  {
   "cell_type": "code",
   "execution_count": 14,
   "metadata": {
    "ExecuteTime": {
     "end_time": "2020-10-06T13:52:28.879288Z",
     "start_time": "2020-10-06T13:52:28.859801Z"
    },
    "execution": {
     "iopub.execute_input": "2020-10-17T15:20:17.357524Z",
     "iopub.status.busy": "2020-10-17T15:20:17.357271Z",
     "iopub.status.idle": "2020-10-17T15:20:17.379766Z",
     "shell.execute_reply": "2020-10-17T15:20:17.379040Z",
     "shell.execute_reply.started": "2020-10-17T15:20:17.357482Z"
    }
   },
   "outputs": [
    {
     "data": {
      "text/html": [
       "<div>\n",
       "<style scoped>\n",
       "    .dataframe tbody tr th:only-of-type {\n",
       "        vertical-align: middle;\n",
       "    }\n",
       "\n",
       "    .dataframe tbody tr th {\n",
       "        vertical-align: top;\n",
       "    }\n",
       "\n",
       "    .dataframe thead th {\n",
       "        text-align: right;\n",
       "    }\n",
       "</style>\n",
       "<table border=\"1\" class=\"dataframe\">\n",
       "  <thead>\n",
       "    <tr style=\"text-align: right;\">\n",
       "      <th>loan_status</th>\n",
       "      <th>0</th>\n",
       "      <th>1</th>\n",
       "    </tr>\n",
       "    <tr>\n",
       "      <th>person_home_ownership</th>\n",
       "      <th></th>\n",
       "      <th></th>\n",
       "    </tr>\n",
       "  </thead>\n",
       "  <tbody>\n",
       "    <tr>\n",
       "      <th>MORTGAGE</th>\n",
       "      <td>0.146504</td>\n",
       "      <td>0.184882</td>\n",
       "    </tr>\n",
       "    <tr>\n",
       "      <th>OTHER</th>\n",
       "      <td>0.143784</td>\n",
       "      <td>0.300000</td>\n",
       "    </tr>\n",
       "    <tr>\n",
       "      <th>OWN</th>\n",
       "      <td>0.180013</td>\n",
       "      <td>0.297358</td>\n",
       "    </tr>\n",
       "    <tr>\n",
       "      <th>RENT</th>\n",
       "      <td>0.144611</td>\n",
       "      <td>0.264859</td>\n",
       "    </tr>\n",
       "  </tbody>\n",
       "</table>\n",
       "</div>"
      ],
      "text/plain": [
       "loan_status                   0         1\n",
       "person_home_ownership                    \n",
       "MORTGAGE               0.146504  0.184882\n",
       "OTHER                  0.143784  0.300000\n",
       "OWN                    0.180013  0.297358\n",
       "RENT                   0.144611  0.264859"
      ]
     },
     "execution_count": 14,
     "metadata": {},
     "output_type": "execute_result"
    }
   ],
   "source": [
    "# creates a cross table of home ownership, loan status, and average percent income\n",
    "pd.crosstab(df_cr_loan['person_home_ownership'], df_cr_loan['loan_status'],\n",
    "              values=df_cr_loan['loan_percent_income'], aggfunc='mean')"
   ]
  },
  {
   "cell_type": "code",
   "execution_count": 15,
   "metadata": {
    "ExecuteTime": {
     "end_time": "2020-10-06T13:52:29.060743Z",
     "start_time": "2020-10-06T13:52:28.881155Z"
    },
    "execution": {
     "iopub.execute_input": "2020-10-17T15:20:17.381325Z",
     "iopub.status.busy": "2020-10-17T15:20:17.381019Z",
     "iopub.status.idle": "2020-10-17T15:20:17.551975Z",
     "shell.execute_reply": "2020-10-17T15:20:17.551228Z",
     "shell.execute_reply.started": "2020-10-17T15:20:17.381281Z"
    }
   },
   "outputs": [
    {
     "data": {
      "image/png": "[encoded data removed]",
      "text/plain": [
       "<Figure size 432x720 with 1 Axes>"
      ]
     },
     "metadata": {
      "needs_background": "light"
     },
     "output_type": "display_data"
    }
   ],
   "source": [
    "# creates a box plot of percentage income by loan status\n",
    "plt.figure(figsize=(6, 10))\n",
    "\n",
    "plt.title('Average Percent Income by Loan Status')\n",
    "plt.suptitle('')\n",
    "\n",
    "sns.boxplot(x='loan_status' , y='loan_percent_income', data=df_cr_loan)\n",
    "\n",
    "plt.show()"
   ]
  },
  {
   "cell_type": "markdown",
   "metadata": {},
   "source": [
    " It looks like the **average percentage of income for defaults is higher**. This could indicate those recipients have a debt-to-income ratio that's already too high."
   ]
  },
  {
   "cell_type": "markdown",
   "metadata": {},
   "source": [
    "## Checking outliers"
   ]
  },
  {
   "cell_type": "markdown",
   "metadata": {},
   "source": [
    "### By scatterplot"
   ]
  },
  {
   "cell_type": "code",
   "execution_count": 16,
   "metadata": {
    "ExecuteTime": {
     "end_time": "2020-10-06T13:52:29.293058Z",
     "start_time": "2020-10-06T13:52:29.063313Z"
    },
    "execution": {
     "iopub.execute_input": "2020-10-17T15:20:17.553480Z",
     "iopub.status.busy": "2020-10-17T15:20:17.553112Z",
     "iopub.status.idle": "2020-10-17T15:20:17.840826Z",
     "shell.execute_reply": "2020-10-17T15:20:17.839991Z",
     "shell.execute_reply.started": "2020-10-17T15:20:17.553451Z"
    }
   },
   "outputs": [
    {
     "data": {
      "image/png": "[encoded data removed]",
      "text/plain": [
       "<Figure size 576x432 with 1 Axes>"
      ]
     },
     "metadata": {
      "needs_background": "light"
     },
     "output_type": "display_data"
    }
   ],
   "source": [
    "# plots a scatter plot of income against age\n",
    "plt.figure(figsize=(8, 6))\n",
    "\n",
    "plt.scatter(df_cr_loan['person_income'], df_cr_loan['person_age'], color='blue', alpha=0.25)\n",
    "plt.xlabel('Personal Income')\n",
    "plt.ylabel('Persone Age')\n",
    "\n",
    "# prevents scientific notation on axis\n",
    "plt.ticklabel_format(useOffset=False, style='plain')\n",
    "\n",
    "plt.show()"
   ]
  },
  {
   "cell_type": "markdown",
   "metadata": {},
   "source": [
    "We can already see a positive correlation with age and income, which could mean these older recipients are further along in their career and therefore earn higher salaries. There also appears to have outliers in the data."
   ]
  },
  {
   "cell_type": "markdown",
   "metadata": {},
   "source": [
    "### Finding outliers with cross tables"
   ]
  },
  {
   "cell_type": "markdown",
   "metadata": {},
   "source": [
    "Now we need to find and remove outliers we suspect might be in the data. We can use cross tables and aggregate functions. Have a look at the `person_emp_length` column. To detect outliers we can use functions like `min` and `max`."
   ]
  },
  {
   "cell_type": "code",
   "execution_count": 17,
   "metadata": {
    "ExecuteTime": {
     "end_time": "2020-10-06T13:52:29.316713Z",
     "start_time": "2020-10-06T13:52:29.295690Z"
    },
    "execution": {
     "iopub.execute_input": "2020-10-17T15:20:17.842979Z",
     "iopub.status.busy": "2020-10-17T15:20:17.842538Z",
     "iopub.status.idle": "2020-10-17T15:20:17.869830Z",
     "shell.execute_reply": "2020-10-17T15:20:17.868830Z",
     "shell.execute_reply.started": "2020-10-17T15:20:17.842899Z"
    }
   },
   "outputs": [
    {
     "data": {
      "text/html": [
       "<div>\n",
       "<style scoped>\n",
       "    .dataframe tbody tr th:only-of-type {\n",
       "        vertical-align: middle;\n",
       "    }\n",
       "\n",
       "    .dataframe tbody tr th {\n",
       "        vertical-align: top;\n",
       "    }\n",
       "\n",
       "    .dataframe thead th {\n",
       "        text-align: right;\n",
       "    }\n",
       "</style>\n",
       "<table border=\"1\" class=\"dataframe\">\n",
       "  <thead>\n",
       "    <tr style=\"text-align: right;\">\n",
       "      <th>person_home_ownership</th>\n",
       "      <th>MORTGAGE</th>\n",
       "      <th>OTHER</th>\n",
       "      <th>OWN</th>\n",
       "      <th>RENT</th>\n",
       "    </tr>\n",
       "    <tr>\n",
       "      <th>loan_status</th>\n",
       "      <th></th>\n",
       "      <th></th>\n",
       "      <th></th>\n",
       "      <th></th>\n",
       "    </tr>\n",
       "  </thead>\n",
       "  <tbody>\n",
       "    <tr>\n",
       "      <th>0</th>\n",
       "      <td>123.0</td>\n",
       "      <td>24.0</td>\n",
       "      <td>31.0</td>\n",
       "      <td>41.0</td>\n",
       "    </tr>\n",
       "    <tr>\n",
       "      <th>1</th>\n",
       "      <td>34.0</td>\n",
       "      <td>11.0</td>\n",
       "      <td>17.0</td>\n",
       "      <td>123.0</td>\n",
       "    </tr>\n",
       "  </tbody>\n",
       "</table>\n",
       "</div>"
      ],
      "text/plain": [
       "person_home_ownership  MORTGAGE  OTHER   OWN   RENT\n",
       "loan_status                                        \n",
       "0                         123.0   24.0  31.0   41.0\n",
       "1                          34.0   11.0  17.0  123.0"
      ]
     },
     "execution_count": 17,
     "metadata": {},
     "output_type": "execute_result"
    }
   ],
   "source": [
    "# creates the cross table for loan status, home ownership, and the max employment length\n",
    "pd.crosstab(df_cr_loan['loan_status'],df_cr_loan['person_home_ownership'],\n",
    "        values=df_cr_loan['person_emp_length'], aggfunc='max')"
   ]
  },
  {
   "cell_type": "markdown",
   "metadata": {},
   "source": [
    "It may not be possible for a person to have an employment length of less than `0` or greater than `60`. We can use cross tables to check the data and see if there are any instances of this!"
   ]
  },
  {
   "cell_type": "code",
   "execution_count": 18,
   "metadata": {
    "ExecuteTime": {
     "end_time": "2020-10-06T13:52:29.324794Z",
     "start_time": "2020-10-06T13:52:29.319035Z"
    },
    "execution": {
     "iopub.execute_input": "2020-10-17T15:20:17.871824Z",
     "iopub.status.busy": "2020-10-17T15:20:17.871473Z",
     "iopub.status.idle": "2020-10-17T15:20:17.878562Z",
     "shell.execute_reply": "2020-10-17T15:20:17.877370Z",
     "shell.execute_reply.started": "2020-10-17T15:20:17.871792Z"
    }
   },
   "outputs": [
    {
     "data": {
      "text/plain": [
       "Int64Index([0, 210], dtype='int64')"
      ]
     },
     "execution_count": 18,
     "metadata": {},
     "output_type": "execute_result"
    }
   ],
   "source": [
    "# creates an array of indices where employment length is greater than 60\n",
    "indices = df_cr_loan[df_cr_loan['person_emp_length'] > 60].index\n",
    "indices"
   ]
  },
  {
   "cell_type": "code",
   "execution_count": 19,
   "metadata": {
    "ExecuteTime": {
     "end_time": "2020-10-06T13:52:29.330797Z",
     "start_time": "2020-10-06T13:52:29.326964Z"
    },
    "execution": {
     "iopub.execute_input": "2020-10-17T15:20:17.880268Z",
     "iopub.status.busy": "2020-10-17T15:20:17.879903Z",
     "iopub.status.idle": "2020-10-17T15:20:17.886550Z",
     "shell.execute_reply": "2020-10-17T15:20:17.885457Z",
     "shell.execute_reply.started": "2020-10-17T15:20:17.880237Z"
    }
   },
   "outputs": [
    {
     "data": {
      "text/plain": [
       "2"
      ]
     },
     "execution_count": 19,
     "metadata": {},
     "output_type": "execute_result"
    }
   ],
   "source": [
    "# checks how many records presents employment length greater than 60\n",
    "len(indices)"
   ]
  },
  {
   "cell_type": "code",
   "execution_count": 20,
   "metadata": {
    "ExecuteTime": {
     "end_time": "2020-10-06T13:52:29.346203Z",
     "start_time": "2020-10-06T13:52:29.332994Z"
    },
    "execution": {
     "iopub.execute_input": "2020-10-17T15:20:17.888883Z",
     "iopub.status.busy": "2020-10-17T15:20:17.888435Z",
     "iopub.status.idle": "2020-10-17T15:20:17.904989Z",
     "shell.execute_reply": "2020-10-17T15:20:17.903665Z",
     "shell.execute_reply.started": "2020-10-17T15:20:17.888847Z"
    }
   },
   "outputs": [
    {
     "data": {
      "text/html": [
       "<div>\n",
       "<style scoped>\n",
       "    .dataframe tbody tr th:only-of-type {\n",
       "        vertical-align: middle;\n",
       "    }\n",
       "\n",
       "    .dataframe tbody tr th {\n",
       "        vertical-align: top;\n",
       "    }\n",
       "\n",
       "    .dataframe thead th {\n",
       "        text-align: right;\n",
       "    }\n",
       "</style>\n",
       "<table border=\"1\" class=\"dataframe\">\n",
       "  <thead>\n",
       "    <tr style=\"text-align: right;\">\n",
       "      <th></th>\n",
       "      <th>person_age</th>\n",
       "      <th>person_income</th>\n",
       "      <th>person_home_ownership</th>\n",
       "      <th>person_emp_length</th>\n",
       "      <th>loan_intent</th>\n",
       "      <th>loan_grade</th>\n",
       "      <th>loan_amnt</th>\n",
       "      <th>loan_int_rate</th>\n",
       "      <th>loan_status</th>\n",
       "      <th>loan_percent_income</th>\n",
       "      <th>cb_person_default_on_file</th>\n",
       "      <th>cb_person_cred_hist_length</th>\n",
       "    </tr>\n",
       "  </thead>\n",
       "  <tbody>\n",
       "    <tr>\n",
       "      <th>0</th>\n",
       "      <td>22</td>\n",
       "      <td>59000</td>\n",
       "      <td>RENT</td>\n",
       "      <td>123.0</td>\n",
       "      <td>PERSONAL</td>\n",
       "      <td>D</td>\n",
       "      <td>35000</td>\n",
       "      <td>16.02</td>\n",
       "      <td>1</td>\n",
       "      <td>0.59</td>\n",
       "      <td>Y</td>\n",
       "      <td>3</td>\n",
       "    </tr>\n",
       "    <tr>\n",
       "      <th>210</th>\n",
       "      <td>21</td>\n",
       "      <td>192000</td>\n",
       "      <td>MORTGAGE</td>\n",
       "      <td>123.0</td>\n",
       "      <td>VENTURE</td>\n",
       "      <td>A</td>\n",
       "      <td>20000</td>\n",
       "      <td>6.54</td>\n",
       "      <td>0</td>\n",
       "      <td>0.10</td>\n",
       "      <td>N</td>\n",
       "      <td>4</td>\n",
       "    </tr>\n",
       "  </tbody>\n",
       "</table>\n",
       "</div>"
      ],
      "text/plain": [
       "     person_age  person_income person_home_ownership  person_emp_length  \\\n",
       "0            22          59000                  RENT              123.0   \n",
       "210          21         192000              MORTGAGE              123.0   \n",
       "\n",
       "    loan_intent loan_grade  loan_amnt  loan_int_rate  loan_status  \\\n",
       "0      PERSONAL          D      35000          16.02            1   \n",
       "210     VENTURE          A      20000           6.54            0   \n",
       "\n",
       "     loan_percent_income cb_person_default_on_file  cb_person_cred_hist_length  \n",
       "0                   0.59                         Y                           3  \n",
       "210                 0.10                         N                           4  "
      ]
     },
     "execution_count": 20,
     "metadata": {},
     "output_type": "execute_result"
    }
   ],
   "source": [
    "# checks which records will be dropped\n",
    "df_cr_loan.loc[[0, 210]]"
   ]
  },
  {
   "cell_type": "code",
   "execution_count": 21,
   "metadata": {
    "ExecuteTime": {
     "end_time": "2020-10-06T13:52:29.356652Z",
     "start_time": "2020-10-06T13:52:29.348604Z"
    },
    "execution": {
     "iopub.execute_input": "2020-10-17T15:20:17.906819Z",
     "iopub.status.busy": "2020-10-17T15:20:17.906557Z",
     "iopub.status.idle": "2020-10-17T15:20:17.916078Z",
     "shell.execute_reply": "2020-10-17T15:20:17.915208Z",
     "shell.execute_reply.started": "2020-10-17T15:20:17.906791Z"
    }
   },
   "outputs": [],
   "source": [
    "# drops the records from the data based on the indices and create a new dataframe\n",
    "df_cr_loan_new = df_cr_loan.drop(indices)"
   ]
  },
  {
   "cell_type": "markdown",
   "metadata": {
    "ExecuteTime": {
     "end_time": "2020-08-14T18:10:18.708366Z",
     "start_time": "2020-08-14T18:10:18.682517Z"
    }
   },
   "source": [
    "Generally with credit data, key columns like `person_emp_length` are of high quality, but there is always room for error. With this in mind, we build our intuition for detecting outliers!"
   ]
  },
  {
   "cell_type": "markdown",
   "metadata": {},
   "source": [
    "### Visualizing credit outliers"
   ]
  },
  {
   "cell_type": "code",
   "execution_count": 22,
   "metadata": {
    "ExecuteTime": {
     "end_time": "2020-10-06T13:52:29.646620Z",
     "start_time": "2020-10-06T13:52:29.358692Z"
    },
    "execution": {
     "iopub.execute_input": "2020-10-17T15:20:17.918062Z",
     "iopub.status.busy": "2020-10-17T15:20:17.917674Z",
     "iopub.status.idle": "2020-10-17T15:20:18.263792Z",
     "shell.execute_reply": "2020-10-17T15:20:18.262931Z",
     "shell.execute_reply.started": "2020-10-17T15:20:17.918029Z"
    }
   },
   "outputs": [
    {
     "data": {
      "image/png": "[encoded data removed]",
      "text/plain": [
       "<Figure size 576x432 with 1 Axes>"
      ]
     },
     "metadata": {
      "needs_background": "light"
     },
     "output_type": "display_data"
    }
   ],
   "source": [
    "# creates the scatter plot for age and amount\n",
    "plt.figure(figsize=(8, 6))\n",
    "plt.scatter(df_cr_loan_new['person_age'], df_cr_loan_new['loan_amnt'], color='blue', alpha=0.25)\n",
    "plt.xlabel(\"Person Age\")\n",
    "plt.ylabel(\"Loan Amount\")\n",
    "plt.show()"
   ]
  },
  {
   "cell_type": "code",
   "execution_count": 23,
   "metadata": {
    "ExecuteTime": {
     "end_time": "2020-10-06T13:52:29.657846Z",
     "start_time": "2020-10-06T13:52:29.649093Z"
    },
    "execution": {
     "iopub.execute_input": "2020-10-17T15:20:18.271501Z",
     "iopub.status.busy": "2020-10-17T15:20:18.271231Z",
     "iopub.status.idle": "2020-10-17T15:20:18.280759Z",
     "shell.execute_reply": "2020-10-17T15:20:18.280112Z",
     "shell.execute_reply.started": "2020-10-17T15:20:18.271474Z"
    }
   },
   "outputs": [],
   "source": [
    "# uses pandas to drop the record from the data frame and create a new one\n",
    "df_cr_loan_new = df_cr_loan_new.drop(df_cr_loan_new[df_cr_loan_new['person_age'] > 100].index)"
   ]
  },
  {
   "cell_type": "code",
   "execution_count": 24,
   "metadata": {
    "ExecuteTime": {
     "end_time": "2020-10-06T13:52:30.407619Z",
     "start_time": "2020-10-06T13:52:29.660210Z"
    },
    "execution": {
     "iopub.execute_input": "2020-10-17T15:20:18.286968Z",
     "iopub.status.busy": "2020-10-17T15:20:18.286731Z",
     "iopub.status.idle": "2020-10-17T15:20:19.036111Z",
     "shell.execute_reply": "2020-10-17T15:20:19.034997Z",
     "shell.execute_reply.started": "2020-10-17T15:20:18.286942Z"
    }
   },
   "outputs": [
    {
     "data": {
      "image/png": "[encoded data removed]",
      "text/plain": [
       "<Figure size 576x432 with 1 Axes>"
      ]
     },
     "metadata": {
      "needs_background": "light"
     },
     "output_type": "display_data"
    }
   ],
   "source": [
    "# creates a scatter plot of age and interest rate\n",
    "colors = [\"blue\",\"red\"]\n",
    "plt.figure(figsize=(8, 6))\n",
    "plt.scatter(df_cr_loan_new['person_age'], df_cr_loan_new['loan_int_rate'],\n",
    "            c = df_cr_loan_new['loan_status'],\n",
    "            cmap = matplotlib.colors.ListedColormap(colors),\n",
    "            alpha=0.25)\n",
    "plt.xlabel(\"Person Age\")\n",
    "plt.ylabel(\"Loan Interest Rate\")\n",
    "plt.show()"
   ]
  },
  {
   "cell_type": "markdown",
   "metadata": {},
   "source": [
    "Notice that in the last plot we have `loan_status` as a label for colors. This shows a different color depending on the class. In this case, it's loan default and non-default, and **it looks like there are more defaults with high interest rates**."
   ]
  },
  {
   "cell_type": "markdown",
   "metadata": {},
   "source": [
    "## Checking missing data"
   ]
  },
  {
   "cell_type": "markdown",
   "metadata": {},
   "source": [
    "### Replacing missing credit data"
   ]
  },
  {
   "cell_type": "code",
   "execution_count": 25,
   "metadata": {
    "ExecuteTime": {
     "end_time": "2020-10-06T13:52:30.413094Z",
     "start_time": "2020-10-06T13:52:30.409494Z"
    },
    "execution": {
     "iopub.execute_input": "2020-10-17T15:20:19.038295Z",
     "iopub.status.busy": "2020-10-17T15:20:19.037725Z",
     "iopub.status.idle": "2020-10-17T15:20:19.043734Z",
     "shell.execute_reply": "2020-10-17T15:20:19.042614Z",
     "shell.execute_reply.started": "2020-10-17T15:20:19.038239Z"
    }
   },
   "outputs": [],
   "source": [
    "# overwrites the raw data set\n",
    "df_cr_loan = df_cr_loan_new.copy()"
   ]
  },
  {
   "cell_type": "code",
   "execution_count": 26,
   "metadata": {
    "ExecuteTime": {
     "end_time": "2020-10-06T13:52:30.426212Z",
     "start_time": "2020-10-06T13:52:30.415729Z"
    },
    "execution": {
     "iopub.execute_input": "2020-10-17T15:20:19.046073Z",
     "iopub.status.busy": "2020-10-17T15:20:19.045779Z",
     "iopub.status.idle": "2020-10-17T15:20:19.057873Z",
     "shell.execute_reply": "2020-10-17T15:20:19.056980Z",
     "shell.execute_reply.started": "2020-10-17T15:20:19.046042Z"
    }
   },
   "outputs": [
    {
     "data": {
      "text/plain": [
       "Index(['person_emp_length', 'loan_int_rate'], dtype='object')"
      ]
     },
     "execution_count": 26,
     "metadata": {},
     "output_type": "execute_result"
    }
   ],
   "source": [
    "# prints the cols that contain null values\n",
    "df_cr_loan.columns[df_cr_loan.isnull().any()]"
   ]
  },
  {
   "cell_type": "code",
   "execution_count": 27,
   "metadata": {
    "ExecuteTime": {
     "end_time": "2020-10-06T13:52:30.445544Z",
     "start_time": "2020-10-06T13:52:30.434688Z"
    },
    "execution": {
     "iopub.execute_input": "2020-10-17T15:20:19.059551Z",
     "iopub.status.busy": "2020-10-17T15:20:19.059281Z",
     "iopub.status.idle": "2020-10-17T15:20:19.073209Z",
     "shell.execute_reply": "2020-10-17T15:20:19.072398Z",
     "shell.execute_reply.started": "2020-10-17T15:20:19.059522Z"
    }
   },
   "outputs": [
    {
     "data": {
      "text/plain": [
       "person_age                       0\n",
       "person_income                    0\n",
       "person_home_ownership            0\n",
       "person_emp_length              895\n",
       "loan_intent                      0\n",
       "loan_grade                       0\n",
       "loan_amnt                        0\n",
       "loan_int_rate                 3115\n",
       "loan_status                      0\n",
       "loan_percent_income              0\n",
       "cb_person_default_on_file        0\n",
       "cb_person_cred_hist_length       0\n",
       "dtype: int64"
      ]
     },
     "execution_count": 27,
     "metadata": {},
     "output_type": "execute_result"
    }
   ],
   "source": [
    "# checks how many null records for each column \n",
    "df_cr_loan.isnull().sum()"
   ]
  },
  {
   "cell_type": "code",
   "execution_count": 28,
   "metadata": {
    "ExecuteTime": {
     "end_time": "2020-10-06T13:52:30.466106Z",
     "start_time": "2020-10-06T13:52:30.452149Z"
    },
    "execution": {
     "iopub.execute_input": "2020-10-17T15:20:19.074945Z",
     "iopub.status.busy": "2020-10-17T15:20:19.074700Z",
     "iopub.status.idle": "2020-10-17T15:20:19.094747Z",
     "shell.execute_reply": "2020-10-17T15:20:19.093499Z",
     "shell.execute_reply.started": "2020-10-17T15:20:19.074918Z"
    }
   },
   "outputs": [
    {
     "data": {
      "text/html": [
       "<div>\n",
       "<style scoped>\n",
       "    .dataframe tbody tr th:only-of-type {\n",
       "        vertical-align: middle;\n",
       "    }\n",
       "\n",
       "    .dataframe tbody tr th {\n",
       "        vertical-align: top;\n",
       "    }\n",
       "\n",
       "    .dataframe thead th {\n",
       "        text-align: right;\n",
       "    }\n",
       "</style>\n",
       "<table border=\"1\" class=\"dataframe\">\n",
       "  <thead>\n",
       "    <tr style=\"text-align: right;\">\n",
       "      <th></th>\n",
       "      <th>person_age</th>\n",
       "      <th>person_income</th>\n",
       "      <th>person_home_ownership</th>\n",
       "      <th>person_emp_length</th>\n",
       "      <th>loan_intent</th>\n",
       "      <th>loan_grade</th>\n",
       "      <th>loan_amnt</th>\n",
       "      <th>loan_int_rate</th>\n",
       "      <th>loan_status</th>\n",
       "      <th>loan_percent_income</th>\n",
       "      <th>cb_person_default_on_file</th>\n",
       "      <th>cb_person_cred_hist_length</th>\n",
       "    </tr>\n",
       "  </thead>\n",
       "  <tbody>\n",
       "    <tr>\n",
       "      <th>105</th>\n",
       "      <td>22</td>\n",
       "      <td>12600</td>\n",
       "      <td>MORTGAGE</td>\n",
       "      <td>NaN</td>\n",
       "      <td>PERSONAL</td>\n",
       "      <td>A</td>\n",
       "      <td>2000</td>\n",
       "      <td>5.42</td>\n",
       "      <td>1</td>\n",
       "      <td>0.16</td>\n",
       "      <td>N</td>\n",
       "      <td>4</td>\n",
       "    </tr>\n",
       "    <tr>\n",
       "      <th>222</th>\n",
       "      <td>24</td>\n",
       "      <td>185000</td>\n",
       "      <td>MORTGAGE</td>\n",
       "      <td>NaN</td>\n",
       "      <td>EDUCATION</td>\n",
       "      <td>B</td>\n",
       "      <td>35000</td>\n",
       "      <td>12.42</td>\n",
       "      <td>0</td>\n",
       "      <td>0.19</td>\n",
       "      <td>N</td>\n",
       "      <td>2</td>\n",
       "    </tr>\n",
       "    <tr>\n",
       "      <th>379</th>\n",
       "      <td>24</td>\n",
       "      <td>16800</td>\n",
       "      <td>MORTGAGE</td>\n",
       "      <td>NaN</td>\n",
       "      <td>DEBTCONSOLIDATION</td>\n",
       "      <td>A</td>\n",
       "      <td>3900</td>\n",
       "      <td>NaN</td>\n",
       "      <td>1</td>\n",
       "      <td>0.23</td>\n",
       "      <td>N</td>\n",
       "      <td>3</td>\n",
       "    </tr>\n",
       "    <tr>\n",
       "      <th>407</th>\n",
       "      <td>25</td>\n",
       "      <td>52000</td>\n",
       "      <td>RENT</td>\n",
       "      <td>NaN</td>\n",
       "      <td>PERSONAL</td>\n",
       "      <td>B</td>\n",
       "      <td>24000</td>\n",
       "      <td>10.74</td>\n",
       "      <td>1</td>\n",
       "      <td>0.46</td>\n",
       "      <td>N</td>\n",
       "      <td>2</td>\n",
       "    </tr>\n",
       "    <tr>\n",
       "      <th>408</th>\n",
       "      <td>22</td>\n",
       "      <td>17352</td>\n",
       "      <td>MORTGAGE</td>\n",
       "      <td>NaN</td>\n",
       "      <td>EDUCATION</td>\n",
       "      <td>C</td>\n",
       "      <td>2250</td>\n",
       "      <td>15.27</td>\n",
       "      <td>0</td>\n",
       "      <td>0.13</td>\n",
       "      <td>Y</td>\n",
       "      <td>3</td>\n",
       "    </tr>\n",
       "  </tbody>\n",
       "</table>\n",
       "</div>"
      ],
      "text/plain": [
       "     person_age  person_income person_home_ownership  person_emp_length  \\\n",
       "105          22          12600              MORTGAGE                NaN   \n",
       "222          24         185000              MORTGAGE                NaN   \n",
       "379          24          16800              MORTGAGE                NaN   \n",
       "407          25          52000                  RENT                NaN   \n",
       "408          22          17352              MORTGAGE                NaN   \n",
       "\n",
       "           loan_intent loan_grade  loan_amnt  loan_int_rate  loan_status  \\\n",
       "105           PERSONAL          A       2000           5.42            1   \n",
       "222          EDUCATION          B      35000          12.42            0   \n",
       "379  DEBTCONSOLIDATION          A       3900            NaN            1   \n",
       "407           PERSONAL          B      24000          10.74            1   \n",
       "408          EDUCATION          C       2250          15.27            0   \n",
       "\n",
       "     loan_percent_income cb_person_default_on_file  cb_person_cred_hist_length  \n",
       "105                 0.16                         N                           4  \n",
       "222                 0.19                         N                           2  \n",
       "379                 0.23                         N                           3  \n",
       "407                 0.46                         N                           2  \n",
       "408                 0.13                         Y                           3  "
      ]
     },
     "execution_count": 28,
     "metadata": {},
     "output_type": "execute_result"
    }
   ],
   "source": [
    "# prints the top five rows with nulls for employment length\n",
    "df_cr_loan[df_cr_loan['person_emp_length'].isnull()].head()"
   ]
  },
  {
   "cell_type": "markdown",
   "metadata": {},
   "source": [
    "We can use several different functions like `mean()` and `median()` to replace missing data. The goal here is to keep as much of our data as we can! It's also important to check the distribution of that feature to see if it changed."
   ]
  },
  {
   "cell_type": "code",
   "execution_count": 29,
   "metadata": {
    "ExecuteTime": {
     "end_time": "2020-10-06T13:52:30.473580Z",
     "start_time": "2020-10-06T13:52:30.468120Z"
    },
    "execution": {
     "iopub.execute_input": "2020-10-17T15:20:19.097094Z",
     "iopub.status.busy": "2020-10-17T15:20:19.096779Z",
     "iopub.status.idle": "2020-10-17T15:20:19.104529Z",
     "shell.execute_reply": "2020-10-17T15:20:19.103435Z",
     "shell.execute_reply.started": "2020-10-17T15:20:19.097061Z"
    }
   },
   "outputs": [],
   "source": [
    "# imputes the null values with the median value for all employment lengths\n",
    "df_cr_loan['person_emp_length'].fillna((df_cr_loan['person_emp_length'].median()), inplace=True)"
   ]
  },
  {
   "cell_type": "code",
   "execution_count": 30,
   "metadata": {
    "ExecuteTime": {
     "end_time": "2020-10-06T13:52:31.521574Z",
     "start_time": "2020-10-06T13:52:30.476160Z"
    },
    "execution": {
     "iopub.execute_input": "2020-10-17T15:20:19.106779Z",
     "iopub.status.busy": "2020-10-17T15:20:19.106283Z",
     "iopub.status.idle": "2020-10-17T15:20:19.747995Z",
     "shell.execute_reply": "2020-10-17T15:20:19.746983Z",
     "shell.execute_reply.started": "2020-10-17T15:20:19.106742Z"
    }
   },
   "outputs": [
    {
     "data": {
      "image/png": "[encoded data removed]",
      "text/plain": [
       "<Figure size 1152x432 with 2 Axes>"
      ]
     },
     "metadata": {
      "needs_background": "light"
     },
     "output_type": "display_data"
    }
   ],
   "source": [
    "# creates a histogram of employment length\n",
    "plt.figure(figsize=(16, 6))\n",
    "\n",
    "plt.subplot(1,2,1)\n",
    "n, bins, patches = plt.hist(df_cr_loan['person_emp_length'], bins='auto', color='blue')\n",
    "plt.xlabel(\"Person Employment Length\")\n",
    "plt.title(\"nbins = auto\")\n",
    "\n",
    "plt.subplot(1,2,2)\n",
    "n, bins, patches = plt.hist(df_cr_loan['person_emp_length'], bins=25, color='blue')\n",
    "plt.xlabel(\"Person Employment Length\")\n",
    "plt.title(\"nbins = 25\")\n",
    "\n",
    "plt.show()"
   ]
  },
  {
   "cell_type": "markdown",
   "metadata": {},
   "source": [
    "### Removing missing data"
   ]
  },
  {
   "cell_type": "code",
   "execution_count": 31,
   "metadata": {
    "ExecuteTime": {
     "end_time": "2020-10-06T13:52:31.528617Z",
     "start_time": "2020-10-06T13:52:31.524387Z"
    },
    "execution": {
     "iopub.execute_input": "2020-10-17T15:20:19.749809Z",
     "iopub.status.busy": "2020-10-17T15:20:19.749401Z",
     "iopub.status.idle": "2020-10-17T15:20:19.754416Z",
     "shell.execute_reply": "2020-10-17T15:20:19.753683Z",
     "shell.execute_reply.started": "2020-10-17T15:20:19.749745Z"
    }
   },
   "outputs": [
    {
     "name": "stdout",
     "output_type": "stream",
     "text": [
      "3115\n"
     ]
    }
   ],
   "source": [
    "# prints the number of nulls\n",
    "print(df_cr_loan['loan_int_rate'].isnull().sum())"
   ]
  },
  {
   "cell_type": "code",
   "execution_count": 32,
   "metadata": {
    "ExecuteTime": {
     "end_time": "2020-10-06T13:52:31.543487Z",
     "start_time": "2020-10-06T13:52:31.531846Z"
    },
    "execution": {
     "iopub.execute_input": "2020-10-17T15:20:19.756450Z",
     "iopub.status.busy": "2020-10-17T15:20:19.756124Z",
     "iopub.status.idle": "2020-10-17T15:20:19.769781Z",
     "shell.execute_reply": "2020-10-17T15:20:19.768872Z",
     "shell.execute_reply.started": "2020-10-17T15:20:19.756395Z"
    }
   },
   "outputs": [],
   "source": [
    "# stores the array on indices\n",
    "indices = df_cr_loan[df_cr_loan['loan_int_rate'].isnull()].index\n",
    "\n",
    "# saves the new data without missing data\n",
    "df_cr_loan_clean = df_cr_loan.drop(indices)"
   ]
  },
  {
   "cell_type": "markdown",
   "metadata": {},
   "source": [
    "### Missing data intuition"
   ]
  },
  {
   "cell_type": "code",
   "execution_count": 33,
   "metadata": {
    "ExecuteTime": {
     "end_time": "2020-10-06T13:52:31.554982Z",
     "start_time": "2020-10-06T13:52:31.545783Z"
    },
    "execution": {
     "iopub.execute_input": "2020-10-17T15:20:19.771829Z",
     "iopub.status.busy": "2020-10-17T15:20:19.771342Z",
     "iopub.status.idle": "2020-10-17T15:20:19.782286Z",
     "shell.execute_reply": "2020-10-17T15:20:19.781181Z",
     "shell.execute_reply.started": "2020-10-17T15:20:19.771738Z"
    }
   },
   "outputs": [
    {
     "data": {
      "text/plain": [
       "RENT        14890\n",
       "MORTGAGE    12119\n",
       "OWN          2356\n",
       "OTHER          94\n",
       "Name: person_home_ownership, dtype: int64"
      ]
     },
     "execution_count": 33,
     "metadata": {},
     "output_type": "execute_result"
    }
   ],
   "source": [
    "# counts the number of records for each unique value\n",
    "df_cr_loan_clean['person_home_ownership'].value_counts()"
   ]
  },
  {
   "cell_type": "code",
   "execution_count": 34,
   "metadata": {
    "ExecuteTime": {
     "end_time": "2020-10-06T13:52:31.569894Z",
     "start_time": "2020-10-06T13:52:31.557151Z"
    },
    "execution": {
     "iopub.execute_input": "2020-10-17T15:20:19.784436Z",
     "iopub.status.busy": "2020-10-17T15:20:19.783915Z",
     "iopub.status.idle": "2020-10-17T15:20:19.798984Z",
     "shell.execute_reply": "2020-10-17T15:20:19.798118Z",
     "shell.execute_reply.started": "2020-10-17T15:20:19.784399Z"
    }
   },
   "outputs": [
    {
     "data": {
      "text/plain": [
       "person_age                    0\n",
       "person_income                 0\n",
       "person_home_ownership         0\n",
       "person_emp_length             0\n",
       "loan_intent                   0\n",
       "loan_grade                    0\n",
       "loan_amnt                     0\n",
       "loan_int_rate                 0\n",
       "loan_status                   0\n",
       "loan_percent_income           0\n",
       "cb_person_default_on_file     0\n",
       "cb_person_cred_hist_length    0\n",
       "dtype: int64"
      ]
     },
     "execution_count": 34,
     "metadata": {},
     "output_type": "execute_result"
    }
   ],
   "source": [
    "# checks the cleaned data set\n",
    "df_cr_loan_clean.isna().sum()"
   ]
  },
  {
   "cell_type": "markdown",
   "metadata": {},
   "source": [
    "## Checkpoint"
   ]
  },
  {
   "cell_type": "code",
   "execution_count": 36,
   "metadata": {
    "ExecuteTime": {
     "end_time": "2020-10-06T13:52:31.740359Z",
     "start_time": "2020-10-06T13:52:31.572584Z"
    },
    "execution": {
     "iopub.execute_input": "2020-10-17T15:20:19.800690Z",
     "iopub.status.busy": "2020-10-17T15:20:19.800192Z",
     "iopub.status.idle": "2020-10-17T15:20:20.004325Z",
     "shell.execute_reply": "2020-10-17T15:20:20.003334Z",
     "shell.execute_reply.started": "2020-10-17T15:20:19.800651Z"
    }
   },
   "outputs": [],
   "source": [
    "# saves the data set state\n",
    "df_cr_loan_clean.to_csv('/Users/aaryamehta/Desktop/CAPSTONE/credit_risk-master/data/cr_loan_clean.csv', index=False)"
   ]
  },
  {
   "cell_type": "markdown",
   "metadata": {
    "collapsed": "true"
   },
   "source": [
    "# Outlining the hypotheses"
   ]
  },
  {
   "cell_type": "markdown",
   "metadata": {},
   "source": [
    "## Creating hypotheses"
   ]
  },
  {
   "cell_type": "markdown",
   "metadata": {},
   "source": [
    "### 1 Person Age"
   ]
  },
  {
   "cell_type": "markdown",
   "metadata": {},
   "source": [
    "1. There are more defaults for young people."
   ]
  },
  {
   "cell_type": "markdown",
   "metadata": {},
   "source": [
    "### 2 Person Income"
   ]
  },
  {
   "cell_type": "markdown",
   "metadata": {},
   "source": [
    "1. People who default have lower income than people who not default.\n",
    "2. People who allocate higher percentage of income to the loan tend to default more than people who allocate less."
   ]
  },
  {
   "cell_type": "markdown",
   "metadata": {},
   "source": [
    "### 3 Home ownership"
   ]
  },
  {
   "cell_type": "markdown",
   "metadata": {},
   "source": [
    "1. Mortgage have more cases of default, followed by rent and own."
   ]
  },
  {
   "cell_type": "markdown",
   "metadata": {},
   "source": [
    "### 4 Employment Length"
   ]
  },
  {
   "cell_type": "markdown",
   "metadata": {},
   "source": [
    "1. The are fewer cases of default for people with long employment length."
   ]
  },
  {
   "cell_type": "markdown",
   "metadata": {},
   "source": [
    "### 5 Default on file"
   ]
  },
  {
   "cell_type": "markdown",
   "metadata": {},
   "source": [
    "1. There are more cases of default for people having history of default."
   ]
  },
  {
   "cell_type": "markdown",
   "metadata": {},
   "source": [
    "### 6 Credit history length"
   ]
  },
  {
   "cell_type": "markdown",
   "metadata": {},
   "source": [
    "1. There are fewer cases of default for people having longer credit history length."
   ]
  },
  {
   "cell_type": "markdown",
   "metadata": {},
   "source": [
    "### 7 Loan intent"
   ]
  },
  {
   "cell_type": "markdown",
   "metadata": {},
   "source": [
    "1. There are more cases of default for personal, followed by education, medical, home improvement and debt consolidation.\n",
    "2. The least cases of default are for venture."
   ]
  },
  {
   "cell_type": "markdown",
   "metadata": {},
   "source": [
    "### 8 Loan grade"
   ]
  },
  {
   "cell_type": "markdown",
   "metadata": {},
   "source": [
    "1. The higher the grade, the fewer are the cases of default."
   ]
  },
  {
   "cell_type": "markdown",
   "metadata": {},
   "source": [
    "### 9 Loan amount"
   ]
  },
  {
   "cell_type": "markdown",
   "metadata": {},
   "source": [
    "1. The amount median for default cases is higher than for non-default."
   ]
  },
  {
   "cell_type": "markdown",
   "metadata": {},
   "source": [
    "### 10 Loan interest rate"
   ]
  },
  {
   "cell_type": "markdown",
   "metadata": {},
   "source": [
    "1. The higher the interest rate, the higher is the number of default cases."
   ]
  },
  {
   "cell_type": "markdown",
   "metadata": {
    "collapsed": "true"
   },
   "source": [
    "#  Exploratory data analysis"
   ]
  },
  {
   "cell_type": "markdown",
   "metadata": {},
   "source": [
    "##  Loading data set"
   ]
  },
  {
   "cell_type": "code",
   "execution_count": 37,
   "metadata": {
    "ExecuteTime": {
     "end_time": "2020-10-06T13:52:31.790300Z",
     "start_time": "2020-10-06T13:52:31.742674Z"
    },
    "execution": {
     "iopub.execute_input": "2020-10-17T15:20:20.006398Z",
     "iopub.status.busy": "2020-10-17T15:20:20.005918Z",
     "iopub.status.idle": "2020-10-17T15:20:20.072082Z",
     "shell.execute_reply": "2020-10-17T15:20:20.070366Z",
     "shell.execute_reply.started": "2020-10-17T15:20:20.006335Z"
    }
   },
   "outputs": [
    {
     "ename": "FileNotFoundError",
     "evalue": "[Errno 2] No such file or directory: 'data/cr_loan_clean.csv'",
     "output_type": "error",
     "traceback": [
      "\u001b[0;31m---------------------------------------------------------------------------\u001b[0m",
      "\u001b[0;31mFileNotFoundError\u001b[0m                         Traceback (most recent call last)",
      "Input \u001b[0;32mIn [37]\u001b[0m, in \u001b[0;36m<cell line: 2>\u001b[0;34m()\u001b[0m\n\u001b[1;32m      1\u001b[0m \u001b[38;5;66;03m# loads data set\u001b[39;00m\n\u001b[0;32m----> 2\u001b[0m df_cr_loan \u001b[38;5;241m=\u001b[39m \u001b[43mpd\u001b[49m\u001b[38;5;241;43m.\u001b[39;49m\u001b[43mread_csv\u001b[49m\u001b[43m(\u001b[49m\u001b[38;5;124;43m'\u001b[39;49m\u001b[38;5;124;43mdata/cr_loan_clean.csv\u001b[39;49m\u001b[38;5;124;43m'\u001b[39;49m\u001b[43m)\u001b[49m\n\u001b[1;32m      3\u001b[0m df_cr_loan\u001b[38;5;241m.\u001b[39mhead()\n",
      "File \u001b[0;32m~/opt/anaconda3/lib/python3.9/site-packages/pandas/util/_decorators.py:311\u001b[0m, in \u001b[0;36mdeprecate_nonkeyword_arguments.<locals>.decorate.<locals>.wrapper\u001b[0;34m(*args, **kwargs)\u001b[0m\n\u001b[1;32m    305\u001b[0m \u001b[38;5;28;01mif\u001b[39;00m \u001b[38;5;28mlen\u001b[39m(args) \u001b[38;5;241m>\u001b[39m num_allow_args:\n\u001b[1;32m    306\u001b[0m     warnings\u001b[38;5;241m.\u001b[39mwarn(\n\u001b[1;32m    307\u001b[0m         msg\u001b[38;5;241m.\u001b[39mformat(arguments\u001b[38;5;241m=\u001b[39marguments),\n\u001b[1;32m    308\u001b[0m         \u001b[38;5;167;01mFutureWarning\u001b[39;00m,\n\u001b[1;32m    309\u001b[0m         stacklevel\u001b[38;5;241m=\u001b[39mstacklevel,\n\u001b[1;32m    310\u001b[0m     )\n\u001b[0;32m--> 311\u001b[0m \u001b[38;5;28;01mreturn\u001b[39;00m \u001b[43mfunc\u001b[49m\u001b[43m(\u001b[49m\u001b[38;5;241;43m*\u001b[39;49m\u001b[43margs\u001b[49m\u001b[43m,\u001b[49m\u001b[43m \u001b[49m\u001b[38;5;241;43m*\u001b[39;49m\u001b[38;5;241;43m*\u001b[39;49m\u001b[43mkwargs\u001b[49m\u001b[43m)\u001b[49m\n",
      "File \u001b[0;32m~/opt/anaconda3/lib/python3.9/site-packages/pandas/io/parsers/readers.py:680\u001b[0m, in \u001b[0;36mread_csv\u001b[0;34m(filepath_or_buffer, sep, delimiter, header, names, index_col, usecols, squeeze, prefix, mangle_dupe_cols, dtype, engine, converters, true_values, false_values, skipinitialspace, skiprows, skipfooter, nrows, na_values, keep_default_na, na_filter, verbose, skip_blank_lines, parse_dates, infer_datetime_format, keep_date_col, date_parser, dayfirst, cache_dates, iterator, chunksize, compression, thousands, decimal, lineterminator, quotechar, quoting, doublequote, escapechar, comment, encoding, encoding_errors, dialect, error_bad_lines, warn_bad_lines, on_bad_lines, delim_whitespace, low_memory, memory_map, float_precision, storage_options)\u001b[0m\n\u001b[1;32m    665\u001b[0m kwds_defaults \u001b[38;5;241m=\u001b[39m _refine_defaults_read(\n\u001b[1;32m    666\u001b[0m     dialect,\n\u001b[1;32m    667\u001b[0m     delimiter,\n\u001b[0;32m   (...)\u001b[0m\n\u001b[1;32m    676\u001b[0m     defaults\u001b[38;5;241m=\u001b[39m{\u001b[38;5;124m\"\u001b[39m\u001b[38;5;124mdelimiter\u001b[39m\u001b[38;5;124m\"\u001b[39m: \u001b[38;5;124m\"\u001b[39m\u001b[38;5;124m,\u001b[39m\u001b[38;5;124m\"\u001b[39m},\n\u001b[1;32m    677\u001b[0m )\n\u001b[1;32m    678\u001b[0m kwds\u001b[38;5;241m.\u001b[39mupdate(kwds_defaults)\n\u001b[0;32m--> 680\u001b[0m \u001b[38;5;28;01mreturn\u001b[39;00m \u001b[43m_read\u001b[49m\u001b[43m(\u001b[49m\u001b[43mfilepath_or_buffer\u001b[49m\u001b[43m,\u001b[49m\u001b[43m \u001b[49m\u001b[43mkwds\u001b[49m\u001b[43m)\u001b[49m\n",
      "File \u001b[0;32m~/opt/anaconda3/lib/python3.9/site-packages/pandas/io/parsers/readers.py:575\u001b[0m, in \u001b[0;36m_read\u001b[0;34m(filepath_or_buffer, kwds)\u001b[0m\n\u001b[1;32m    572\u001b[0m _validate_names(kwds\u001b[38;5;241m.\u001b[39mget(\u001b[38;5;124m\"\u001b[39m\u001b[38;5;124mnames\u001b[39m\u001b[38;5;124m\"\u001b[39m, \u001b[38;5;28;01mNone\u001b[39;00m))\n\u001b[1;32m    574\u001b[0m \u001b[38;5;66;03m# Create the parser.\u001b[39;00m\n\u001b[0;32m--> 575\u001b[0m parser \u001b[38;5;241m=\u001b[39m \u001b[43mTextFileReader\u001b[49m\u001b[43m(\u001b[49m\u001b[43mfilepath_or_buffer\u001b[49m\u001b[43m,\u001b[49m\u001b[43m \u001b[49m\u001b[38;5;241;43m*\u001b[39;49m\u001b[38;5;241;43m*\u001b[39;49m\u001b[43mkwds\u001b[49m\u001b[43m)\u001b[49m\n\u001b[1;32m    577\u001b[0m \u001b[38;5;28;01mif\u001b[39;00m chunksize \u001b[38;5;129;01mor\u001b[39;00m iterator:\n\u001b[1;32m    578\u001b[0m     \u001b[38;5;28;01mreturn\u001b[39;00m parser\n",
      "File \u001b[0;32m~/opt/anaconda3/lib/python3.9/site-packages/pandas/io/parsers/readers.py:933\u001b[0m, in \u001b[0;36mTextFileReader.__init__\u001b[0;34m(self, f, engine, **kwds)\u001b[0m\n\u001b[1;32m    930\u001b[0m     \u001b[38;5;28mself\u001b[39m\u001b[38;5;241m.\u001b[39moptions[\u001b[38;5;124m\"\u001b[39m\u001b[38;5;124mhas_index_names\u001b[39m\u001b[38;5;124m\"\u001b[39m] \u001b[38;5;241m=\u001b[39m kwds[\u001b[38;5;124m\"\u001b[39m\u001b[38;5;124mhas_index_names\u001b[39m\u001b[38;5;124m\"\u001b[39m]\n\u001b[1;32m    932\u001b[0m \u001b[38;5;28mself\u001b[39m\u001b[38;5;241m.\u001b[39mhandles: IOHandles \u001b[38;5;241m|\u001b[39m \u001b[38;5;28;01mNone\u001b[39;00m \u001b[38;5;241m=\u001b[39m \u001b[38;5;28;01mNone\u001b[39;00m\n\u001b[0;32m--> 933\u001b[0m \u001b[38;5;28mself\u001b[39m\u001b[38;5;241m.\u001b[39m_engine \u001b[38;5;241m=\u001b[39m \u001b[38;5;28;43mself\u001b[39;49m\u001b[38;5;241;43m.\u001b[39;49m\u001b[43m_make_engine\u001b[49m\u001b[43m(\u001b[49m\u001b[43mf\u001b[49m\u001b[43m,\u001b[49m\u001b[43m \u001b[49m\u001b[38;5;28;43mself\u001b[39;49m\u001b[38;5;241;43m.\u001b[39;49m\u001b[43mengine\u001b[49m\u001b[43m)\u001b[49m\n",
      "File \u001b[0;32m~/opt/anaconda3/lib/python3.9/site-packages/pandas/io/parsers/readers.py:1217\u001b[0m, in \u001b[0;36mTextFileReader._make_engine\u001b[0;34m(self, f, engine)\u001b[0m\n\u001b[1;32m   1213\u001b[0m     mode \u001b[38;5;241m=\u001b[39m \u001b[38;5;124m\"\u001b[39m\u001b[38;5;124mrb\u001b[39m\u001b[38;5;124m\"\u001b[39m\n\u001b[1;32m   1214\u001b[0m \u001b[38;5;66;03m# error: No overload variant of \"get_handle\" matches argument types\u001b[39;00m\n\u001b[1;32m   1215\u001b[0m \u001b[38;5;66;03m# \"Union[str, PathLike[str], ReadCsvBuffer[bytes], ReadCsvBuffer[str]]\"\u001b[39;00m\n\u001b[1;32m   1216\u001b[0m \u001b[38;5;66;03m# , \"str\", \"bool\", \"Any\", \"Any\", \"Any\", \"Any\", \"Any\"\u001b[39;00m\n\u001b[0;32m-> 1217\u001b[0m \u001b[38;5;28mself\u001b[39m\u001b[38;5;241m.\u001b[39mhandles \u001b[38;5;241m=\u001b[39m \u001b[43mget_handle\u001b[49m\u001b[43m(\u001b[49m\u001b[43m  \u001b[49m\u001b[38;5;66;43;03m# type: ignore[call-overload]\u001b[39;49;00m\n\u001b[1;32m   1218\u001b[0m \u001b[43m    \u001b[49m\u001b[43mf\u001b[49m\u001b[43m,\u001b[49m\n\u001b[1;32m   1219\u001b[0m \u001b[43m    \u001b[49m\u001b[43mmode\u001b[49m\u001b[43m,\u001b[49m\n\u001b[1;32m   1220\u001b[0m \u001b[43m    \u001b[49m\u001b[43mencoding\u001b[49m\u001b[38;5;241;43m=\u001b[39;49m\u001b[38;5;28;43mself\u001b[39;49m\u001b[38;5;241;43m.\u001b[39;49m\u001b[43moptions\u001b[49m\u001b[38;5;241;43m.\u001b[39;49m\u001b[43mget\u001b[49m\u001b[43m(\u001b[49m\u001b[38;5;124;43m\"\u001b[39;49m\u001b[38;5;124;43mencoding\u001b[39;49m\u001b[38;5;124;43m\"\u001b[39;49m\u001b[43m,\u001b[49m\u001b[43m \u001b[49m\u001b[38;5;28;43;01mNone\u001b[39;49;00m\u001b[43m)\u001b[49m\u001b[43m,\u001b[49m\n\u001b[1;32m   1221\u001b[0m \u001b[43m    \u001b[49m\u001b[43mcompression\u001b[49m\u001b[38;5;241;43m=\u001b[39;49m\u001b[38;5;28;43mself\u001b[39;49m\u001b[38;5;241;43m.\u001b[39;49m\u001b[43moptions\u001b[49m\u001b[38;5;241;43m.\u001b[39;49m\u001b[43mget\u001b[49m\u001b[43m(\u001b[49m\u001b[38;5;124;43m\"\u001b[39;49m\u001b[38;5;124;43mcompression\u001b[39;49m\u001b[38;5;124;43m\"\u001b[39;49m\u001b[43m,\u001b[49m\u001b[43m \u001b[49m\u001b[38;5;28;43;01mNone\u001b[39;49;00m\u001b[43m)\u001b[49m\u001b[43m,\u001b[49m\n\u001b[1;32m   1222\u001b[0m \u001b[43m    \u001b[49m\u001b[43mmemory_map\u001b[49m\u001b[38;5;241;43m=\u001b[39;49m\u001b[38;5;28;43mself\u001b[39;49m\u001b[38;5;241;43m.\u001b[39;49m\u001b[43moptions\u001b[49m\u001b[38;5;241;43m.\u001b[39;49m\u001b[43mget\u001b[49m\u001b[43m(\u001b[49m\u001b[38;5;124;43m\"\u001b[39;49m\u001b[38;5;124;43mmemory_map\u001b[39;49m\u001b[38;5;124;43m\"\u001b[39;49m\u001b[43m,\u001b[49m\u001b[43m \u001b[49m\u001b[38;5;28;43;01mFalse\u001b[39;49;00m\u001b[43m)\u001b[49m\u001b[43m,\u001b[49m\n\u001b[1;32m   1223\u001b[0m \u001b[43m    \u001b[49m\u001b[43mis_text\u001b[49m\u001b[38;5;241;43m=\u001b[39;49m\u001b[43mis_text\u001b[49m\u001b[43m,\u001b[49m\n\u001b[1;32m   1224\u001b[0m \u001b[43m    \u001b[49m\u001b[43merrors\u001b[49m\u001b[38;5;241;43m=\u001b[39;49m\u001b[38;5;28;43mself\u001b[39;49m\u001b[38;5;241;43m.\u001b[39;49m\u001b[43moptions\u001b[49m\u001b[38;5;241;43m.\u001b[39;49m\u001b[43mget\u001b[49m\u001b[43m(\u001b[49m\u001b[38;5;124;43m\"\u001b[39;49m\u001b[38;5;124;43mencoding_errors\u001b[39;49m\u001b[38;5;124;43m\"\u001b[39;49m\u001b[43m,\u001b[49m\u001b[43m \u001b[49m\u001b[38;5;124;43m\"\u001b[39;49m\u001b[38;5;124;43mstrict\u001b[39;49m\u001b[38;5;124;43m\"\u001b[39;49m\u001b[43m)\u001b[49m\u001b[43m,\u001b[49m\n\u001b[1;32m   1225\u001b[0m \u001b[43m    \u001b[49m\u001b[43mstorage_options\u001b[49m\u001b[38;5;241;43m=\u001b[39;49m\u001b[38;5;28;43mself\u001b[39;49m\u001b[38;5;241;43m.\u001b[39;49m\u001b[43moptions\u001b[49m\u001b[38;5;241;43m.\u001b[39;49m\u001b[43mget\u001b[49m\u001b[43m(\u001b[49m\u001b[38;5;124;43m\"\u001b[39;49m\u001b[38;5;124;43mstorage_options\u001b[39;49m\u001b[38;5;124;43m\"\u001b[39;49m\u001b[43m,\u001b[49m\u001b[43m \u001b[49m\u001b[38;5;28;43;01mNone\u001b[39;49;00m\u001b[43m)\u001b[49m\u001b[43m,\u001b[49m\n\u001b[1;32m   1226\u001b[0m \u001b[43m\u001b[49m\u001b[43m)\u001b[49m\n\u001b[1;32m   1227\u001b[0m \u001b[38;5;28;01massert\u001b[39;00m \u001b[38;5;28mself\u001b[39m\u001b[38;5;241m.\u001b[39mhandles \u001b[38;5;129;01mis\u001b[39;00m \u001b[38;5;129;01mnot\u001b[39;00m \u001b[38;5;28;01mNone\u001b[39;00m\n\u001b[1;32m   1228\u001b[0m f \u001b[38;5;241m=\u001b[39m \u001b[38;5;28mself\u001b[39m\u001b[38;5;241m.\u001b[39mhandles\u001b[38;5;241m.\u001b[39mhandle\n",
      "File \u001b[0;32m~/opt/anaconda3/lib/python3.9/site-packages/pandas/io/common.py:789\u001b[0m, in \u001b[0;36mget_handle\u001b[0;34m(path_or_buf, mode, encoding, compression, memory_map, is_text, errors, storage_options)\u001b[0m\n\u001b[1;32m    784\u001b[0m \u001b[38;5;28;01melif\u001b[39;00m \u001b[38;5;28misinstance\u001b[39m(handle, \u001b[38;5;28mstr\u001b[39m):\n\u001b[1;32m    785\u001b[0m     \u001b[38;5;66;03m# Check whether the filename is to be opened in binary mode.\u001b[39;00m\n\u001b[1;32m    786\u001b[0m     \u001b[38;5;66;03m# Binary mode does not support 'encoding' and 'newline'.\u001b[39;00m\n\u001b[1;32m    787\u001b[0m     \u001b[38;5;28;01mif\u001b[39;00m ioargs\u001b[38;5;241m.\u001b[39mencoding \u001b[38;5;129;01mand\u001b[39;00m \u001b[38;5;124m\"\u001b[39m\u001b[38;5;124mb\u001b[39m\u001b[38;5;124m\"\u001b[39m \u001b[38;5;129;01mnot\u001b[39;00m \u001b[38;5;129;01min\u001b[39;00m ioargs\u001b[38;5;241m.\u001b[39mmode:\n\u001b[1;32m    788\u001b[0m         \u001b[38;5;66;03m# Encoding\u001b[39;00m\n\u001b[0;32m--> 789\u001b[0m         handle \u001b[38;5;241m=\u001b[39m \u001b[38;5;28;43mopen\u001b[39;49m\u001b[43m(\u001b[49m\n\u001b[1;32m    790\u001b[0m \u001b[43m            \u001b[49m\u001b[43mhandle\u001b[49m\u001b[43m,\u001b[49m\n\u001b[1;32m    791\u001b[0m \u001b[43m            \u001b[49m\u001b[43mioargs\u001b[49m\u001b[38;5;241;43m.\u001b[39;49m\u001b[43mmode\u001b[49m\u001b[43m,\u001b[49m\n\u001b[1;32m    792\u001b[0m \u001b[43m            \u001b[49m\u001b[43mencoding\u001b[49m\u001b[38;5;241;43m=\u001b[39;49m\u001b[43mioargs\u001b[49m\u001b[38;5;241;43m.\u001b[39;49m\u001b[43mencoding\u001b[49m\u001b[43m,\u001b[49m\n\u001b[1;32m    793\u001b[0m \u001b[43m            \u001b[49m\u001b[43merrors\u001b[49m\u001b[38;5;241;43m=\u001b[39;49m\u001b[43merrors\u001b[49m\u001b[43m,\u001b[49m\n\u001b[1;32m    794\u001b[0m \u001b[43m            \u001b[49m\u001b[43mnewline\u001b[49m\u001b[38;5;241;43m=\u001b[39;49m\u001b[38;5;124;43m\"\u001b[39;49m\u001b[38;5;124;43m\"\u001b[39;49m\u001b[43m,\u001b[49m\n\u001b[1;32m    795\u001b[0m \u001b[43m        \u001b[49m\u001b[43m)\u001b[49m\n\u001b[1;32m    796\u001b[0m     \u001b[38;5;28;01melse\u001b[39;00m:\n\u001b[1;32m    797\u001b[0m         \u001b[38;5;66;03m# Binary mode\u001b[39;00m\n\u001b[1;32m    798\u001b[0m         handle \u001b[38;5;241m=\u001b[39m \u001b[38;5;28mopen\u001b[39m(handle, ioargs\u001b[38;5;241m.\u001b[39mmode)\n",
      "\u001b[0;31mFileNotFoundError\u001b[0m: [Errno 2] No such file or directory: 'data/cr_loan_clean.csv'"
     ]
    }
   ],
   "source": [
    "# loads data set\n",
    "df_cr_loan = pd.read_csv('data/cr_loan_clean.csv')\n",
    "df_cr_loan.head()"
   ]
  },
  {
   "cell_type": "code",
   "execution_count": 38,
   "metadata": {
    "ExecuteTime": {
     "end_time": "2020-10-06T13:52:31.795989Z",
     "start_time": "2020-10-06T13:52:31.792304Z"
    },
    "execution": {
     "iopub.execute_input": "2020-10-17T15:20:20.074484Z",
     "iopub.status.busy": "2020-10-17T15:20:20.074050Z",
     "iopub.status.idle": "2020-10-17T15:20:20.080958Z",
     "shell.execute_reply": "2020-10-17T15:20:20.079955Z",
     "shell.execute_reply.started": "2020-10-17T15:20:20.074438Z"
    }
   },
   "outputs": [
    {
     "data": {
      "text/plain": [
       "(32574, 12)"
      ]
     },
     "execution_count": 38,
     "metadata": {},
     "output_type": "execute_result"
    }
   ],
   "source": [
    "# checks the size\n",
    "df_cr_loan.shape"
   ]
  },
  {
   "cell_type": "markdown",
   "metadata": {},
   "source": [
    "## Univariate analysis"
   ]
  },
  {
   "cell_type": "markdown",
   "metadata": {},
   "source": [
    "### Target variable"
   ]
  },
  {
   "cell_type": "code",
   "execution_count": 39,
   "metadata": {
    "ExecuteTime": {
     "end_time": "2020-10-06T13:52:31.979567Z",
     "start_time": "2020-10-06T13:52:31.798584Z"
    },
    "execution": {
     "iopub.execute_input": "2020-10-17T15:20:20.083488Z",
     "iopub.status.busy": "2020-10-17T15:20:20.083035Z",
     "iopub.status.idle": "2020-10-17T15:20:20.267550Z",
     "shell.execute_reply": "2020-10-17T15:20:20.266619Z",
     "shell.execute_reply.started": "2020-10-17T15:20:20.083407Z"
    }
   },
   "outputs": [
    {
     "data": {
      "image/png": "[encoded data removed]",
      "text/plain": [
       "<Figure size 864x432 with 1 Axes>"
      ]
     },
     "metadata": {
      "needs_background": "light"
     },
     "output_type": "display_data"
    }
   ],
   "source": [
    "# plots count\n",
    "ax = sns.countplot(x=df_cr_loan['loan_status'])\n",
    "\n",
    "# sets the figure size in inches\n",
    "ax.figure.set_size_inches(12, 6)\n",
    "\n",
    "# set plot features\n",
    "ax.set_title(\"Count for Loan Status\", fontsize=16)\n",
    "ax.set_ylabel(\"Count\", fontsize=14)\n",
    "ax.set_xlabel(\"Loan status\", fontsize=14)\n",
    "\n",
    "# set xticks labels\n",
    "plt.xticks([0, 1], ['Non-Default', 'Default'])\n",
    "\n",
    "# displays plot\n",
    "plt.show()"
   ]
  },
  {
   "cell_type": "code",
   "execution_count": 40,
   "metadata": {
    "ExecuteTime": {
     "end_time": "2020-10-06T13:52:31.991462Z",
     "start_time": "2020-10-06T13:52:31.981826Z"
    },
    "execution": {
     "iopub.execute_input": "2020-10-17T15:20:20.269383Z",
     "iopub.status.busy": "2020-10-17T15:20:20.268942Z",
     "iopub.status.idle": "2020-10-17T15:20:20.279424Z",
     "shell.execute_reply": "2020-10-17T15:20:20.278788Z",
     "shell.execute_reply.started": "2020-10-17T15:20:20.269337Z"
    }
   },
   "outputs": [],
   "source": [
    "# separating the data set for easier analysis\n",
    "df_default = df_cr_loan[df_cr_loan['loan_status'] == 1].copy()\n",
    "df_non_default = df_cr_loan[df_cr_loan['loan_status'] == 0].copy()"
   ]
  },
  {
   "cell_type": "code",
   "execution_count": 41,
   "metadata": {
    "ExecuteTime": {
     "end_time": "2020-10-06T13:52:31.999578Z",
     "start_time": "2020-10-06T13:52:31.994085Z"
    },
    "execution": {
     "iopub.execute_input": "2020-10-17T15:20:20.280999Z",
     "iopub.status.busy": "2020-10-17T15:20:20.280690Z",
     "iopub.status.idle": "2020-10-17T15:20:20.287902Z",
     "shell.execute_reply": "2020-10-17T15:20:20.286969Z",
     "shell.execute_reply.started": "2020-10-17T15:20:20.280964Z"
    }
   },
   "outputs": [
    {
     "name": "stdout",
     "output_type": "stream",
     "text": [
      "Number of default cases: 7107\n",
      "This is equivalent to 21.82% of the total loans\n",
      "\n",
      "Number of non-defualt cases: 25467\n",
      "This is equivalent to 78.18% of the total loans\n"
     ]
    }
   ],
   "source": [
    "# counts the number of defaults and non-defaults\n",
    "total_default = df_default.shape[0]\n",
    "total_non_default = df_non_default.shape[0]\n",
    "total_loans = df_cr_loan.shape[0]\n",
    "\n",
    "print('Number of default cases:', total_default)\n",
    "print('This is equivalent to {:.2f}% of the total loans'.format((total_default/total_loans)*100))\n",
    "\n",
    "print('\\nNumber of non-defualt cases:', total_non_default)\n",
    "print('This is equivalent to {:.2f}% of the total loans'.format((total_non_default/total_loans)*100))"
   ]
  },
  {
   "cell_type": "markdown",
   "metadata": {},
   "source": [
    "As observed, there are many more cases of non-default. Thus, we're dealing with an imbalanced data set. We're going to handle this later in section 7 of this notebook."
   ]
  },
  {
   "cell_type": "markdown",
   "metadata": {},
   "source": [
    "###  Numerical variables"
   ]
  },
  {
   "cell_type": "code",
   "execution_count": 42,
   "metadata": {
    "ExecuteTime": {
     "end_time": "2020-10-06T13:52:32.008242Z",
     "start_time": "2020-10-06T13:52:32.002509Z"
    },
    "execution": {
     "iopub.execute_input": "2020-10-17T15:20:20.289588Z",
     "iopub.status.busy": "2020-10-17T15:20:20.289317Z",
     "iopub.status.idle": "2020-10-17T15:20:20.296500Z",
     "shell.execute_reply": "2020-10-17T15:20:20.295034Z",
     "shell.execute_reply.started": "2020-10-17T15:20:20.289562Z"
    }
   },
   "outputs": [],
   "source": [
    "# creates a dataset for numerical attributes\n",
    "num_attributes = df_cr_loan.select_dtypes(include=['int64', 'float64'])"
   ]
  },
  {
   "cell_type": "code",
   "execution_count": 43,
   "metadata": {
    "ExecuteTime": {
     "end_time": "2020-10-06T13:52:34.290089Z",
     "start_time": "2020-10-06T13:52:32.011231Z"
    },
    "execution": {
     "iopub.execute_input": "2020-10-17T15:20:20.298488Z",
     "iopub.status.busy": "2020-10-17T15:20:20.298196Z",
     "iopub.status.idle": "2020-10-17T15:20:22.343212Z",
     "shell.execute_reply": "2020-10-17T15:20:22.342250Z",
     "shell.execute_reply.started": "2020-10-17T15:20:20.298461Z"
    }
   },
   "outputs": [
    {
     "data": {
      "image/png": "[encoded data removed]",
      "text/plain": [
       "<Figure size 1440x1440 with 9 Axes>"
      ]
     },
     "metadata": {
      "needs_background": "light"
     },
     "output_type": "display_data"
    }
   ],
   "source": [
    "# plots a histogram for all numerical attributes\n",
    "_ = num_attributes.hist(bins=30, figsize=(20,20))"
   ]
  },
  {
   "cell_type": "markdown",
   "metadata": {},
   "source": [
    "As we can observe, there is no variable that presents a normal distribution. Note that here, we're only exploring the data, not making any handling or transformation."
   ]
  },
  {
   "cell_type": "markdown",
   "metadata": {},
   "source": [
    "###  Categorical variables"
   ]
  },
  {
   "cell_type": "code",
   "execution_count": 44,
   "metadata": {
    "ExecuteTime": {
     "end_time": "2020-10-06T13:52:34.297667Z",
     "start_time": "2020-10-06T13:52:34.292136Z"
    },
    "execution": {
     "iopub.execute_input": "2020-10-17T15:20:22.345292Z",
     "iopub.status.busy": "2020-10-17T15:20:22.345040Z",
     "iopub.status.idle": "2020-10-17T15:20:22.354270Z",
     "shell.execute_reply": "2020-10-17T15:20:22.352720Z",
     "shell.execute_reply.started": "2020-10-17T15:20:22.345265Z"
    }
   },
   "outputs": [],
   "source": [
    "# creates a dataset for categorical attributes\n",
    "cat_attributes = df_cr_loan.select_dtypes(exclude=['int64', 'float64'])"
   ]
  },
  {
   "cell_type": "code",
   "execution_count": 45,
   "metadata": {
    "ExecuteTime": {
     "end_time": "2020-10-06T13:52:35.116449Z",
     "start_time": "2020-10-06T13:52:34.299593Z"
    },
    "execution": {
     "iopub.execute_input": "2020-10-17T15:20:22.356477Z",
     "iopub.status.busy": "2020-10-17T15:20:22.356187Z",
     "iopub.status.idle": "2020-10-17T15:20:23.059974Z",
     "shell.execute_reply": "2020-10-17T15:20:23.059171Z",
     "shell.execute_reply.started": "2020-10-17T15:20:22.356434Z"
    }
   },
   "outputs": [
    {
     "data": {
      "image/png": "[encoded data removed]",
      "text/plain": [
       "<Figure size 1152x1152 with 4 Axes>"
      ]
     },
     "metadata": {
      "needs_background": "light"
     },
     "output_type": "display_data"
    }
   ],
   "source": [
    "# uses the variable ax for a single Axes\n",
    "fig, ax = plt.subplots()\n",
    "\n",
    "# sets the figure size in inches\n",
    "ax.figure.set_size_inches(16, 16)\n",
    "\n",
    "# person_home_ownership\n",
    "plt.subplot(4, 2, 1)\n",
    "sns.countplot(x=cat_attributes['person_home_ownership'], \n",
    "              order=cat_attributes['person_home_ownership'].value_counts().index)\n",
    "plt.title(\"Counts for person home ownership\")\n",
    "\n",
    "# loan_intent\n",
    "plt.subplot(4, 2, 2)\n",
    "sns.countplot(y=cat_attributes['loan_intent'], \n",
    "              order=cat_attributes['loan_intent'].value_counts().index)\n",
    "plt.title(\"Counts for loan intent\")\n",
    "\n",
    "# loan_grade\n",
    "plt.subplot(4, 2, 3)\n",
    "sns.countplot(x=cat_attributes['loan_grade'], \n",
    "              order=cat_attributes['loan_grade'].value_counts().index)\n",
    "plt.title(\"Counts for loan grade\")\n",
    "\n",
    "# cb_person_default_on_file\n",
    "plt.subplot(4, 2, 4)\n",
    "sns.countplot(x=cat_attributes['cb_person_default_on_file'], \n",
    "              order=cat_attributes['cb_person_default_on_file'].value_counts().index)\n",
    "plt.title(\"Counts for default history\")\n",
    "\n",
    "# adjusts vertical space between plots\n",
    "plt.subplots_adjust(hspace = 0.5)\n",
    "plt.subplots_adjust(wspace = 0.5)\n",
    "\n",
    "# display plots\n",
    "plt.show()"
   ]
  },
  {
   "cell_type": "markdown",
   "metadata": {},
   "source": [
    "##  Bivariate analysis - Hypotheses validation"
   ]
  },
  {
   "cell_type": "markdown",
   "metadata": {},
   "source": [
    "### H1. There are more defaults for young people. <font color='green'>(TRUE)"
   ]
  },
  {
   "cell_type": "code",
   "execution_count": 46,
   "metadata": {
    "ExecuteTime": {
     "end_time": "2020-10-06T13:52:35.984023Z",
     "start_time": "2020-10-06T13:52:35.118611Z"
    },
    "execution": {
     "iopub.execute_input": "2020-10-17T15:20:23.062071Z",
     "iopub.status.busy": "2020-10-17T15:20:23.061681Z",
     "iopub.status.idle": "2020-10-17T15:20:23.924849Z",
     "shell.execute_reply": "2020-10-17T15:20:23.923878Z",
     "shell.execute_reply.started": "2020-10-17T15:20:23.062019Z"
    }
   },
   "outputs": [
    {
     "data": {
      "image/png": "[encoded data removed]",
      "text/plain": [
       "<Figure size 1800x576 with 1 Axes>"
      ]
     },
     "metadata": {
      "needs_background": "light"
     },
     "output_type": "display_data"
    }
   ],
   "source": [
    "# uses the variable ax for single a Axes\n",
    "fig, ax = plt.subplots()\n",
    "\n",
    "# sets the figure size in inches\n",
    "ax.figure.set_size_inches(25, 8)\n",
    "\n",
    "# plots the graph\n",
    "sns.countplot(x='person_age', hue='loan_status', data=df_default, palette=[\"r\"])\n",
    "\n",
    "# sets plot title\n",
    "ax.set_title(\"Defaults count per age\", fontsize=20)\n",
    "\n",
    "# sets the legend\n",
    "plt.legend(title=\"Loan status\", labels=['Default'], title_fontsize=15, fontsize=15)\n",
    "\n",
    "# display plots\n",
    "plt.show()"
   ]
  },
  {
   "cell_type": "markdown",
   "metadata": {},
   "source": [
    "As observed, there are more deault cases for people at young age (up to 40s).\n",
    "\n",
    "> Thus, the hypothesis is **TRUE**."
   ]
  },
  {
   "cell_type": "markdown",
   "metadata": {},
   "source": [
    "### H2. People who default have lower income than people who not default. <font color='green'>(TRUE)"
   ]
  },
  {
   "cell_type": "code",
   "execution_count": 47,
   "metadata": {
    "ExecuteTime": {
     "end_time": "2020-10-06T13:52:36.174173Z",
     "start_time": "2020-10-06T13:52:35.986225Z"
    },
    "execution": {
     "iopub.execute_input": "2020-10-17T15:20:23.926727Z",
     "iopub.status.busy": "2020-10-17T15:20:23.926436Z",
     "iopub.status.idle": "2020-10-17T15:20:24.099498Z",
     "shell.execute_reply": "2020-10-17T15:20:24.098608Z",
     "shell.execute_reply.started": "2020-10-17T15:20:23.926694Z"
    }
   },
   "outputs": [
    {
     "data": {
      "image/png": "[encoded data removed]",
      "text/plain": [
       "<Figure size 432x576 with 1 Axes>"
      ]
     },
     "metadata": {
      "needs_background": "light"
     },
     "output_type": "display_data"
    }
   ],
   "source": [
    "# uses the variable ax for single a Axes\n",
    "fig, ax = plt.subplots()\n",
    "\n",
    "# sets the figure size in inches\n",
    "ax.figure.set_size_inches(6, 8)\n",
    "\n",
    "# plots the graph\n",
    "sns.boxplot(x='loan_status', y='person_income',  data=df_cr_loan, showfliers=False, palette=[\"b\", \"r\"])\n",
    "\n",
    "# sets plot title\n",
    "ax.set_title(\"Person income range by loan status\", fontsize=20)\n",
    "\n",
    "# set xticks labels\n",
    "plt.xticks([0, 1], ['Non-Default', 'Default'])\n",
    "\n",
    "# display plots\n",
    "plt.show()"
   ]
  },
  {
   "cell_type": "markdown",
   "metadata": {},
   "source": [
    "As observed, the mean income for people who default is lower than for people who don't.\n",
    "\n",
    "> Thus, the hypothesis is **TRUE**."
   ]
  },
  {
   "cell_type": "markdown",
   "metadata": {},
   "source": [
    "### H3. The median percentage of income to the loan is higher for default than the median for non-default. <font color='green'>(TRUE)"
   ]
  },
  {
   "cell_type": "code",
   "execution_count": 48,
   "metadata": {
    "ExecuteTime": {
     "end_time": "2020-10-06T13:52:36.348065Z",
     "start_time": "2020-10-06T13:52:36.176127Z"
    },
    "execution": {
     "iopub.execute_input": "2020-10-17T15:20:24.101064Z",
     "iopub.status.busy": "2020-10-17T15:20:24.100751Z",
     "iopub.status.idle": "2020-10-17T15:20:24.272404Z",
     "shell.execute_reply": "2020-10-17T15:20:24.271503Z",
     "shell.execute_reply.started": "2020-10-17T15:20:24.101037Z"
    }
   },
   "outputs": [
    {
     "data": {
      "image/png": "[encoded data removed]",
      "text/plain": [
       "<Figure size 432x576 with 1 Axes>"
      ]
     },
     "metadata": {
      "needs_background": "light"
     },
     "output_type": "display_data"
    }
   ],
   "source": [
    "# uses the variable ax for single a Axes\n",
    "fig, ax = plt.subplots()\n",
    "\n",
    "# sets the figure size in inches\n",
    "ax.figure.set_size_inches(6, 8)\n",
    "\n",
    "# plots the graph\n",
    "sns.boxplot(x='loan_status', y='loan_percent_income',  data=df_cr_loan, \n",
    "            showfliers=False, palette=[\"b\", \"r\"])\n",
    "\n",
    "# sets plot title\n",
    "ax.set_title(\"Percentage of income allocated by loan status\", fontsize=20)\n",
    "\n",
    "# set xticks labels\n",
    "plt.xticks([0, 1], ['Non-Default', 'Default'])\n",
    "\n",
    "# display plots\n",
    "plt.show()"
   ]
  },
  {
   "cell_type": "markdown",
   "metadata": {},
   "source": [
    "As observed, the median of the percentage of income allocated is higher for people who default than for the people who don't.\n",
    "\n",
    "> Thus, the hypothesis is **TRUE**."
   ]
  },
  {
   "cell_type": "markdown",
   "metadata": {},
   "source": [
    "### H4. Mortgage have more cases of default, followed by rent and own. <font color='red'>(FALSE)"
   ]
  },
  {
   "cell_type": "code",
   "execution_count": 49,
   "metadata": {
    "ExecuteTime": {
     "end_time": "2020-10-06T13:52:36.598456Z",
     "start_time": "2020-10-06T13:52:36.350349Z"
    },
    "execution": {
     "iopub.execute_input": "2020-10-17T15:20:24.273826Z",
     "iopub.status.busy": "2020-10-17T15:20:24.273460Z",
     "iopub.status.idle": "2020-10-17T15:20:24.670669Z",
     "shell.execute_reply": "2020-10-17T15:20:24.669794Z",
     "shell.execute_reply.started": "2020-10-17T15:20:24.273795Z"
    }
   },
   "outputs": [
    {
     "data": {
      "image/png": "[encoded data removed]",
      "text/plain": [
       "<Figure size 1800x576 with 1 Axes>"
      ]
     },
     "metadata": {
      "needs_background": "light"
     },
     "output_type": "display_data"
    }
   ],
   "source": [
    "# uses the variable ax for single a Axes\n",
    "fig, ax = plt.subplots()\n",
    "\n",
    "# sets the figure size in inches\n",
    "ax.figure.set_size_inches(25, 8)\n",
    "\n",
    "# plots the graph\n",
    "sns.countplot(x='person_home_ownership', hue='loan_status', data=df_default, \n",
    "              order=df_default['person_home_ownership'].value_counts().index, palette=[\"r\"])\n",
    "\n",
    "# sets plot title\n",
    "ax.set_title(\"Defaults count per home ownership\", fontsize=20)\n",
    "\n",
    "# sets the legend\n",
    "plt.legend(title=\"Loan status\", labels=['Default'], title_fontsize=15, fontsize=15)\n",
    "\n",
    "# display plots\n",
    "plt.show()"
   ]
  },
  {
   "cell_type": "markdown",
   "metadata": {},
   "source": [
    "As observed, `RENT` is the top home ownership type for people who default, not `MORTGAGE`.\n",
    "\n",
    "> Thus, the hypothesis is **FALSE**."
   ]
  },
  {
   "cell_type": "markdown",
   "metadata": {},
   "source": [
    "### H5. The are fewer cases of default for people with long employment length. <font color='green'>(TRUE)"
   ]
  },
  {
   "cell_type": "code",
   "execution_count": 50,
   "metadata": {
    "ExecuteTime": {
     "end_time": "2020-10-06T13:52:37.128003Z",
     "start_time": "2020-10-06T13:52:36.600690Z"
    },
    "execution": {
     "iopub.execute_input": "2020-10-17T15:20:24.672603Z",
     "iopub.status.busy": "2020-10-17T15:20:24.672074Z",
     "iopub.status.idle": "2020-10-17T15:20:25.156946Z",
     "shell.execute_reply": "2020-10-17T15:20:25.155800Z",
     "shell.execute_reply.started": "2020-10-17T15:20:24.672567Z"
    }
   },
   "outputs": [
    {
     "data": {
      "image/png": "[encoded data removed]",
      "text/plain": [
       "<Figure size 1800x576 with 1 Axes>"
      ]
     },
     "metadata": {
      "needs_background": "light"
     },
     "output_type": "display_data"
    }
   ],
   "source": [
    "# uses the variable ax for single a Axes\n",
    "fig, ax = plt.subplots()\n",
    "\n",
    "# sets the figure size in inches\n",
    "ax.figure.set_size_inches(25, 8)\n",
    "\n",
    "# plots the graph\n",
    "sns.countplot(x='person_emp_length', hue='loan_status', data=df_default, palette=[\"r\"])\n",
    "\n",
    "# sets plot title\n",
    "ax.set_title(\"Defaults count by employment length\", fontsize=20)\n",
    "\n",
    "# sets the legend\n",
    "plt.legend(title=\"Loan status\", labels=['Default'], title_fontsize=15, fontsize=15)\n",
    "\n",
    "# display plots\n",
    "plt.show()"
   ]
  },
  {
   "cell_type": "markdown",
   "metadata": {},
   "source": [
    "As observed, the are fewer cases of default for people with long employment length that for people in the early years.\n",
    "\n",
    "> Thus, the hypothesis is **TRUE**."
   ]
  },
  {
   "cell_type": "markdown",
   "metadata": {},
   "source": [
    "### H6. There are more cases of default for people having history of default. <font color='red'>(FALSE)"
   ]
  },
  {
   "cell_type": "code",
   "execution_count": 51,
   "metadata": {
    "ExecuteTime": {
     "end_time": "2020-10-06T13:52:37.312015Z",
     "start_time": "2020-10-06T13:52:37.130264Z"
    },
    "execution": {
     "iopub.execute_input": "2020-10-17T15:20:25.159027Z",
     "iopub.status.busy": "2020-10-17T15:20:25.158594Z",
     "iopub.status.idle": "2020-10-17T15:20:25.360915Z",
     "shell.execute_reply": "2020-10-17T15:20:25.360081Z",
     "shell.execute_reply.started": "2020-10-17T15:20:25.158999Z"
    }
   },
   "outputs": [
    {
     "data": {
      "image/png": "[encoded data removed]",
      "text/plain": [
       "<Figure size 864x432 with 1 Axes>"
      ]
     },
     "metadata": {
      "needs_background": "light"
     },
     "output_type": "display_data"
    }
   ],
   "source": [
    "# uses the variable ax for single a Axes\n",
    "fig, ax = plt.subplots()\n",
    "\n",
    "# sets the figure size in inches\n",
    "ax.figure.set_size_inches(12, 6)\n",
    "\n",
    "# plots the graph\n",
    "sns.countplot(x='cb_person_default_on_file', hue='loan_status', data=df_default, palette=[\"r\"])\n",
    "\n",
    "# sets plot title\n",
    "ax.set_title(\"Defaults count by history of default\", fontsize=20)\n",
    "\n",
    "# sets the legend\n",
    "plt.legend(title=\"Loan status\", labels=['Default'], title_fontsize=15, fontsize=15)\n",
    "\n",
    "plt.xlabel(\"History of default\")\n",
    "\n",
    "# set xticks labels\n",
    "plt.xticks([0, 1], ['No', 'Yes'])\n",
    "\n",
    "# display plots\n",
    "plt.show()"
   ]
  },
  {
   "cell_type": "markdown",
   "metadata": {},
   "source": [
    "As observed, there are more cases of default for people who don't have history of default.\n",
    "\n",
    "> Thus, the hypothesis is **FALSE**."
   ]
  },
  {
   "cell_type": "markdown",
   "metadata": {},
   "source": [
    "### H7. There are fewer cases of default for people having longer credit history length. <font color='green'>(TRUE)"
   ]
  },
  {
   "cell_type": "code",
   "execution_count": 52,
   "metadata": {
    "ExecuteTime": {
     "end_time": "2020-10-06T13:52:37.832356Z",
     "start_time": "2020-10-06T13:52:37.314536Z"
    },
    "execution": {
     "iopub.execute_input": "2020-10-17T15:20:25.362739Z",
     "iopub.status.busy": "2020-10-17T15:20:25.362296Z",
     "iopub.status.idle": "2020-10-17T15:20:25.905850Z",
     "shell.execute_reply": "2020-10-17T15:20:25.904555Z",
     "shell.execute_reply.started": "2020-10-17T15:20:25.362676Z"
    }
   },
   "outputs": [
    {
     "data": {
      "image/png": "[encoded data removed]",
      "text/plain": [
       "<Figure size 1800x576 with 1 Axes>"
      ]
     },
     "metadata": {
      "needs_background": "light"
     },
     "output_type": "display_data"
    }
   ],
   "source": [
    "# uses the variable ax for single a Axes\n",
    "fig, ax = plt.subplots()\n",
    "\n",
    "# sets the figure size in inches\n",
    "ax.figure.set_size_inches(25, 8)\n",
    "\n",
    "# plots the graph\n",
    "sns.countplot(x='cb_person_cred_hist_length', hue='loan_status', data=df_default, palette=[\"r\"])\n",
    "\n",
    "# sets plot title\n",
    "ax.set_title(\"Defaults count by credit history length\", fontsize=20)\n",
    "\n",
    "# sets the legend\n",
    "plt.legend(title=\"Loan status\", labels=['Default'], title_fontsize=15, fontsize=15)\n",
    "\n",
    "plt.xlabel(\"Credit history length\")\n",
    "\n",
    "# display plots\n",
    "plt.show()"
   ]
  },
  {
   "cell_type": "markdown",
   "metadata": {},
   "source": [
    "As observed, there are fewer cases of default for people having longer credit history length.\n",
    "\n",
    "> Thus, the hypothesis is **TRUE**."
   ]
  },
  {
   "cell_type": "markdown",
   "metadata": {},
   "source": [
    "### H8. There are more cases of default for personal than any other intent. <font color='red'>(FALSE)</font>\n",
    "### H9. The least cases of default are for venture. <font color='green'>(TRUE)"
   ]
  },
  {
   "cell_type": "code",
   "execution_count": 53,
   "metadata": {
    "ExecuteTime": {
     "end_time": "2020-10-06T13:52:38.087175Z",
     "start_time": "2020-10-06T13:52:37.834395Z"
    },
    "execution": {
     "iopub.execute_input": "2020-10-17T15:20:25.907454Z",
     "iopub.status.busy": "2020-10-17T15:20:25.907108Z",
     "iopub.status.idle": "2020-10-17T15:20:26.184893Z",
     "shell.execute_reply": "2020-10-17T15:20:26.184036Z",
     "shell.execute_reply.started": "2020-10-17T15:20:25.907427Z"
    }
   },
   "outputs": [
    {
     "data": {
      "image/png": "[encoded data removed]",
      "text/plain": [
       "<Figure size 1800x576 with 1 Axes>"
      ]
     },
     "metadata": {
      "needs_background": "light"
     },
     "output_type": "display_data"
    }
   ],
   "source": [
    "# uses the variable ax for single a Axes\n",
    "fig, ax = plt.subplots()\n",
    "\n",
    "# sets the figure size in inches\n",
    "ax.figure.set_size_inches(25, 8)\n",
    "\n",
    "# plots the graph\n",
    "sns.countplot(x='loan_intent', hue='loan_status', data=df_default, \n",
    "              order=df_default['loan_intent'].value_counts().index, palette=[\"r\"])\n",
    "\n",
    "# sets plot title\n",
    "ax.set_title(\"Defaults count by loan intent\", fontsize=20)\n",
    "\n",
    "# sets the legend\n",
    "plt.legend(title=\"Loan status\", labels=['Default'], title_fontsize=15, fontsize=15)\n",
    "\n",
    "# display plots\n",
    "plt.show()"
   ]
  },
  {
   "cell_type": "markdown",
   "metadata": {},
   "source": [
    "As observed, `MEDICAL` holds the most number of default cases and `VENTURE` the least.\n",
    "\n",
    "> Thus, the hypothesis is **FALSE**."
   ]
  },
  {
   "cell_type": "markdown",
   "metadata": {},
   "source": [
    "### H10. The higher the grade, the fewer are the cases of default. <font color='red'>(FALSE)"
   ]
  },
  {
   "cell_type": "code",
   "execution_count": 54,
   "metadata": {
    "ExecuteTime": {
     "end_time": "2020-10-06T13:52:38.357672Z",
     "start_time": "2020-10-06T13:52:38.089426Z"
    },
    "execution": {
     "iopub.execute_input": "2020-10-17T15:20:26.186555Z",
     "iopub.status.busy": "2020-10-17T15:20:26.186117Z",
     "iopub.status.idle": "2020-10-17T15:20:26.473234Z",
     "shell.execute_reply": "2020-10-17T15:20:26.472204Z",
     "shell.execute_reply.started": "2020-10-17T15:20:26.186512Z"
    }
   },
   "outputs": [
    {
     "data": {
      "image/png": "[encoded data removed]",
      "text/plain": [
       "<Figure size 1800x576 with 1 Axes>"
      ]
     },
     "metadata": {
      "needs_background": "light"
     },
     "output_type": "display_data"
    }
   ],
   "source": [
    "# uses the variable ax for single a Axes\n",
    "fig, ax = plt.subplots()\n",
    "\n",
    "# sets the figure size in inches\n",
    "ax.figure.set_size_inches(25, 8)\n",
    "\n",
    "# plots the graph\n",
    "sns.countplot(x='loan_grade', hue='loan_status', data=df_default, \n",
    "              order=df_default['loan_grade'].value_counts().index.sort_values(), palette=[\"r\"])\n",
    "\n",
    "# sets plot title\n",
    "ax.set_title(\"Defaults count by loan grade\", fontsize=20)\n",
    "\n",
    "# sets the legend\n",
    "plt.legend(title=\"Loan status\", labels=['Default'], title_fontsize=15, fontsize=15)\n",
    "\n",
    "# display plots\n",
    "plt.show()"
   ]
  },
  {
   "cell_type": "markdown",
   "metadata": {},
   "source": [
    "As observed, despite the grade `D` that is right at the middle grade, the higher the loand grade, the higher is the number of default cases.\n",
    "\n",
    "> Thus, the hypothesis is **FALSE**."
   ]
  },
  {
   "cell_type": "markdown",
   "metadata": {},
   "source": [
    "### H11. The loan amount median for default cases is higher than for non-default. <font color='green'>(TRUE)"
   ]
  },
  {
   "cell_type": "code",
   "execution_count": 55,
   "metadata": {
    "ExecuteTime": {
     "end_time": "2020-10-06T13:52:38.630483Z",
     "start_time": "2020-10-06T13:52:38.359941Z"
    },
    "execution": {
     "iopub.execute_input": "2020-10-17T15:20:26.474741Z",
     "iopub.status.busy": "2020-10-17T15:20:26.474395Z",
     "iopub.status.idle": "2020-10-17T15:20:26.645431Z",
     "shell.execute_reply": "2020-10-17T15:20:26.644482Z",
     "shell.execute_reply.started": "2020-10-17T15:20:26.474713Z"
    }
   },
   "outputs": [
    {
     "data": {
      "image/png": "[encoded data removed]",
      "text/plain": [
       "<Figure size 432x576 with 1 Axes>"
      ]
     },
     "metadata": {
      "needs_background": "light"
     },
     "output_type": "display_data"
    }
   ],
   "source": [
    "# uses the variable ax for single a Axes\n",
    "fig, ax = plt.subplots()\n",
    "\n",
    "# sets the figure size in inches\n",
    "ax.figure.set_size_inches(6, 8)\n",
    "\n",
    "# plots the graph\n",
    "sns.boxplot(x='loan_status', y='loan_amnt',  data=df_cr_loan, showfliers=False, palette=[\"b\", \"r\"])\n",
    "\n",
    "# sets plot title\n",
    "ax.set_title(\"Loan amount range by loan status\", fontsize=20)\n",
    "\n",
    "# set xticks labels\n",
    "plt.xticks([0, 1], ['Non-Default', 'Default'])\n",
    "\n",
    "# display plots\n",
    "plt.show()"
   ]
  },
  {
   "cell_type": "markdown",
   "metadata": {},
   "source": [
    "As observed, the loan amount median for default cases is higher than for non-default.\n",
    "\n",
    "> Thus, the hypothesis is **TRUE**."
   ]
  },
  {
   "cell_type": "markdown",
   "metadata": {},
   "source": [
    "### H12. The interest rate median for default cases is higher than for non-default. <font color='green'>(TRUE)"
   ]
  },
  {
   "cell_type": "code",
   "execution_count": 56,
   "metadata": {
    "ExecuteTime": {
     "end_time": "2020-10-06T13:52:38.808497Z",
     "start_time": "2020-10-06T13:52:38.633089Z"
    },
    "execution": {
     "iopub.execute_input": "2020-10-17T15:20:26.646841Z",
     "iopub.status.busy": "2020-10-17T15:20:26.646499Z",
     "iopub.status.idle": "2020-10-17T15:20:26.833589Z",
     "shell.execute_reply": "2020-10-17T15:20:26.832856Z",
     "shell.execute_reply.started": "2020-10-17T15:20:26.646812Z"
    }
   },
   "outputs": [
    {
     "data": {
      "image/png": "[encoded data removed]",
      "text/plain": [
       "<Figure size 432x576 with 1 Axes>"
      ]
     },
     "metadata": {
      "needs_background": "light"
     },
     "output_type": "display_data"
    }
   ],
   "source": [
    "# uses the variable ax for single a Axes\n",
    "fig, ax = plt.subplots()\n",
    "\n",
    "# sets the figure size in inches\n",
    "ax.figure.set_size_inches(6, 8)\n",
    "\n",
    "# plots the graph\n",
    "sns.boxplot(x='loan_status', y='loan_int_rate',  data=df_cr_loan, showfliers=False, palette=[\"b\", \"r\"])\n",
    "\n",
    "# sets plot title\n",
    "ax.set_title(\"Loan interest rate range by loan status\", fontsize=20)\n",
    "\n",
    "# set xticks labels\n",
    "plt.xticks([0, 1], ['Non-Default', 'Default'])\n",
    "\n",
    "# display plots\n",
    "plt.show()"
   ]
  },
  {
   "cell_type": "markdown",
   "metadata": {},
   "source": [
    "As observed, the interest rate median for default cases is higher than for non-default.\n",
    "\n",
    "> Thus, the hypothesis is **TRUE**."
   ]
  },
  {
   "cell_type": "markdown",
   "metadata": {},
   "source": [
    "###  Hypotheses Summary "
   ]
  },
  {
   "cell_type": "markdown",
   "metadata": {},
   "source": [
    "| ID  | Hypothesis                                                                                         | Conclusion |\n",
    "|:-----:|:----------------------------------------------------------------------------------------------------|:------------:|\n",
    "| H1  | There are more defaults for young people                                                           | True       |\n",
    "| H2  | People who default have lower income than people who not default                                   | True       |\n",
    "| H3  | The median percentage of income to the loan is higher for default than the median for non\\-default | True       |\n",
    "| H4  | Mortgage have more cases of default, followed by rent and own                                      | False      |\n",
    "| H5  | The are fewer cases of default for people with long employment length                              | True       |\n",
    "| H6  | There are more cases of default for people having history of default                               | False      |\n",
    "| H7  | There are fewer cases of default for people having longer credit history length                    | True       |\n",
    "| H8  | There are more cases of default for personal than any other intent                                 | False      |\n",
    "| H9  | The least cases of default are for venture                                                         | True       |\n",
    "| H10 | The higher the grade, the fewer are the cases of default                                           | False      |\n",
    "| H11 | The loan amount median for default cases is higher than for non\\-default                                | True       |\n",
    "| H12 | The interest rate median for default cases is higher than for non\\-default                         | True       |\n"
   ]
  },
  {
   "cell_type": "markdown",
   "metadata": {},
   "source": [
    "##  Multivariate analysis - Correlations"
   ]
  },
  {
   "cell_type": "markdown",
   "metadata": {},
   "source": [
    "###  Correlation between numerical attributes (explanatory vars)"
   ]
  },
  {
   "cell_type": "code",
   "execution_count": 57,
   "metadata": {
    "ExecuteTime": {
     "end_time": "2020-10-06T13:52:38.815379Z",
     "start_time": "2020-10-06T13:52:38.810808Z"
    },
    "execution": {
     "iopub.execute_input": "2020-10-17T15:20:26.835019Z",
     "iopub.status.busy": "2020-10-17T15:20:26.834693Z",
     "iopub.status.idle": "2020-10-17T15:20:26.840547Z",
     "shell.execute_reply": "2020-10-17T15:20:26.839191Z",
     "shell.execute_reply.started": "2020-10-17T15:20:26.834988Z"
    }
   },
   "outputs": [],
   "source": [
    "# drops target var\n",
    "num_attributes = num_attributes.drop('loan_status', axis=1)"
   ]
  },
  {
   "cell_type": "code",
   "execution_count": 58,
   "metadata": {
    "ExecuteTime": {
     "end_time": "2020-10-06T13:52:39.202319Z",
     "start_time": "2020-10-06T13:52:38.817460Z"
    },
    "execution": {
     "iopub.execute_input": "2020-10-17T15:20:26.842277Z",
     "iopub.status.busy": "2020-10-17T15:20:26.842057Z",
     "iopub.status.idle": "2020-10-17T15:20:27.294178Z",
     "shell.execute_reply": "2020-10-17T15:20:27.292917Z",
     "shell.execute_reply.started": "2020-10-17T15:20:26.842251Z"
    }
   },
   "outputs": [
    {
     "name": "stderr",
     "output_type": "stream",
     "text": [
      "/var/folders/33/rp5lh2896h923gctd_9wdtmw0000gn/T/ipykernel_2406/1971104442.py:11: DeprecationWarning: `np.bool` is a deprecated alias for the builtin `bool`. To silence this warning, use `bool` by itself. Doing this will not modify any behavior and is safe. If you specifically wanted the numpy scalar type, use `np.bool_` here.\n",
      "Deprecated in NumPy 1.20; for more details and guidance: https://numpy.org/devdocs/release/1.20.0-notes.html#deprecations\n",
      "  mask = np.triu(np.ones_like(correlation, dtype=np.bool))\n"
     ]
    },
    {
     "data": {
      "image/png": "[encoded data removed]",
      "text/plain": [
       "<Figure size 864x576 with 2 Axes>"
      ]
     },
     "metadata": {
      "needs_background": "light"
     },
     "output_type": "display_data"
    }
   ],
   "source": [
    "# gets the correlation between the numerical variables\n",
    "correlation = num_attributes.corr(method='pearson')\n",
    "\n",
    "# uses the variable ax for single a Axes\n",
    "fig, ax = plt.subplots()\n",
    "\n",
    "# sets the figure size in inches\n",
    "ax.figure.set_size_inches(12, 8)\n",
    "\n",
    "# generates a mask for the upper triangle\n",
    "mask = np.triu(np.ones_like(correlation, dtype=np.bool))\n",
    "\n",
    "# generates a custom diverging colormap\n",
    "cmap = sns.diverging_palette(220, 10, as_cmap=True)\n",
    "\n",
    "# plots the heatmap\n",
    "sns.heatmap(correlation, cmap=cmap, mask=mask, square=True, linewidths=.5, annot=True)\n",
    "\n",
    "# displays the plot\n",
    "plt.show()"
   ]
  },
  {
   "cell_type": "markdown",
   "metadata": {},
   "source": [
    "###  Correlations between categorical attributes (explanatory vars)"
   ]
  },
  {
   "cell_type": "code",
   "execution_count": 59,
   "metadata": {
    "ExecuteTime": {
     "end_time": "2020-10-06T13:52:39.209825Z",
     "start_time": "2020-10-06T13:52:39.204718Z"
    },
    "execution": {
     "iopub.execute_input": "2020-10-17T15:20:27.295907Z",
     "iopub.status.busy": "2020-10-17T15:20:27.295528Z",
     "iopub.status.idle": "2020-10-17T15:20:27.301997Z",
     "shell.execute_reply": "2020-10-17T15:20:27.301117Z",
     "shell.execute_reply.started": "2020-10-17T15:20:27.295878Z"
    }
   },
   "outputs": [],
   "source": [
    "# creates a dataset for categorical attributes\n",
    "cat_attributes = df_cr_loan.select_dtypes(exclude=['int64', 'float64'])"
   ]
  },
  {
   "cell_type": "markdown",
   "metadata": {},
   "source": [
    "#### Using Cramer V"
   ]
  },
  {
   "cell_type": "code",
   "execution_count": 60,
   "metadata": {
    "ExecuteTime": {
     "end_time": "2020-10-06T13:52:39.426921Z",
     "start_time": "2020-10-06T13:52:39.212449Z"
    },
    "execution": {
     "iopub.execute_input": "2020-10-17T15:20:27.303825Z",
     "iopub.status.busy": "2020-10-17T15:20:27.303316Z",
     "iopub.status.idle": "2020-10-17T15:20:27.623772Z",
     "shell.execute_reply": "2020-10-17T15:20:27.623121Z",
     "shell.execute_reply.started": "2020-10-17T15:20:27.303764Z"
    }
   },
   "outputs": [
    {
     "ename": "NameError",
     "evalue": "name 'gu' is not defined",
     "output_type": "error",
     "traceback": [
      "\u001b[0;31m---------------------------------------------------------------------------\u001b[0m",
      "\u001b[0;31mNameError\u001b[0m                                 Traceback (most recent call last)",
      "Input \u001b[0;32mIn [60]\u001b[0m, in \u001b[0;36m<cell line: 2>\u001b[0;34m()\u001b[0m\n\u001b[1;32m      1\u001b[0m \u001b[38;5;66;03m# gets the cramer list of calculated values\u001b[39;00m\n\u001b[0;32m----> 2\u001b[0m cramer_list \u001b[38;5;241m=\u001b[39m \u001b[43mgu\u001b[49m\u001b[38;5;241m.\u001b[39mget_cramer_list(cat_attributes)\n\u001b[1;32m      4\u001b[0m \u001b[38;5;66;03m# builds the dataset to make the correlations\u001b[39;00m\n\u001b[1;32m      5\u001b[0m cat_corr \u001b[38;5;241m=\u001b[39m pd\u001b[38;5;241m.\u001b[39mDataFrame({\u001b[38;5;124m'\u001b[39m\u001b[38;5;124mperson_home_ownership\u001b[39m\u001b[38;5;124m'\u001b[39m: cramer_list[\u001b[38;5;241m0\u001b[39m],\n\u001b[1;32m      6\u001b[0m                   \u001b[38;5;124m'\u001b[39m\u001b[38;5;124mloan_intent\u001b[39m\u001b[38;5;124m'\u001b[39m: cramer_list[\u001b[38;5;241m1\u001b[39m],\n\u001b[1;32m      7\u001b[0m                   \u001b[38;5;124m'\u001b[39m\u001b[38;5;124mloan_grade\u001b[39m\u001b[38;5;124m'\u001b[39m: cramer_list[\u001b[38;5;241m2\u001b[39m],\n\u001b[1;32m      8\u001b[0m                   \u001b[38;5;124m'\u001b[39m\u001b[38;5;124mcb_person_default_on_file\u001b[39m\u001b[38;5;124m'\u001b[39m: cramer_list[\u001b[38;5;241m3\u001b[39m]\n\u001b[1;32m      9\u001b[0m                  })\n",
      "\u001b[0;31mNameError\u001b[0m: name 'gu' is not defined"
     ]
    }
   ],
   "source": [
    "# gets the cramer list of calculated values\n",
    "cramer_list = gu.get_cramer_list(cat_attributes)\n",
    "\n",
    "# builds the dataset to make the correlations\n",
    "cat_corr = pd.DataFrame({'person_home_ownership': cramer_list[0],\n",
    "                  'loan_intent': cramer_list[1],\n",
    "                  'loan_grade': cramer_list[2],\n",
    "                  'cb_person_default_on_file': cramer_list[3]\n",
    "                 })\n",
    "\n",
    "# sets index equal to columns\n",
    "cat_corr = cat_corr.set_index(cat_corr.columns)"
   ]
  },
  {
   "cell_type": "markdown",
   "metadata": {},
   "source": [
    "#### Using Theil's U"
   ]
  },
  {
   "cell_type": "code",
   "execution_count": 61,
   "metadata": {
    "ExecuteTime": {
     "end_time": "2020-10-06T13:52:40.936091Z",
     "start_time": "2020-10-06T13:52:39.429487Z"
    },
    "execution": {
     "iopub.execute_input": "2020-10-17T15:20:27.625476Z",
     "iopub.status.busy": "2020-10-17T15:20:27.625149Z",
     "iopub.status.idle": "2020-10-17T15:20:29.266559Z",
     "shell.execute_reply": "2020-10-17T15:20:29.265774Z",
     "shell.execute_reply.started": "2020-10-17T15:20:27.625425Z"
    }
   },
   "outputs": [
    {
     "ename": "NameError",
     "evalue": "name 'gu' is not defined",
     "output_type": "error",
     "traceback": [
      "\u001b[0;31m---------------------------------------------------------------------------\u001b[0m",
      "\u001b[0;31mNameError\u001b[0m                                 Traceback (most recent call last)",
      "Input \u001b[0;32mIn [61]\u001b[0m, in \u001b[0;36m<cell line: 2>\u001b[0;34m()\u001b[0m\n\u001b[1;32m      1\u001b[0m \u001b[38;5;66;03m# gets the theils_u list of calculated values\u001b[39;00m\n\u001b[0;32m----> 2\u001b[0m theils_u_list \u001b[38;5;241m=\u001b[39m \u001b[43mgu\u001b[49m\u001b[38;5;241m.\u001b[39mget_theils_u_list(cat_attributes)\n\u001b[1;32m      4\u001b[0m \u001b[38;5;66;03m# builds the dataset to make the correlations\u001b[39;00m\n\u001b[1;32m      5\u001b[0m cat_corr_tu \u001b[38;5;241m=\u001b[39m pd\u001b[38;5;241m.\u001b[39mDataFrame({\u001b[38;5;124m'\u001b[39m\u001b[38;5;124mperson_home_ownership\u001b[39m\u001b[38;5;124m'\u001b[39m: theils_u_list[\u001b[38;5;241m0\u001b[39m],\n\u001b[1;32m      6\u001b[0m                   \u001b[38;5;124m'\u001b[39m\u001b[38;5;124mloan_intent\u001b[39m\u001b[38;5;124m'\u001b[39m: theils_u_list[\u001b[38;5;241m1\u001b[39m],\n\u001b[1;32m      7\u001b[0m                   \u001b[38;5;124m'\u001b[39m\u001b[38;5;124mloan_grade\u001b[39m\u001b[38;5;124m'\u001b[39m: theils_u_list[\u001b[38;5;241m2\u001b[39m],\n\u001b[1;32m      8\u001b[0m                   \u001b[38;5;124m'\u001b[39m\u001b[38;5;124mcb_person_default_on_file\u001b[39m\u001b[38;5;124m'\u001b[39m: theils_u_list[\u001b[38;5;241m3\u001b[39m]\n\u001b[1;32m      9\u001b[0m                  })\n",
      "\u001b[0;31mNameError\u001b[0m: name 'gu' is not defined"
     ]
    }
   ],
   "source": [
    "# gets the theils_u list of calculated values\n",
    "theils_u_list = gu.get_theils_u_list(cat_attributes)\n",
    "\n",
    "# builds the dataset to make the correlations\n",
    "cat_corr_tu = pd.DataFrame({'person_home_ownership': theils_u_list[0],\n",
    "                  'loan_intent': theils_u_list[1],\n",
    "                  'loan_grade': theils_u_list[2],\n",
    "                  'cb_person_default_on_file': theils_u_list[3]\n",
    "                 })\n",
    "\n",
    "# sets index equal to columns\n",
    "cat_corr_tu = cat_corr_tu.set_index(cat_corr_tu.columns)"
   ]
  },
  {
   "cell_type": "markdown",
   "metadata": {},
   "source": [
    "#### Analyzing the correlation methods"
   ]
  },
  {
   "cell_type": "code",
   "execution_count": 62,
   "metadata": {
    "ExecuteTime": {
     "end_time": "2020-10-06T13:52:41.565778Z",
     "start_time": "2020-10-06T13:52:40.938039Z"
    },
    "execution": {
     "iopub.execute_input": "2020-10-17T15:20:29.267924Z",
     "iopub.status.busy": "2020-10-17T15:20:29.267733Z",
     "iopub.status.idle": "2020-10-17T15:20:29.834636Z",
     "shell.execute_reply": "2020-10-17T15:20:29.833743Z",
     "shell.execute_reply.started": "2020-10-17T15:20:29.267902Z"
    }
   },
   "outputs": [
    {
     "ename": "NameError",
     "evalue": "name 'cat_corr' is not defined",
     "output_type": "error",
     "traceback": [
      "\u001b[0;31m---------------------------------------------------------------------------\u001b[0m",
      "\u001b[0;31mNameError\u001b[0m                                 Traceback (most recent call last)",
      "Input \u001b[0;32mIn [62]\u001b[0m, in \u001b[0;36m<cell line: 8>\u001b[0;34m()\u001b[0m\n\u001b[1;32m      5\u001b[0m ax\u001b[38;5;241m.\u001b[39mfigure\u001b[38;5;241m.\u001b[39mset_size_inches(\u001b[38;5;241m18\u001b[39m, \u001b[38;5;241m8\u001b[39m)\n\u001b[1;32m      7\u001b[0m \u001b[38;5;66;03m# generates a mask for the upper triangle\u001b[39;00m\n\u001b[0;32m----> 8\u001b[0m mask \u001b[38;5;241m=\u001b[39m np\u001b[38;5;241m.\u001b[39mtriu(np\u001b[38;5;241m.\u001b[39mones_like(\u001b[43mcat_corr\u001b[49m, dtype\u001b[38;5;241m=\u001b[39mnp\u001b[38;5;241m.\u001b[39mbool))\n\u001b[1;32m      9\u001b[0m mask \u001b[38;5;241m=\u001b[39m np\u001b[38;5;241m.\u001b[39mtriu(np\u001b[38;5;241m.\u001b[39mones_like(cat_corr_tu, dtype\u001b[38;5;241m=\u001b[39mnp\u001b[38;5;241m.\u001b[39mbool))\n\u001b[1;32m     11\u001b[0m \u001b[38;5;66;03m# generates a custom diverging colormap\u001b[39;00m\n",
      "\u001b[0;31mNameError\u001b[0m: name 'cat_corr' is not defined"
     ]
    },
    {
     "data": {
      "image/png": "[encoded data removed]",
      "text/plain": [
       "<Figure size 1296x576 with 1 Axes>"
      ]
     },
     "metadata": {
      "needs_background": "light"
     },
     "output_type": "display_data"
    }
   ],
   "source": [
    "# uses the variable ax for single a Axes\n",
    "fig, ax = plt.subplots()\n",
    "\n",
    "# sets the figure size in inches\n",
    "ax.figure.set_size_inches(18, 8)\n",
    "\n",
    "# generates a mask for the upper triangle\n",
    "mask = np.triu(np.ones_like(cat_corr, dtype=np.bool))\n",
    "mask = np.triu(np.ones_like(cat_corr_tu, dtype=np.bool))\n",
    "\n",
    "# generates a custom diverging colormap\n",
    "cmap = sns.diverging_palette(220, 10, as_cmap=True)\n",
    "\n",
    "# plots the heatmap\n",
    "plt.subplot(1,2,1)\n",
    "sns.heatmap(cat_corr, cmap=cmap, mask=mask, square=True, linewidths=.5, annot=True, annot_kws={\"size\":14})\n",
    "plt.title(\"Correlations using Cramer V\", fontsize=14)\n",
    "\n",
    "plt.subplot(1,2,2)\n",
    "sns.heatmap(cat_corr_tu, cmap=cmap, mask=mask, square=True, linewidths=.5, annot=True, annot_kws={\"size\":14})\n",
    "plt.title(\"Correlations using Theil's U\", fontsize=14)\n",
    "\n",
    "# adjusts vertical space between plots\n",
    "plt.subplots_adjust(hspace = 0.3)\n",
    "plt.subplots_adjust(wspace = 0.3)\n",
    "\n",
    "# displays the plot\n",
    "plt.show()"
   ]
  },
  {
   "cell_type": "markdown",
   "metadata": {},
   "source": [
    "#  Data preprocessing"
   ]
  },
  {
   "cell_type": "markdown",
   "metadata": {},
   "source": [
    "## Loading data set"
   ]
  },
  {
   "cell_type": "code",
   "execution_count": 65,
   "metadata": {
    "ExecuteTime": {
     "end_time": "2020-10-06T13:52:41.609312Z",
     "start_time": "2020-10-06T13:52:41.568445Z"
    },
    "execution": {
     "iopub.execute_input": "2020-10-23T18:01:41.297998Z",
     "iopub.status.busy": "2020-10-23T18:01:41.297744Z",
     "iopub.status.idle": "2020-10-23T18:01:41.376568Z",
     "shell.execute_reply": "2020-10-23T18:01:41.375440Z",
     "shell.execute_reply.started": "2020-10-23T18:01:41.297972Z"
    }
   },
   "outputs": [
    {
     "data": {
      "text/html": [
       "<div>\n",
       "<style scoped>\n",
       "    .dataframe tbody tr th:only-of-type {\n",
       "        vertical-align: middle;\n",
       "    }\n",
       "\n",
       "    .dataframe tbody tr th {\n",
       "        vertical-align: top;\n",
       "    }\n",
       "\n",
       "    .dataframe thead th {\n",
       "        text-align: right;\n",
       "    }\n",
       "</style>\n",
       "<table border=\"1\" class=\"dataframe\">\n",
       "  <thead>\n",
       "    <tr style=\"text-align: right;\">\n",
       "      <th></th>\n",
       "      <th>person_age</th>\n",
       "      <th>person_income</th>\n",
       "      <th>person_home_ownership</th>\n",
       "      <th>person_emp_length</th>\n",
       "      <th>loan_intent</th>\n",
       "      <th>loan_grade</th>\n",
       "      <th>loan_amnt</th>\n",
       "      <th>loan_int_rate</th>\n",
       "      <th>loan_status</th>\n",
       "      <th>loan_percent_income</th>\n",
       "      <th>cb_person_default_on_file</th>\n",
       "      <th>cb_person_cred_hist_length</th>\n",
       "    </tr>\n",
       "  </thead>\n",
       "  <tbody>\n",
       "    <tr>\n",
       "      <th>0</th>\n",
       "      <td>21</td>\n",
       "      <td>9600</td>\n",
       "      <td>OWN</td>\n",
       "      <td>5.0</td>\n",
       "      <td>EDUCATION</td>\n",
       "      <td>B</td>\n",
       "      <td>1000</td>\n",
       "      <td>11.14</td>\n",
       "      <td>0</td>\n",
       "      <td>0.10</td>\n",
       "      <td>N</td>\n",
       "      <td>2</td>\n",
       "    </tr>\n",
       "    <tr>\n",
       "      <th>1</th>\n",
       "      <td>25</td>\n",
       "      <td>9600</td>\n",
       "      <td>MORTGAGE</td>\n",
       "      <td>1.0</td>\n",
       "      <td>MEDICAL</td>\n",
       "      <td>C</td>\n",
       "      <td>5500</td>\n",
       "      <td>12.87</td>\n",
       "      <td>1</td>\n",
       "      <td>0.57</td>\n",
       "      <td>N</td>\n",
       "      <td>3</td>\n",
       "    </tr>\n",
       "    <tr>\n",
       "      <th>2</th>\n",
       "      <td>23</td>\n",
       "      <td>65500</td>\n",
       "      <td>RENT</td>\n",
       "      <td>4.0</td>\n",
       "      <td>MEDICAL</td>\n",
       "      <td>C</td>\n",
       "      <td>35000</td>\n",
       "      <td>15.23</td>\n",
       "      <td>1</td>\n",
       "      <td>0.53</td>\n",
       "      <td>N</td>\n",
       "      <td>2</td>\n",
       "    </tr>\n",
       "    <tr>\n",
       "      <th>3</th>\n",
       "      <td>24</td>\n",
       "      <td>54400</td>\n",
       "      <td>RENT</td>\n",
       "      <td>8.0</td>\n",
       "      <td>MEDICAL</td>\n",
       "      <td>C</td>\n",
       "      <td>35000</td>\n",
       "      <td>14.27</td>\n",
       "      <td>1</td>\n",
       "      <td>0.55</td>\n",
       "      <td>Y</td>\n",
       "      <td>4</td>\n",
       "    </tr>\n",
       "    <tr>\n",
       "      <th>4</th>\n",
       "      <td>21</td>\n",
       "      <td>9900</td>\n",
       "      <td>OWN</td>\n",
       "      <td>2.0</td>\n",
       "      <td>VENTURE</td>\n",
       "      <td>A</td>\n",
       "      <td>2500</td>\n",
       "      <td>7.14</td>\n",
       "      <td>1</td>\n",
       "      <td>0.25</td>\n",
       "      <td>N</td>\n",
       "      <td>2</td>\n",
       "    </tr>\n",
       "  </tbody>\n",
       "</table>\n",
       "</div>"
      ],
      "text/plain": [
       "   person_age  person_income person_home_ownership  person_emp_length  \\\n",
       "0          21           9600                   OWN                5.0   \n",
       "1          25           9600              MORTGAGE                1.0   \n",
       "2          23          65500                  RENT                4.0   \n",
       "3          24          54400                  RENT                8.0   \n",
       "4          21           9900                   OWN                2.0   \n",
       "\n",
       "  loan_intent loan_grade  loan_amnt  loan_int_rate  loan_status  \\\n",
       "0   EDUCATION          B       1000          11.14            0   \n",
       "1     MEDICAL          C       5500          12.87            1   \n",
       "2     MEDICAL          C      35000          15.23            1   \n",
       "3     MEDICAL          C      35000          14.27            1   \n",
       "4     VENTURE          A       2500           7.14            1   \n",
       "\n",
       "   loan_percent_income cb_person_default_on_file  cb_person_cred_hist_length  \n",
       "0                 0.10                         N                           2  \n",
       "1                 0.57                         N                           3  \n",
       "2                 0.53                         N                           2  \n",
       "3                 0.55                         Y                           4  \n",
       "4                 0.25                         N                           2  "
      ]
     },
     "execution_count": 65,
     "metadata": {},
     "output_type": "execute_result"
    }
   ],
   "source": [
    "# loads data set\n",
    "df_cr_loan = pd.read_csv('/Users/aaryamehta/Desktop/CAPSTONE/credit_risk-master/data/cr_loan_clean.csv')\n",
    "df_cr_loan.head()"
   ]
  },
  {
   "cell_type": "code",
   "execution_count": 66,
   "metadata": {
    "ExecuteTime": {
     "end_time": "2020-10-06T13:52:41.615428Z",
     "start_time": "2020-10-06T13:52:41.611162Z"
    },
    "execution": {
     "iopub.execute_input": "2020-10-23T18:01:42.658991Z",
     "iopub.status.busy": "2020-10-23T18:01:42.658731Z",
     "iopub.status.idle": "2020-10-23T18:01:42.664375Z",
     "shell.execute_reply": "2020-10-23T18:01:42.663410Z",
     "shell.execute_reply.started": "2020-10-23T18:01:42.658963Z"
    }
   },
   "outputs": [
    {
     "data": {
      "text/plain": [
       "(29459, 12)"
      ]
     },
     "execution_count": 66,
     "metadata": {},
     "output_type": "execute_result"
    }
   ],
   "source": [
    "# checks data size\n",
    "df_cr_loan.shape"
   ]
  },
  {
   "cell_type": "markdown",
   "metadata": {},
   "source": [
    "## Scaling numerical vars"
   ]
  },
  {
   "cell_type": "code",
   "execution_count": 67,
   "metadata": {
    "ExecuteTime": {
     "end_time": "2020-10-06T13:52:41.625392Z",
     "start_time": "2020-10-06T13:52:41.617667Z"
    },
    "execution": {
     "iopub.execute_input": "2020-10-23T18:01:52.739920Z",
     "iopub.status.busy": "2020-10-23T18:01:52.739659Z",
     "iopub.status.idle": "2020-10-23T18:01:52.749261Z",
     "shell.execute_reply": "2020-10-23T18:01:52.748394Z",
     "shell.execute_reply.started": "2020-10-23T18:01:52.739893Z"
    }
   },
   "outputs": [],
   "source": [
    "# selects only numerical data types variables\n",
    "df_numerical_vars = df_cr_loan.select_dtypes(include=['int64', 'float64']).drop('loan_status', axis=1)"
   ]
  },
  {
   "cell_type": "code",
   "execution_count": 68,
   "metadata": {
    "ExecuteTime": {
     "end_time": "2020-10-06T13:52:41.640271Z",
     "start_time": "2020-10-06T13:52:41.627670Z"
    },
    "execution": {
     "iopub.execute_input": "2020-10-23T18:01:53.724573Z",
     "iopub.status.busy": "2020-10-23T18:01:53.724313Z",
     "iopub.status.idle": "2020-10-23T18:01:53.742464Z",
     "shell.execute_reply": "2020-10-23T18:01:53.741457Z",
     "shell.execute_reply.started": "2020-10-23T18:01:53.724547Z"
    }
   },
   "outputs": [],
   "source": [
    "# instantiates the scaler\n",
    "mms = MinMaxScaler()\n",
    "\n",
    "# applies the scaler\n",
    "scaled_numerical = mms.fit_transform(df_numerical_vars)\n",
    "\n",
    "# saves the rescaling\n",
    "pickle.dump(mms, open('numerical_vars_scaler.pkl', 'wb'))"
   ]
  },
  {
   "cell_type": "code",
   "execution_count": 69,
   "metadata": {
    "ExecuteTime": {
     "end_time": "2020-10-06T13:52:41.646276Z",
     "start_time": "2020-10-06T13:52:41.642727Z"
    },
    "execution": {
     "iopub.execute_input": "2020-10-23T18:01:54.077834Z",
     "iopub.status.busy": "2020-10-23T18:01:54.077494Z",
     "iopub.status.idle": "2020-10-23T18:01:54.082086Z",
     "shell.execute_reply": "2020-10-23T18:01:54.080816Z",
     "shell.execute_reply.started": "2020-10-23T18:01:54.077801Z"
    }
   },
   "outputs": [],
   "source": [
    "# gets the Data Frame version of numerical scaled for later manipulation\n",
    "df_scaled_numerical = pd.DataFrame(scaled_numerical)\n",
    "\n",
    "# renaming the columns of result Data Frame\n",
    "df_scaled_numerical.columns = df_numerical_vars.columns"
   ]
  },
  {
   "cell_type": "code",
   "execution_count": 70,
   "metadata": {
    "ExecuteTime": {
     "end_time": "2020-10-06T13:52:41.654339Z",
     "start_time": "2020-10-06T13:52:41.649778Z"
    },
    "execution": {
     "iopub.execute_input": "2020-10-23T18:01:55.141418Z",
     "iopub.status.busy": "2020-10-23T18:01:55.141173Z",
     "iopub.status.idle": "2020-10-23T18:01:55.147251Z",
     "shell.execute_reply": "2020-10-23T18:01:55.146039Z",
     "shell.execute_reply.started": "2020-10-23T18:01:55.141394Z"
    }
   },
   "outputs": [
    {
     "data": {
      "text/plain": [
       "(29459, 7)"
      ]
     },
     "execution_count": 70,
     "metadata": {},
     "output_type": "execute_result"
    }
   ],
   "source": [
    "# checks data set size\n",
    "df_scaled_numerical.shape"
   ]
  },
  {
   "cell_type": "markdown",
   "metadata": {},
   "source": [
    "## Transformation"
   ]
  },
  {
   "cell_type": "markdown",
   "metadata": {},
   "source": [
    "### Encoding categorical data"
   ]
  },
  {
   "cell_type": "markdown",
   "metadata": {},
   "source": [
    "Once the new columns have been created using one-hot encoding, we can concatenate them with the numeric columns to create a new data frame which will be used throughout the rest of the course for predicting probability of default.\n",
    "\n",
    "Remember to only one-hot encode the non-numeric columns. Doing this to the numeric columns would create an incredibly wide data set."
   ]
  },
  {
   "cell_type": "code",
   "execution_count": 71,
   "metadata": {
    "ExecuteTime": {
     "end_time": "2020-10-06T13:52:41.682921Z",
     "start_time": "2020-10-06T13:52:41.658002Z"
    },
    "execution": {
     "iopub.execute_input": "2020-10-17T15:20:29.957932Z",
     "iopub.status.busy": "2020-10-17T15:20:29.957660Z",
     "iopub.status.idle": "2020-10-17T15:20:29.986915Z",
     "shell.execute_reply": "2020-10-17T15:20:29.986039Z",
     "shell.execute_reply.started": "2020-10-17T15:20:29.957903Z"
    }
   },
   "outputs": [
    {
     "name": "stdout",
     "output_type": "stream",
     "text": [
      "Index(['person_age', 'person_income', 'person_emp_length', 'loan_amnt',\n",
      "       'loan_int_rate', 'loan_percent_income', 'cb_person_cred_hist_length',\n",
      "       'person_home_ownership_MORTGAGE', 'person_home_ownership_OTHER',\n",
      "       'person_home_ownership_OWN', 'person_home_ownership_RENT',\n",
      "       'loan_intent_DEBTCONSOLIDATION', 'loan_intent_EDUCATION',\n",
      "       'loan_intent_HOMEIMPROVEMENT', 'loan_intent_MEDICAL',\n",
      "       'loan_intent_PERSONAL', 'loan_intent_VENTURE', 'loan_grade_A',\n",
      "       'loan_grade_B', 'loan_grade_C', 'loan_grade_D', 'loan_grade_E',\n",
      "       'loan_grade_F', 'loan_grade_G', 'cb_person_default_on_file_N',\n",
      "       'cb_person_default_on_file_Y'],\n",
      "      dtype='object')\n"
     ]
    }
   ],
   "source": [
    "# creates data sets for non-numeric data\n",
    "cred_str = df_cr_loan.select_dtypes(include=['object'])\n",
    "\n",
    "# One-hot encode the non-numeric columns\n",
    "cred_str_onehot = pd.get_dummies(cred_str)\n",
    "\n",
    "# union the one-hot encoded columns to the numeric ones\n",
    "df_cr_loan_prep = pd.concat([df_scaled_numerical, cred_str_onehot], axis=1)\n",
    "\n",
    "# prints the columns in the new data set\n",
    "print(df_cr_loan_prep.columns)"
   ]
  },
  {
   "cell_type": "markdown",
   "metadata": {},
   "source": [
    "##  Joining everything"
   ]
  },
  {
   "cell_type": "code",
   "execution_count": 72,
   "metadata": {
    "ExecuteTime": {
     "end_time": "2020-10-06T13:52:41.689455Z",
     "start_time": "2020-10-06T13:52:41.685313Z"
    },
    "execution": {
     "iopub.execute_input": "2020-10-17T15:20:29.994870Z",
     "iopub.status.busy": "2020-10-17T15:20:29.994611Z",
     "iopub.status.idle": "2020-10-17T15:20:30.000237Z",
     "shell.execute_reply": "2020-10-17T15:20:29.999283Z",
     "shell.execute_reply.started": "2020-10-17T15:20:29.994843Z"
    }
   },
   "outputs": [],
   "source": [
    "# stores the loan status\n",
    "loan_status = df_cr_loan[['loan_status']].copy()"
   ]
  },
  {
   "cell_type": "code",
   "execution_count": 73,
   "metadata": {
    "ExecuteTime": {
     "end_time": "2020-10-06T13:52:41.697872Z",
     "start_time": "2020-10-06T13:52:41.692303Z"
    },
    "execution": {
     "iopub.execute_input": "2020-10-17T15:20:30.001889Z",
     "iopub.status.busy": "2020-10-17T15:20:30.001591Z",
     "iopub.status.idle": "2020-10-17T15:20:30.008562Z",
     "shell.execute_reply": "2020-10-17T15:20:30.007387Z",
     "shell.execute_reply.started": "2020-10-17T15:20:30.001861Z"
    }
   },
   "outputs": [],
   "source": [
    "# joins target and all explain vars\n",
    "df_cr_loan_prep = pd.concat([loan_status, df_cr_loan_prep], axis=1)"
   ]
  },
  {
   "cell_type": "code",
   "execution_count": 74,
   "metadata": {
    "ExecuteTime": {
     "end_time": "2020-10-06T13:52:41.716606Z",
     "start_time": "2020-10-06T13:52:41.700815Z"
    },
    "execution": {
     "iopub.execute_input": "2020-10-17T15:20:30.010493Z",
     "iopub.status.busy": "2020-10-17T15:20:30.010006Z",
     "iopub.status.idle": "2020-10-17T15:20:30.027937Z",
     "shell.execute_reply": "2020-10-17T15:20:30.026927Z",
     "shell.execute_reply.started": "2020-10-17T15:20:30.010453Z"
    }
   },
   "outputs": [
    {
     "name": "stdout",
     "output_type": "stream",
     "text": [
      "<class 'pandas.core.frame.DataFrame'>\n",
      "RangeIndex: 29459 entries, 0 to 29458\n",
      "Data columns (total 27 columns):\n",
      " #   Column                          Non-Null Count  Dtype  \n",
      "---  ------                          --------------  -----  \n",
      " 0   loan_status                     29459 non-null  int64  \n",
      " 1   person_age                      29459 non-null  float64\n",
      " 2   person_income                   29459 non-null  float64\n",
      " 3   person_emp_length               29459 non-null  float64\n",
      " 4   loan_amnt                       29459 non-null  float64\n",
      " 5   loan_int_rate                   29459 non-null  float64\n",
      " 6   loan_percent_income             29459 non-null  float64\n",
      " 7   cb_person_cred_hist_length      29459 non-null  float64\n",
      " 8   person_home_ownership_MORTGAGE  29459 non-null  uint8  \n",
      " 9   person_home_ownership_OTHER     29459 non-null  uint8  \n",
      " 10  person_home_ownership_OWN       29459 non-null  uint8  \n",
      " 11  person_home_ownership_RENT      29459 non-null  uint8  \n",
      " 12  loan_intent_DEBTCONSOLIDATION   29459 non-null  uint8  \n",
      " 13  loan_intent_EDUCATION           29459 non-null  uint8  \n",
      " 14  loan_intent_HOMEIMPROVEMENT     29459 non-null  uint8  \n",
      " 15  loan_intent_MEDICAL             29459 non-null  uint8  \n",
      " 16  loan_intent_PERSONAL            29459 non-null  uint8  \n",
      " 17  loan_intent_VENTURE             29459 non-null  uint8  \n",
      " 18  loan_grade_A                    29459 non-null  uint8  \n",
      " 19  loan_grade_B                    29459 non-null  uint8  \n",
      " 20  loan_grade_C                    29459 non-null  uint8  \n",
      " 21  loan_grade_D                    29459 non-null  uint8  \n",
      " 22  loan_grade_E                    29459 non-null  uint8  \n",
      " 23  loan_grade_F                    29459 non-null  uint8  \n",
      " 24  loan_grade_G                    29459 non-null  uint8  \n",
      " 25  cb_person_default_on_file_N     29459 non-null  uint8  \n",
      " 26  cb_person_default_on_file_Y     29459 non-null  uint8  \n",
      "dtypes: float64(7), int64(1), uint8(19)\n",
      "memory usage: 2.3 MB\n"
     ]
    }
   ],
   "source": [
    "# checks the data set info\n",
    "df_cr_loan_prep.info()"
   ]
  },
  {
   "cell_type": "markdown",
   "metadata": {},
   "source": [
    "##  Checkpoint"
   ]
  },
  {
   "cell_type": "code",
   "execution_count": 76,
   "metadata": {
    "ExecuteTime": {
     "end_time": "2020-10-06T13:52:42.142039Z",
     "start_time": "2020-10-06T13:52:41.719245Z"
    },
    "execution": {
     "iopub.execute_input": "2020-10-17T15:20:30.030268Z",
     "iopub.status.busy": "2020-10-17T15:20:30.029758Z",
     "iopub.status.idle": "2020-10-17T15:20:30.539589Z",
     "shell.execute_reply": "2020-10-17T15:20:30.537911Z",
     "shell.execute_reply.started": "2020-10-17T15:20:30.030204Z"
    }
   },
   "outputs": [],
   "source": [
    "# saves data set state\n",
    "df_cr_loan_prep.to_csv('/Users/aaryamehta/Desktop/CAPSTONE/credit_risk-master/data/cr_loan_prep.csv', index=False)"
   ]
  },
  {
   "cell_type": "markdown",
   "metadata": {},
   "source": [
    "#  Machine Learning Modeling"
   ]
  },
  {
   "cell_type": "markdown",
   "metadata": {},
   "source": [
    "### Targe variable: `loan_status` (`0` = non-default ; `1` = default)"
   ]
  },
  {
   "cell_type": "markdown",
   "metadata": {},
   "source": [
    "##  Loading data set"
   ]
  },
  {
   "cell_type": "code",
   "execution_count": 79,
   "metadata": {
    "ExecuteTime": {
     "end_time": "2020-10-06T13:52:42.336533Z",
     "start_time": "2020-10-06T13:52:42.207237Z"
    },
    "execution": {
     "iopub.execute_input": "2020-10-17T15:20:30.605956Z",
     "iopub.status.busy": "2020-10-17T15:20:30.605537Z",
     "iopub.status.idle": "2020-10-17T15:20:30.758114Z",
     "shell.execute_reply": "2020-10-17T15:20:30.756887Z",
     "shell.execute_reply.started": "2020-10-17T15:20:30.605901Z"
    }
   },
   "outputs": [
    {
     "name": "stdout",
     "output_type": "stream",
     "text": [
      "<class 'pandas.core.frame.DataFrame'>\n",
      "RangeIndex: 29459 entries, 0 to 29458\n",
      "Data columns (total 27 columns):\n",
      " #   Column                          Non-Null Count  Dtype  \n",
      "---  ------                          --------------  -----  \n",
      " 0   loan_status                     29459 non-null  int64  \n",
      " 1   person_age                      29459 non-null  float64\n",
      " 2   person_income                   29459 non-null  float64\n",
      " 3   person_emp_length               29459 non-null  float64\n",
      " 4   loan_amnt                       29459 non-null  float64\n",
      " 5   loan_int_rate                   29459 non-null  float64\n",
      " 6   loan_percent_income             29459 non-null  float64\n",
      " 7   cb_person_cred_hist_length      29459 non-null  float64\n",
      " 8   person_home_ownership_MORTGAGE  29459 non-null  int64  \n",
      " 9   person_home_ownership_OTHER     29459 non-null  int64  \n",
      " 10  person_home_ownership_OWN       29459 non-null  int64  \n",
      " 11  person_home_ownership_RENT      29459 non-null  int64  \n",
      " 12  loan_intent_DEBTCONSOLIDATION   29459 non-null  int64  \n",
      " 13  loan_intent_EDUCATION           29459 non-null  int64  \n",
      " 14  loan_intent_HOMEIMPROVEMENT     29459 non-null  int64  \n",
      " 15  loan_intent_MEDICAL             29459 non-null  int64  \n",
      " 16  loan_intent_PERSONAL            29459 non-null  int64  \n",
      " 17  loan_intent_VENTURE             29459 non-null  int64  \n",
      " 18  loan_grade_A                    29459 non-null  int64  \n",
      " 19  loan_grade_B                    29459 non-null  int64  \n",
      " 20  loan_grade_C                    29459 non-null  int64  \n",
      " 21  loan_grade_D                    29459 non-null  int64  \n",
      " 22  loan_grade_E                    29459 non-null  int64  \n",
      " 23  loan_grade_F                    29459 non-null  int64  \n",
      " 24  loan_grade_G                    29459 non-null  int64  \n",
      " 25  cb_person_default_on_file_N     29459 non-null  int64  \n",
      " 26  cb_person_default_on_file_Y     29459 non-null  int64  \n",
      "dtypes: float64(7), int64(20)\n",
      "memory usage: 6.1 MB\n"
     ]
    }
   ],
   "source": [
    "# loads data set WITH Boruta selection\n",
    "# df_cr_loan = pd.read_csv('data/cr_loan_to_ML.csv')\n",
    "\n",
    "# loads data set WITHOUT Boruta selection\n",
    "df_cr_loan = pd.read_csv('/Users/aaryamehta/Desktop/CAPSTONE/credit_risk-master/data/cr_loan_prep.csv')\n",
    "\n",
    "# display data set info\n",
    "df_cr_loan.info()"
   ]
  },
  {
   "cell_type": "markdown",
   "metadata": {},
   "source": [
    "##  Split data set into train and test"
   ]
  },
  {
   "cell_type": "code",
   "execution_count": 81,
   "metadata": {
    "ExecuteTime": {
     "end_time": "2020-10-06T13:52:42.374504Z",
     "start_time": "2020-10-06T13:52:42.338656Z"
    },
    "execution": {
     "iopub.execute_input": "2020-10-17T15:20:30.760383Z",
     "iopub.status.busy": "2020-10-17T15:20:30.759921Z",
     "iopub.status.idle": "2020-10-17T15:20:30.801667Z",
     "shell.execute_reply": "2020-10-17T15:20:30.800893Z",
     "shell.execute_reply.started": "2020-10-17T15:20:30.760327Z"
    }
   },
   "outputs": [
    {
     "ename": "NameError",
     "evalue": "name 'SEED' is not defined",
     "output_type": "error",
     "traceback": [
      "\u001b[0;31m---------------------------------------------------------------------------\u001b[0m",
      "\u001b[0;31mNameError\u001b[0m                                 Traceback (most recent call last)",
      "Input \u001b[0;32mIn [81]\u001b[0m, in \u001b[0;36m<cell line: 6>\u001b[0;34m()\u001b[0m\n\u001b[1;32m      3\u001b[0m y \u001b[38;5;241m=\u001b[39m df_cr_loan[\u001b[38;5;124m'\u001b[39m\u001b[38;5;124mloan_status\u001b[39m\u001b[38;5;124m'\u001b[39m]\u001b[38;5;241m.\u001b[39mvalues\n\u001b[1;32m      5\u001b[0m \u001b[38;5;66;03m# splits into training and test set\u001b[39;00m\n\u001b[1;32m      6\u001b[0m X_train, X_test, y_train, y_test \u001b[38;5;241m=\u001b[39m train_test_split(X, y, test_size\u001b[38;5;241m=\u001b[39m\u001b[38;5;241m0.25\u001b[39m, \n\u001b[0;32m----> 7\u001b[0m                                                         random_state\u001b[38;5;241m=\u001b[39m \u001b[43mSEED\u001b[49m, stratify\u001b[38;5;241m=\u001b[39my)\n",
      "\u001b[0;31mNameError\u001b[0m: name 'SEED' is not defined"
     ]
    }
   ],
   "source": [
    "# creates the X and y data sets\n",
    "X = df_cr_loan.drop('loan_status', axis=1).values\n",
    "y = df_cr_loan['loan_status'].values\n",
    "\n",
    "# splits into training and test set\n",
    "X_train, X_test, y_train, y_test = train_test_split(X, y, test_size=0.25, \n",
    "                                                        random_state= SEED, stratify=y)"
   ]
  },
  {
   "cell_type": "markdown",
   "metadata": {},
   "source": [
    "##  Balancing data for training"
   ]
  },
  {
   "cell_type": "markdown",
   "metadata": {},
   "source": [
    "Recommended reading: https://imbalanced-learn.readthedocs.io/en/stable/generated/imblearn.combine.SMOTETomek.html#imblearn.combine.SMOTETomek"
   ]
  },
  {
   "cell_type": "code",
   "execution_count": null,
   "metadata": {
    "ExecuteTime": {
     "end_time": "2020-10-06T13:52:42.840248Z",
     "start_time": "2020-10-06T13:52:42.376790Z"
    },
    "execution": {
     "iopub.execute_input": "2020-10-17T15:20:30.803867Z",
     "iopub.status.busy": "2020-10-17T15:20:30.803500Z",
     "iopub.status.idle": "2020-10-17T15:20:33.929929Z",
     "shell.execute_reply": "2020-10-17T15:20:33.929000Z",
     "shell.execute_reply.started": "2020-10-17T15:20:30.803831Z"
    }
   },
   "outputs": [],
   "source": [
    "# counts the number of classes before oversampling\n",
    "print('Before balancing:', Counter(y_train))\n",
    "\n",
    "# defines the resampler\n",
    "resampler = SMOTETomek(random_state=SEED, n_jobs=-1)\n",
    "\n",
    "# transforms the data set\n",
    "X_balanced, y_balanced = resampler.fit_resample(X_train, y_train)\n",
    "\n",
    "# counts the number of classes after oversampling\n",
    "print('After balancing:', Counter(y_balanced))"
   ]
  },
  {
   "cell_type": "code",
   "execution_count": null,
   "metadata": {
    "ExecuteTime": {
     "end_time": "2020-10-06T13:52:43.102311Z",
     "start_time": "2020-10-06T13:52:42.842031Z"
    },
    "execution": {
     "iopub.execute_input": "2020-10-17T15:20:33.932201Z",
     "iopub.status.busy": "2020-10-17T15:20:33.931643Z",
     "iopub.status.idle": "2020-10-17T15:20:34.228985Z",
     "shell.execute_reply": "2020-10-17T15:20:34.228143Z",
     "shell.execute_reply.started": "2020-10-17T15:20:33.932155Z"
    }
   },
   "outputs": [],
   "source": [
    "# plots before and after SMOTE\n",
    "plt.figure(figsize=(12,4))\n",
    "\n",
    "plt.subplot(1,2,1)\n",
    "sns.countplot(x=y_train)\n",
    "plt.title(\"Before SMOTE\")\n",
    "\n",
    "plt.subplot(1,2,2)\n",
    "sns.countplot(x=y_balanced)\n",
    "plt.title(\"After SMOTE\")\n",
    "\n",
    "plt.show()"
   ]
  },
  {
   "cell_type": "code",
   "execution_count": null,
   "metadata": {
    "ExecuteTime": {
     "end_time": "2020-10-06T13:52:43.108029Z",
     "start_time": "2020-10-06T13:52:43.104182Z"
    },
    "execution": {
     "iopub.execute_input": "2020-10-17T15:20:34.230769Z",
     "iopub.status.busy": "2020-10-17T15:20:34.230408Z",
     "iopub.status.idle": "2020-10-17T15:20:34.236436Z",
     "shell.execute_reply": "2020-10-17T15:20:34.235407Z",
     "shell.execute_reply.started": "2020-10-17T15:20:34.230722Z"
    }
   },
   "outputs": [],
   "source": [
    "print(\"Total records BEFORE:\", X_train.shape[0])\n",
    "print(\"Total records AFTER:\", X_balanced.shape[0])\n",
    "print(\"Difference =\", X_train.shape[0] - X_balanced.shape[0])"
   ]
  },
  {
   "cell_type": "markdown",
   "metadata": {},
   "source": [
    "##  Training the models and getting the performance metrics"
   ]
  },
  {
   "cell_type": "code",
   "execution_count": null,
   "metadata": {
    "ExecuteTime": {
     "end_time": "2020-10-06T13:52:43.112259Z",
     "start_time": "2020-10-06T13:52:43.109900Z"
    },
    "execution": {
     "iopub.execute_input": "2020-10-17T15:20:34.238071Z",
     "iopub.status.busy": "2020-10-17T15:20:34.237754Z",
     "iopub.status.idle": "2020-10-17T15:20:34.243028Z",
     "shell.execute_reply": "2020-10-17T15:20:34.242101Z",
     "shell.execute_reply.started": "2020-10-17T15:20:34.238043Z"
    }
   },
   "outputs": [],
   "source": [
    "# Set the threshold for defaults\n",
    "THRESHOLD = 0.45"
   ]
  },
  {
   "cell_type": "code",
   "execution_count": null,
   "metadata": {
    "ExecuteTime": {
     "end_time": "2020-10-06T13:52:43.118858Z",
     "start_time": "2020-10-06T13:52:43.115148Z"
    },
    "execution": {
     "iopub.execute_input": "2020-10-17T15:20:34.244753Z",
     "iopub.status.busy": "2020-10-17T15:20:34.244446Z",
     "iopub.status.idle": "2020-10-17T15:20:34.249984Z",
     "shell.execute_reply": "2020-10-17T15:20:34.248902Z",
     "shell.execute_reply.started": "2020-10-17T15:20:34.244726Z"
    }
   },
   "outputs": [],
   "source": [
    "# list os classifiers\n",
    "classifiers = [LogisticRegression(max_iter=220, random_state=SEED),\n",
    "               RandomForestClassifier(random_state=SEED),\n",
    "               xgb.XGBClassifier(random_state=SEED),\n",
    "               CatBoostClassifier(random_state=SEED, verbose=False)]"
   ]
  },
  {
   "cell_type": "code",
   "execution_count": null,
   "metadata": {
    "ExecuteTime": {
     "end_time": "2020-10-06T13:52:58.316217Z",
     "start_time": "2020-10-06T13:52:43.121526Z"
    },
    "execution": {
     "iopub.execute_input": "2020-10-17T15:20:34.251689Z",
     "iopub.status.busy": "2020-10-17T15:20:34.251450Z",
     "iopub.status.idle": "2020-10-17T15:20:53.286135Z",
     "shell.execute_reply": "2020-10-17T15:20:53.285190Z",
     "shell.execute_reply.started": "2020-10-17T15:20:34.251661Z"
    }
   },
   "outputs": [],
   "source": [
    "# calculates classifiers performance\n",
    "df_performances = gu.get_classifiers_performance(X_balanced, X_test, y_balanced, y_test, \n",
    "                                                 THRESHOLD, classifiers)\n",
    "# highlight max values for each column\n",
    "df_performances.style.highlight_max()"
   ]
  },
  {
   "cell_type": "markdown",
   "metadata": {},
   "source": [
    "The <mark>**highlighted cells**</mark> correspond to the max value at each column.\n",
    "\n",
    "As observed, for the context of our project, we are aiming for recall. `LogisticRegression` presents the highest recall score. However, it's precision score is the lowest. Let's assume we are aiming more for recall and moderate to precision, we could then, take advantage of f1-score, as it's the harmonic average between precision and recall. Thus, the algorithm that satisfies this need is `CatBoostClassifier`."
   ]
  },
  {
   "cell_type": "markdown",
   "metadata": {},
   "source": [
    "##  Confusion Matrix"
   ]
  },
  {
   "cell_type": "code",
   "execution_count": null,
   "metadata": {
    "ExecuteTime": {
     "end_time": "2020-10-06T13:53:00.736089Z",
     "start_time": "2020-10-06T13:52:58.318664Z"
    },
    "execution": {
     "iopub.execute_input": "2020-10-17T15:20:53.287790Z",
     "iopub.status.busy": "2020-10-17T15:20:53.287426Z",
     "iopub.status.idle": "2020-10-17T15:20:54.870018Z",
     "shell.execute_reply": "2020-10-17T15:20:54.869118Z",
     "shell.execute_reply.started": "2020-10-17T15:20:53.287760Z"
    }
   },
   "outputs": [],
   "source": [
    "# sets suplots dimensions\n",
    "n_rows = 2\n",
    "n_cols = 2\n",
    "\n",
    "# plots a confusion matrix for each classifier\n",
    "gu.plot_multiple_confusion_matrices(n_rows, n_cols, X_test, y_test, classifiers, THRESHOLD)"
   ]
  },
  {
   "cell_type": "markdown",
   "metadata": {},
   "source": [
    "##  Probability distribution"
   ]
  },
  {
   "cell_type": "code",
   "execution_count": null,
   "metadata": {
    "execution": {
     "iopub.execute_input": "2020-10-17T15:20:54.871580Z",
     "iopub.status.busy": "2020-10-17T15:20:54.871278Z",
     "iopub.status.idle": "2020-10-17T15:21:15.776785Z",
     "shell.execute_reply": "2020-10-17T15:21:15.775835Z",
     "shell.execute_reply.started": "2020-10-17T15:20:54.871553Z"
    }
   },
   "outputs": [],
   "source": [
    "# instantiates the classifiers\n",
    "lr_clf = LogisticRegression(max_iter=220, random_state=SEED)\n",
    "rf_clf = RandomForestClassifier(random_state=SEED)\n",
    "xgb_clf = xgb.XGBClassifier(random_state=SEED)\n",
    "catb_clf = CatBoostClassifier(random_state=SEED, verbose=False)\n",
    "\n",
    "\n",
    "# trains the classifiers\n",
    "lr_clf.fit(X_balanced, y_balanced)\n",
    "rf_clf.fit(X_balanced, y_balanced)\n",
    "xgb_clf.fit(X_balanced, y_balanced)\n",
    "catb_clf.fit(X_balanced, y_balanced)\n",
    "\n",
    "\n",
    "# store the predicted probabilities for class 1\n",
    "y_pred_lr_prob = lr_clf.predict_proba(X_test)[:, 1]\n",
    "y_pred_rf_prob = rf_clf.predict_proba(X_test)[:, 1]\n",
    "y_pred_xgb_prob = xgb_clf.predict_proba(X_test)[:, 1]\n",
    "y_pred_catb_prob = catb_clf.predict_proba(X_test)[:,1]"
   ]
  },
  {
   "cell_type": "code",
   "execution_count": null,
   "metadata": {
    "execution": {
     "iopub.execute_input": "2020-10-17T15:21:15.778430Z",
     "iopub.status.busy": "2020-10-17T15:21:15.777964Z",
     "iopub.status.idle": "2020-10-17T15:21:16.206948Z",
     "shell.execute_reply": "2020-10-17T15:21:16.205665Z",
     "shell.execute_reply.started": "2020-10-17T15:21:15.778396Z"
    }
   },
   "outputs": [],
   "source": [
    "# sets plot size\n",
    "plt.figure(figsize=(10,6))\n",
    "\n",
    "# plots\n",
    "sns.kdeplot(y_pred_lr_prob, label='Logistic Regression')\n",
    "sns.kdeplot(y_pred_rf_prob, label='Random Forest')\n",
    "sns.kdeplot(y_pred_xgb_prob, label='XGBoost')\n",
    "sns.kdeplot(y_pred_catb_prob, label='CatBoost')\n",
    "\n",
    "# sets the plot features\n",
    "plt.title(\"Probability Density Plot\", fontsize=14)\n",
    "plt.legend()\n",
    "\n",
    "# displays the plot\n",
    "plt.show()"
   ]
  },
  {
   "cell_type": "markdown",
   "metadata": {},
   "source": [
    "As observed, in general all the algorithms presents most probabilities concentrated around `0`. However, `XGBoostClassifier` presents the largest amount of probabilities concentrated around `0` while `LogisticRegression` presenting the least with a moderate distributed probabilities around other values. `RandomForest` seems to be the mid-term between the other two, but its F1-Score precision score aren't satisfactory enough to consider it, as we compared with other algorithms. The mid-term between `XGBoost` and `RandomForest` is `CatBoost` which suits best for the context and challenge of our project."
   ]
  },
  {
   "cell_type": "code",
   "execution_count": null,
   "metadata": {
    "execution": {
     "iopub.execute_input": "2020-10-17T15:21:16.209233Z",
     "iopub.status.busy": "2020-10-17T15:21:16.208982Z",
     "iopub.status.idle": "2020-10-17T15:21:16.851008Z",
     "shell.execute_reply": "2020-10-17T15:21:16.850066Z",
     "shell.execute_reply.started": "2020-10-17T15:21:16.209201Z"
    }
   },
   "outputs": [],
   "source": [
    "# set axes\n",
    "fig, ax = plt.subplots()\n",
    "\n",
    "# set fig size\n",
    "ax.figure.set_size_inches(12, 8)\n",
    "\n",
    "# plot probability - Logistic Regression\n",
    "plt.subplot(2, 2, 1)\n",
    "ax = stats.probplot(y_pred_lr_prob, plot=plt)\n",
    "\n",
    "# plot probability - Random Forest\n",
    "plt.subplot(2, 2, 2)\n",
    "ax = stats.probplot(y_pred_rf_prob, plot=plt)\n",
    "\n",
    "# plot probability - XGBoost\n",
    "plt.subplot(2, 2, 3)\n",
    "ax = stats.probplot(y_pred_xgb_prob, plot=plt)\n",
    "\n",
    "# plot probability - CatBoost\n",
    "plt.subplot(2, 2, 4)\n",
    "ax = stats.probplot(y_pred_catb_prob, plot=plt)\n",
    "\n",
    "plt.subplots_adjust(wspace=0.3)\n",
    "plt.subplots_adjust(hspace=0.4)\n",
    "\n",
    "# displays the plot\n",
    "plt.show()"
   ]
  },
  {
   "cell_type": "code",
   "execution_count": null,
   "metadata": {
    "execution": {
     "iopub.execute_input": "2020-10-17T15:21:16.852444Z",
     "iopub.status.busy": "2020-10-17T15:21:16.852134Z",
     "iopub.status.idle": "2020-10-17T15:21:16.859617Z",
     "shell.execute_reply": "2020-10-17T15:21:16.858917Z",
     "shell.execute_reply.started": "2020-10-17T15:21:16.852414Z"
    }
   },
   "outputs": [],
   "source": [
    "# calculates the Brier Score Loss\n",
    "bsl_lr = brier_score_loss(y_test, y_pred_lr_prob, pos_label=1)\n",
    "bsl_rf = brier_score_loss(y_test, y_pred_rf_prob, pos_label=1)\n",
    "bsl_xgb = brier_score_loss(y_test, y_pred_xgb_prob, pos_label=1)\n",
    "bsl_catb = brier_score_loss(y_test, y_pred_catb_prob, pos_label=1)\n",
    "\n",
    "# prints the calculated Brier Score Loss for each algorithm probability\n",
    "print(f'Brier Score Loss (Logistic Regression): {bsl_lr}')\n",
    "print(f'Brier Score Loss (Random Forest): {bsl_rf}')\n",
    "print(f'Brier Score Loss (XGBoost): {bsl_xgb}')\n",
    "print(f'Brier Score Loss (CatBoost): {bsl_catb}')"
   ]
  },
  {
   "cell_type": "markdown",
   "metadata": {},
   "source": [
    "As observed, although the probability plots are quite similar, the Brier Score Loss are different. For this score, the closer to `0`, the better. Thus, `CatBoost` suits best for our needs."
   ]
  },
  {
   "cell_type": "markdown",
   "metadata": {},
   "source": [
    "##  Classification report"
   ]
  },
  {
   "cell_type": "code",
   "execution_count": null,
   "metadata": {
    "execution": {
     "iopub.execute_input": "2020-10-17T15:21:16.861912Z",
     "iopub.status.busy": "2020-10-17T15:21:16.861463Z",
     "iopub.status.idle": "2020-10-17T15:21:17.148121Z",
     "shell.execute_reply": "2020-10-17T15:21:17.147089Z",
     "shell.execute_reply.started": "2020-10-17T15:21:16.861880Z"
    }
   },
   "outputs": [],
   "source": [
    "# makes predictions\n",
    "y_pred_lr= lr_clf.predict(X_test)\n",
    "y_pred_rf= rf_clf.predict(X_test)\n",
    "y_pred_xgb = xgb_clf.predict(X_test)\n",
    "y_pred_catb = catb_clf.predict(X_test)\n",
    "\n",
    "print('Classification Report for ' + type(lr_clf).__name__)\n",
    "print(classification_report(y_test, y_pred_lr))\n",
    "\n",
    "print('\\nClassification Report for ' + type(rf_clf).__name__)\n",
    "print(classification_report(y_test, y_pred_rf))\n",
    "\n",
    "print('\\nClassification Report for ' + type(xgb_clf).__name__)\n",
    "print(classification_report(y_test, y_pred_xgb))\n",
    "\n",
    "print('\\nClassification Report for ' + type(catb_clf).__name__)\n",
    "print(classification_report(y_test, y_pred_catb))"
   ]
  },
  {
   "cell_type": "markdown",
   "metadata": {},
   "source": [
    "As we analyzed before, we're looking for high f1-score. Although `XGBoost` and `CatBoost` seems to have equal values for f1-score, looking at the precision score, `CatBoost` gives us a better result."
   ]
  },
  {
   "cell_type": "markdown",
   "metadata": {},
   "source": [
    "##  Cross-validation scoring - CatBoost Classifier"
   ]
  },
  {
   "cell_type": "markdown",
   "metadata": {
    "execution": {
     "iopub.execute_input": "2020-10-11T18:54:49.827544Z",
     "iopub.status.busy": "2020-10-11T18:54:49.827273Z",
     "iopub.status.idle": "2020-10-11T18:54:49.833273Z",
     "shell.execute_reply": "2020-10-11T18:54:49.831540Z",
     "shell.execute_reply.started": "2020-10-11T18:54:49.827515Z"
    }
   },
   "source": [
    "Now, we should use cross-validation scoring with `cross_val_score()` to check the overall performance."
   ]
  },
  {
   "cell_type": "code",
   "execution_count": null,
   "metadata": {
    "execution": {
     "iopub.execute_input": "2020-10-17T15:21:17.150310Z",
     "iopub.status.busy": "2020-10-17T15:21:17.149842Z",
     "iopub.status.idle": "2020-10-17T15:21:17.154771Z",
     "shell.execute_reply": "2020-10-17T15:21:17.153501Z",
     "shell.execute_reply.started": "2020-10-17T15:21:17.150276Z"
    }
   },
   "outputs": [],
   "source": [
    "print(f'We have {X.shape[0]} records in the full data set.')"
   ]
  },
  {
   "cell_type": "code",
   "execution_count": null,
   "metadata": {
    "execution": {
     "iopub.execute_input": "2020-10-17T15:21:17.156973Z",
     "iopub.status.busy": "2020-10-17T15:21:17.156693Z",
     "iopub.status.idle": "2020-10-17T15:21:17.166527Z",
     "shell.execute_reply": "2020-10-17T15:21:17.165518Z",
     "shell.execute_reply.started": "2020-10-17T15:21:17.156935Z"
    }
   },
   "outputs": [],
   "source": [
    "print(f'Ratio of negatives in full data set: {pd.DataFrame(y)[0].value_counts(normalize=True).to_dict()[0]}')\n",
    "print(f'Ratio of positives in full data set: {pd.DataFrame(y)[0].value_counts(normalize=True).to_dict()[1]}')"
   ]
  },
  {
   "cell_type": "markdown",
   "metadata": {},
   "source": [
    "As observed, the original full data set is imbalanced, so we'll need to adopt the `StratifiedKFold` as our K-folding strategy for cross validation."
   ]
  },
  {
   "cell_type": "code",
   "execution_count": null,
   "metadata": {
    "execution": {
     "iopub.execute_input": "2020-10-17T15:21:17.168454Z",
     "iopub.status.busy": "2020-10-17T15:21:17.168099Z",
     "iopub.status.idle": "2020-10-17T15:21:17.172561Z",
     "shell.execute_reply": "2020-10-17T15:21:17.171503Z",
     "shell.execute_reply.started": "2020-10-17T15:21:17.168418Z"
    }
   },
   "outputs": [],
   "source": [
    "# defines the cross validation strategy\n",
    "cv = StratifiedKFold(n_splits=10)"
   ]
  },
  {
   "cell_type": "code",
   "execution_count": null,
   "metadata": {
    "execution": {
     "iopub.execute_input": "2020-10-17T15:21:17.174822Z",
     "iopub.status.busy": "2020-10-17T15:21:17.174312Z",
     "iopub.status.idle": "2020-10-17T15:29:13.711741Z",
     "shell.execute_reply": "2020-10-17T15:29:13.710142Z",
     "shell.execute_reply.started": "2020-10-17T15:21:17.174778Z"
    }
   },
   "outputs": [],
   "source": [
    "# calculates the cross validation scores\n",
    "cv_scores = cross_val_score(catb_clf, X, np.ravel(y), cv = cv, scoring='precision', n_jobs=-1)\n",
    "\n",
    "# prints the average precision and standard deviation of the scores\n",
    "print(\"Average precision: %0.4f (+/- %0.4f)\" % (cv_scores.mean(), cv_scores.std() * 2))\n",
    "\n",
    "\n",
    "# calculates the cross validation scores\n",
    "cv_scores = cross_val_score(catb_clf, X, np.ravel(y), cv = cv, scoring='recall', n_jobs=-1)\n",
    "\n",
    "# prints the average recall and standard deviation of the scores\n",
    "print(\"\\nAverage recall: %0.4f (+/- %0.4f)\" % (cv_scores.mean(), cv_scores.std() * 2))\n",
    "\n",
    "\n",
    "# calculates the cross validation scores\n",
    "cv_scores = cross_val_score(catb_clf, X, np.ravel(y), cv = cv, scoring='f1', n_jobs=-1)\n",
    "\n",
    "# prints the average f1-score and standard deviation of the scores\n",
    "print(\"\\nAverage f1-score: %0.4f (+/- %0.4f)\" % (cv_scores.mean(), cv_scores.std() * 2))\n",
    "\n",
    "\n",
    "# calculates the cross validation scores\n",
    "cv_scores = cross_val_score(catb_clf, X, np.ravel(y), cv = cv, scoring='roc_auc', n_jobs=-1)\n",
    "\n",
    "# prints the average roc_auc and standard deviation of the scores\n",
    "print(\"\\nAverage ROC AUC: %0.4f (+/- %0.4f)\" % (cv_scores.mean(), cv_scores.std() * 2))"
   ]
  },
  {
   "cell_type": "markdown",
   "metadata": {},
   "source": [
    "#  Tuning Best Model"
   ]
  },
  {
   "cell_type": "markdown",
   "metadata": {},
   "source": [
    "## CatBoost Classifier <font color=\"green\"> (chosen as overall best)"
   ]
  },
  {
   "cell_type": "markdown",
   "metadata": {},
   "source": [
    "##  Hyperparameter Tunning"
   ]
  },
  {
   "cell_type": "code",
   "execution_count": null,
   "metadata": {
    "ExecuteTime": {
     "end_time": "2020-10-06T13:53:01.432807Z",
     "start_time": "2020-10-06T13:53:01.429146Z"
    },
    "execution": {
     "iopub.execute_input": "2020-10-17T15:29:13.714811Z",
     "iopub.status.busy": "2020-10-17T15:29:13.714477Z",
     "iopub.status.idle": "2020-10-17T15:29:13.722252Z",
     "shell.execute_reply": "2020-10-17T15:29:13.721363Z",
     "shell.execute_reply.started": "2020-10-17T15:29:13.714768Z"
    }
   },
   "outputs": [],
   "source": [
    "# instantiates the classifier\n",
    "catb_clf = CatBoostClassifier(random_state=SEED, verbose=False)"
   ]
  },
  {
   "cell_type": "code",
   "execution_count": null,
   "metadata": {
    "ExecuteTime": {
     "end_time": "2020-10-06T13:53:01.441524Z",
     "start_time": "2020-10-06T13:53:01.435354Z"
    },
    "execution": {
     "iopub.execute_input": "2020-10-17T15:29:13.723920Z",
     "iopub.status.busy": "2020-10-17T15:29:13.723607Z",
     "iopub.status.idle": "2020-10-17T15:29:13.731268Z",
     "shell.execute_reply": "2020-10-17T15:29:13.730002Z",
     "shell.execute_reply.started": "2020-10-17T15:29:13.723891Z"
    }
   },
   "outputs": [],
   "source": [
    "# set up space dictionary with specified hyperparameters\n",
    "space = {'max_depth': np.arange(2, 10, 2),\n",
    "         'min_data_in_leaf': [4, 8, 10],\n",
    "         'learning_rate': np.linspace(0.001, 0.6, 15),\n",
    "         'subsample': np.linspace(0.25, 1, 15),\n",
    "         'n_estimators': np.arange(10, 105, 15)}"
   ]
  },
  {
   "cell_type": "code",
   "execution_count": null,
   "metadata": {
    "ExecuteTime": {
     "end_time": "2020-10-06T13:53:01.447823Z",
     "start_time": "2020-10-06T13:53:01.444258Z"
    },
    "execution": {
     "iopub.execute_input": "2020-10-17T15:29:13.733156Z",
     "iopub.status.busy": "2020-10-17T15:29:13.732895Z",
     "iopub.status.idle": "2020-10-17T15:29:13.737604Z",
     "shell.execute_reply": "2020-10-17T15:29:13.736411Z",
     "shell.execute_reply.started": "2020-10-17T15:29:13.733126Z"
    }
   },
   "outputs": [],
   "source": [
    "# prepares RandomizedSearchCV object\n",
    "catb_clf_cv = RandomizedSearchCV(estimator=catb_clf, param_distributions=space,\n",
    "                                scoring='f1', n_iter=10, cv=5, verbose=2, \n",
    "                                random_state=SEED, n_jobs=-1)"
   ]
  },
  {
   "cell_type": "code",
   "execution_count": null,
   "metadata": {
    "ExecuteTime": {
     "end_time": "2020-10-06T13:53:47.674266Z",
     "start_time": "2020-10-06T13:53:01.450397Z"
    },
    "execution": {
     "iopub.execute_input": "2020-10-17T15:29:13.739392Z",
     "iopub.status.busy": "2020-10-17T15:29:13.739063Z",
     "iopub.status.idle": "2020-10-17T15:29:48.219434Z",
     "shell.execute_reply": "2020-10-17T15:29:48.218269Z",
     "shell.execute_reply.started": "2020-10-17T15:29:13.739359Z"
    }
   },
   "outputs": [],
   "source": [
    "# fits the RandomizedSearchCV object\n",
    "catb_clf_cv.fit(X_balanced, y_balanced)"
   ]
  },
  {
   "cell_type": "code",
   "execution_count": null,
   "metadata": {
    "ExecuteTime": {
     "end_time": "2020-10-06T13:53:47.683505Z",
     "start_time": "2020-10-06T13:53:47.676585Z"
    },
    "execution": {
     "iopub.execute_input": "2020-10-17T15:29:48.221251Z",
     "iopub.status.busy": "2020-10-17T15:29:48.220853Z",
     "iopub.status.idle": "2020-10-17T15:29:48.228573Z",
     "shell.execute_reply": "2020-10-17T15:29:48.227686Z",
     "shell.execute_reply.started": "2020-10-17T15:29:48.221221Z"
    }
   },
   "outputs": [],
   "source": [
    "# best estimator\n",
    "catb_clf_cv.best_estimator_"
   ]
  },
  {
   "cell_type": "markdown",
   "metadata": {
    "ExecuteTime": {
     "end_time": "2020-08-29T23:14:21.537480Z",
     "start_time": "2020-08-29T23:14:21.533218Z"
    }
   },
   "source": [
    "##  Predictions & Metrics"
   ]
  },
  {
   "cell_type": "code",
   "execution_count": null,
   "metadata": {
    "ExecuteTime": {
     "end_time": "2020-10-06T13:53:47.762653Z",
     "start_time": "2020-10-06T13:53:47.685889Z"
    },
    "execution": {
     "iopub.execute_input": "2020-10-17T15:29:48.230714Z",
     "iopub.status.busy": "2020-10-17T15:29:48.230450Z",
     "iopub.status.idle": "2020-10-17T15:29:49.606119Z",
     "shell.execute_reply": "2020-10-17T15:29:49.605240Z",
     "shell.execute_reply.started": "2020-10-17T15:29:48.230684Z"
    }
   },
   "outputs": [],
   "source": [
    "# sets the threshold\n",
    "THRESHOLD = 0.45\n",
    "\n",
    "# extract the best estimator\n",
    "catb_tuned_model = catb_clf_cv.best_estimator_\n",
    "\n",
    "# calculates classifiers performance\n",
    "df_performance = gu.get_classifiers_performance(X_balanced, X_test, \n",
    "                                                np.ravel(y_balanced), np.ravel(y_test), \n",
    "                                                THRESHOLD, [catb_tuned_model])\n",
    "\n",
    "df_performance"
   ]
  },
  {
   "cell_type": "code",
   "execution_count": null,
   "metadata": {
    "ExecuteTime": {
     "end_time": "2020-10-06T13:53:47.762653Z",
     "start_time": "2020-10-06T13:53:47.685889Z"
    },
    "execution": {
     "iopub.execute_input": "2020-10-17T15:29:49.608229Z",
     "iopub.status.busy": "2020-10-17T15:29:49.607684Z",
     "iopub.status.idle": "2020-10-17T15:29:49.613931Z",
     "shell.execute_reply": "2020-10-17T15:29:49.613053Z",
     "shell.execute_reply.started": "2020-10-17T15:29:49.608179Z"
    }
   },
   "outputs": [],
   "source": [
    "# Print the tuned parameters and score\n",
    "print(\"\\nTuned Parameters: {}\".format(catb_clf_cv.best_params_)) \n",
    "print(\"\\nBest score: {:.4f}\".format(catb_clf_cv.best_score_))"
   ]
  },
  {
   "cell_type": "markdown",
   "metadata": {},
   "source": [
    "##  ROC Curve"
   ]
  },
  {
   "cell_type": "code",
   "execution_count": null,
   "metadata": {
    "ExecuteTime": {
     "end_time": "2020-10-06T13:53:48.038467Z",
     "start_time": "2020-10-06T13:53:47.765031Z"
    },
    "execution": {
     "iopub.execute_input": "2020-10-17T15:29:49.616082Z",
     "iopub.status.busy": "2020-10-17T15:29:49.615540Z",
     "iopub.status.idle": "2020-10-17T15:29:49.973211Z",
     "shell.execute_reply": "2020-10-17T15:29:49.972528Z",
     "shell.execute_reply.started": "2020-10-17T15:29:49.616032Z"
    }
   },
   "outputs": [],
   "source": [
    "# uses the variable ax for single a Axes\n",
    "fig, ax = plt.subplots()\n",
    "\n",
    "# sets the figure size in inches\n",
    "ax.figure.set_size_inches(10, 6)\n",
    "\n",
    "# generate a no skill prediction (majority class)\n",
    "ns_probs = [0 for _ in range(len(y_test))]\n",
    "\n",
    "# predict probabilities\n",
    "catb_tuned_model_probs = catb_tuned_model.predict_proba(X_test)\n",
    "\n",
    "# calculates the roc curves\n",
    "ns_fpr, ns_tpr, _ = roc_curve(y_test, ns_probs)\n",
    "catb_fpr, catb_tpr, _ = roc_curve(y_test, y_pred_catb_prob)\n",
    "tuned_fpr, tuned_tpr, _ = roc_curve(y_test, catb_tuned_model_probs[:,1])\n",
    "\n",
    "# plots the roc curve for the model\n",
    "plt.plot(ns_fpr, ns_tpr, linestyle='--', label='No Skill')\n",
    "plt.plot(catb_fpr, catb_tpr, marker='.', label='CatBoost')\n",
    "plt.plot(tuned_fpr, tuned_tpr, marker='.', label='CatBoost (Tunned HP)')\n",
    "\n",
    "# sets plot features\n",
    "plt.title(\"ROC Curve\", fontsize=14)\n",
    "plt.xlabel('False Positive Rate')\n",
    "plt.ylabel('True Positive Rate')\n",
    "\n",
    "# displays the legend\n",
    "plt.legend()\n",
    "\n",
    "# displays the plot\n",
    "plt.show()"
   ]
  },
  {
   "cell_type": "markdown",
   "metadata": {},
   "source": [
    "##  Confusion Matrix"
   ]
  },
  {
   "cell_type": "code",
   "execution_count": null,
   "metadata": {
    "ExecuteTime": {
     "end_time": "2020-10-06T13:53:48.266785Z",
     "start_time": "2020-10-06T13:53:48.040804Z"
    },
    "execution": {
     "iopub.execute_input": "2020-10-17T15:29:49.974777Z",
     "iopub.status.busy": "2020-10-17T15:29:49.974338Z",
     "iopub.status.idle": "2020-10-17T15:29:50.187980Z",
     "shell.execute_reply": "2020-10-17T15:29:50.187254Z",
     "shell.execute_reply.started": "2020-10-17T15:29:49.974730Z"
    }
   },
   "outputs": [],
   "source": [
    "# keeps probabilities for the positive outcome only\n",
    "df_probs = pd.DataFrame(catb_tuned_model_probs[:, 1], columns = ['prob_default'])\n",
    "\n",
    "# applied the threshold\n",
    "y_pred = df_probs['prob_default'].apply(lambda x: 1 if x > THRESHOLD else 0)\n",
    "\n",
    "gu.plot_single_confusion_matrix(y_test, y_pred, catb_tuned_model, 'Tuned')\n",
    "\n",
    "# displays plot\n",
    "plt.show()"
   ]
  },
  {
   "cell_type": "markdown",
   "metadata": {},
   "source": [
    "##  Cross-validation scoring"
   ]
  },
  {
   "cell_type": "code",
   "execution_count": null,
   "metadata": {
    "execution": {
     "iopub.execute_input": "2020-10-17T15:29:50.189467Z",
     "iopub.status.busy": "2020-10-17T15:29:50.189137Z",
     "iopub.status.idle": "2020-10-17T15:29:50.193584Z",
     "shell.execute_reply": "2020-10-17T15:29:50.192274Z",
     "shell.execute_reply.started": "2020-10-17T15:29:50.189437Z"
    }
   },
   "outputs": [],
   "source": [
    "# defines the cross validation strategy\n",
    "cv = StratifiedKFold(n_splits=10)"
   ]
  },
  {
   "cell_type": "code",
   "execution_count": null,
   "metadata": {
    "ExecuteTime": {
     "end_time": "2020-10-06T13:54:06.170166Z",
     "start_time": "2020-10-06T13:53:48.269033Z"
    },
    "execution": {
     "iopub.execute_input": "2020-10-17T15:29:50.195605Z",
     "iopub.status.busy": "2020-10-17T15:29:50.195254Z",
     "iopub.status.idle": "2020-10-17T15:30:33.905115Z",
     "shell.execute_reply": "2020-10-17T15:30:33.904132Z",
     "shell.execute_reply.started": "2020-10-17T15:29:50.195574Z"
    }
   },
   "outputs": [],
   "source": [
    "# calculates the cross validation scores\n",
    "cv_scores = cross_val_score(catb_tuned_model, X, np.ravel(y), cv = cv, scoring='precision', n_jobs=-1)\n",
    "\n",
    "# prints the average precision and standard deviation of the scores\n",
    "print(\"Average precision: %0.4f (+/- %0.4f)\" % (cv_scores.mean(), cv_scores.std() * 2))\n",
    "\n",
    "\n",
    "# calculates the cross validation scores\n",
    "cv_scores = cross_val_score(catb_tuned_model, X, np.ravel(y), cv = cv, scoring='recall', n_jobs=-1)\n",
    "\n",
    "# prints the average recall and standard deviation of the scores\n",
    "print(\"\\nAverage recall: %0.4f (+/- %0.4f)\" % (cv_scores.mean(), cv_scores.std() * 2))\n",
    "\n",
    "\n",
    "# calculates the cross validation scores\n",
    "cv_scores = cross_val_score(catb_tuned_model, X, np.ravel(y), cv = cv, scoring='f1', n_jobs=-1)\n",
    "\n",
    "# prints the average f1-score and standard deviation of the scores\n",
    "print(\"\\nAverage f1-score: %0.4f (+/- %0.4f)\" % (cv_scores.mean(), cv_scores.std() * 2))\n",
    "\n",
    "\n",
    "# calculates the cross validation scores\n",
    "cv_scores = cross_val_score(catb_tuned_model, X, np.ravel(y), cv = cv, scoring='roc_auc', n_jobs=-1)\n",
    "\n",
    "# prints the average roc_auc and standard deviation of the scores\n",
    "print(\"\\nAverage ROC AUC: %0.4f (+/- %0.4f)\" % (cv_scores.mean(), cv_scores.std() * 2))"
   ]
  },
  {
   "cell_type": "markdown",
   "metadata": {},
   "source": [
    "## Saving the tuned model"
   ]
  },
  {
   "cell_type": "code",
   "execution_count": null,
   "metadata": {
    "ExecuteTime": {
     "end_time": "2020-10-06T13:54:06.183823Z",
     "start_time": "2020-10-06T13:54:06.179069Z"
    },
    "execution": {
     "iopub.execute_input": "2020-10-17T15:30:33.907323Z",
     "iopub.status.busy": "2020-10-17T15:30:33.907045Z",
     "iopub.status.idle": "2020-10-17T15:30:33.917264Z",
     "shell.execute_reply": "2020-10-17T15:30:33.916434Z",
     "shell.execute_reply.started": "2020-10-17T15:30:33.907293Z"
    }
   },
   "outputs": [],
   "source": [
    "# saves the best model\n",
    "pickle.dump(catb_tuned_model, open('model_credit_risk.pkl', 'wb'))"
   ]
  },
  {
   "cell_type": "markdown",
   "metadata": {},
   "source": [
    "#  Tuned Model evaluation"
   ]
  },
  {
   "cell_type": "markdown",
   "metadata": {},
   "source": [
    "## 10.1 Calibration curves"
   ]
  },
  {
   "cell_type": "markdown",
   "metadata": {},
   "source": [
    "We need to check the calibration of two models (Calibrated and Non-Calibrated) to **see how stable the default prediction performance is across probabilities**. You can use a chart of each model's calibration to check this by calling the `calibration_curve()` function."
   ]
  },
  {
   "cell_type": "code",
   "execution_count": null,
   "metadata": {
    "execution": {
     "iopub.execute_input": "2020-10-17T15:30:33.919186Z",
     "iopub.status.busy": "2020-10-17T15:30:33.918744Z",
     "iopub.status.idle": "2020-10-17T15:30:33.930182Z",
     "shell.execute_reply": "2020-10-17T15:30:33.928834Z",
     "shell.execute_reply.started": "2020-10-17T15:30:33.919137Z"
    }
   },
   "outputs": [],
   "source": [
    "# loads the tuned model\n",
    "catb_tuned_model = pickle.load(open('model_credit_risk.pkl', 'rb'))"
   ]
  },
  {
   "cell_type": "code",
   "execution_count": null,
   "metadata": {
    "execution": {
     "iopub.execute_input": "2020-10-17T15:30:33.932344Z",
     "iopub.status.busy": "2020-10-17T15:30:33.932011Z",
     "iopub.status.idle": "2020-10-17T15:30:33.937006Z",
     "shell.execute_reply": "2020-10-17T15:30:33.935979Z",
     "shell.execute_reply.started": "2020-10-17T15:30:33.932311Z"
    }
   },
   "outputs": [],
   "source": [
    "# defines the cross validation strategy\n",
    "cv = StratifiedKFold(n_splits=10)"
   ]
  },
  {
   "cell_type": "code",
   "execution_count": null,
   "metadata": {
    "ExecuteTime": {
     "end_time": "2020-10-06T13:54:52.082173Z",
     "start_time": "2020-10-06T13:54:06.230715Z"
    },
    "execution": {
     "iopub.execute_input": "2020-10-17T15:30:33.938785Z",
     "iopub.status.busy": "2020-10-17T15:30:33.938317Z",
     "iopub.status.idle": "2020-10-17T15:30:45.111748Z",
     "shell.execute_reply": "2020-10-17T15:30:45.110776Z",
     "shell.execute_reply.started": "2020-10-17T15:30:33.938749Z"
    }
   },
   "outputs": [],
   "source": [
    "# trains the tuned model\n",
    "catb_tuned_model.fit(X_balanced, y_balanced)\n",
    "\n",
    "# defines and fits calibration model\n",
    "calibrated_catb = CalibratedClassifierCV(catb_tuned_model, method='isotonic', cv=cv)\n",
    "calibrated_catb.fit(X_train, y_train)"
   ]
  },
  {
   "cell_type": "code",
   "execution_count": null,
   "metadata": {
    "ExecuteTime": {
     "end_time": "2020-10-06T13:54:52.325526Z",
     "start_time": "2020-10-06T13:54:52.084639Z"
    },
    "execution": {
     "iopub.execute_input": "2020-10-17T15:30:45.113479Z",
     "iopub.status.busy": "2020-10-17T15:30:45.113099Z",
     "iopub.status.idle": "2020-10-17T15:30:45.715315Z",
     "shell.execute_reply": "2020-10-17T15:30:45.714471Z",
     "shell.execute_reply.started": "2020-10-17T15:30:45.113423Z"
    }
   },
   "outputs": [],
   "source": [
    "# defines number of bins\n",
    "BINS = 15\n",
    "\n",
    "# predicts probabilities\n",
    "catb_tuned_model_probs = catb_tuned_model.predict_proba(X_test)\n",
    "calibrated_catb_probs = calibrated_catb.predict_proba(X_test)\n",
    "\n",
    "\n",
    "# plots a calibration curve for each model\n",
    "gu.plot_multiple_calibration_curves([calibrated_catb, catb_tuned_model], y_test, \n",
    "                                    [calibrated_catb_probs, catb_tuned_model_probs], BINS)\n",
    "\n",
    "# displays the plot\n",
    "plt.show()"
   ]
  },
  {
   "cell_type": "code",
   "execution_count": null,
   "metadata": {
    "execution": {
     "iopub.execute_input": "2020-10-17T15:30:45.717001Z",
     "iopub.status.busy": "2020-10-17T15:30:45.716654Z",
     "iopub.status.idle": "2020-10-17T15:30:45.723641Z",
     "shell.execute_reply": "2020-10-17T15:30:45.722875Z",
     "shell.execute_reply.started": "2020-10-17T15:30:45.716952Z"
    }
   },
   "outputs": [],
   "source": [
    "# calculates the Brier Score Loss\n",
    "bsl_catb_model = brier_score_loss(y_test, catb_tuned_model_probs[:,1], pos_label=1)\n",
    "bsl_catb_calibrated = brier_score_loss(y_test, calibrated_catb_probs[:,1], pos_label=1)\n",
    "\n",
    "# prints the calculated the Brier Score Loss for each algorithm probability\n",
    "print(f'Brier Score Loss (CatBoost Classifier (Tunned HP)): {bsl_catb_model}')\n",
    "print(f'Brier Score Loss (CatBoost Classifier (Tunned HP + Calibrated)): {bsl_catb_calibrated}')\n",
    "\n",
    "# checks which one has better calibration\n",
    "if bsl_catb_calibrated < bsl_catb_model:\n",
    "    print('\\nCalibrated model has better calibration.')\n",
    "else:\n",
    "    print('\\nUncalibrated model has better calibration.')"
   ]
  },
  {
   "cell_type": "markdown",
   "metadata": {},
   "source": [
    "## Calibrated model metrics"
   ]
  },
  {
   "cell_type": "code",
   "execution_count": null,
   "metadata": {
    "ExecuteTime": {
     "end_time": "2020-10-06T13:54:52.873552Z",
     "start_time": "2020-10-06T13:54:52.328233Z"
    },
    "execution": {
     "iopub.execute_input": "2020-10-17T15:30:45.725281Z",
     "iopub.status.busy": "2020-10-17T15:30:45.724977Z",
     "iopub.status.idle": "2020-10-17T15:30:59.212054Z",
     "shell.execute_reply": "2020-10-17T15:30:59.211436Z",
     "shell.execute_reply.started": "2020-10-17T15:30:45.725254Z"
    }
   },
   "outputs": [],
   "source": [
    "# sets the threshold\n",
    "THRESHOLD = 0.45\n",
    "\n",
    "# defines the classifiers list\n",
    "classifiers = [calibrated_catb, catb_tuned_model]\n",
    "\n",
    "# calculates classifiers performance\n",
    "df_performance = gu.get_classifiers_performance(X_balanced, X_test, \n",
    "                                                np.ravel(y_balanced), np.ravel(y_test), \n",
    "                                                THRESHOLD, classifiers)"
   ]
  },
  {
   "cell_type": "code",
   "execution_count": null,
   "metadata": {
    "execution": {
     "iopub.execute_input": "2020-10-17T15:30:59.213789Z",
     "iopub.status.busy": "2020-10-17T15:30:59.213253Z",
     "iopub.status.idle": "2020-10-17T15:30:59.232168Z",
     "shell.execute_reply": "2020-10-17T15:30:59.231373Z",
     "shell.execute_reply.started": "2020-10-17T15:30:59.213756Z"
    }
   },
   "outputs": [],
   "source": [
    "# display the performance\n",
    "df_performance.style.highlight_max(color='darkorange')"
   ]
  },
  {
   "cell_type": "markdown",
   "metadata": {},
   "source": [
    "As observed, the calibrated model has a higher precision and f1-score."
   ]
  },
  {
   "cell_type": "markdown",
   "metadata": {},
   "source": [
    "##  Calibrated model - ROC Curve"
   ]
  },
  {
   "cell_type": "code",
   "execution_count": null,
   "metadata": {
    "ExecuteTime": {
     "end_time": "2020-10-06T13:54:53.140788Z",
     "start_time": "2020-10-06T13:54:52.899959Z"
    },
    "execution": {
     "iopub.execute_input": "2020-10-17T15:30:59.234081Z",
     "iopub.status.busy": "2020-10-17T15:30:59.233678Z",
     "iopub.status.idle": "2020-10-17T15:30:59.556340Z",
     "shell.execute_reply": "2020-10-17T15:30:59.555586Z",
     "shell.execute_reply.started": "2020-10-17T15:30:59.234039Z"
    }
   },
   "outputs": [],
   "source": [
    "# uses the variable ax for single a Axes\n",
    "fig, ax = plt.subplots()\n",
    "\n",
    "# sets the figure size in inches\n",
    "ax.figure.set_size_inches(10, 6)\n",
    "\n",
    "# generate a no skill prediction (majority class)\n",
    "ns_probs = [0 for _ in range(len(y_test))]\n",
    "\n",
    "# calculates the roc curves\n",
    "ns_fpr, ns_tpr, _ = roc_curve(y_test, ns_probs)\n",
    "catb_fpr, catb_tpr, _ = roc_curve(y_test, catb_tuned_model_probs[:,1])\n",
    "cal_fpr, cal_tpr, _ = roc_curve(y_test, calibrated_catb_probs[:,1])\n",
    "\n",
    "# plots the roc curve for the model\n",
    "plt.plot(ns_fpr, ns_tpr, linestyle='--', label='No Skill')\n",
    "plt.plot(catb_fpr, catb_tpr, marker='.', label='CatBoost (Tunned HP)')\n",
    "plt.plot(cal_fpr, cal_tpr, marker='.', label='CatBoost (Tunned HP + Calibrated)')\n",
    "\n",
    "# sets plot features\n",
    "plt.title(\"ROC Curve\", fontsize=14)\n",
    "plt.xlabel('False Positive Rate')\n",
    "plt.ylabel('True Positive Rate')\n",
    "\n",
    "# displays the legend\n",
    "plt.legend()\n",
    "\n",
    "# displays the plot\n",
    "plt.show()"
   ]
  },
  {
   "cell_type": "markdown",
   "metadata": {},
   "source": [
    "##  Calibrated model - Confusion Matrix"
   ]
  },
  {
   "cell_type": "code",
   "execution_count": null,
   "metadata": {
    "ExecuteTime": {
     "end_time": "2020-10-06T13:54:53.364572Z",
     "start_time": "2020-10-06T13:54:53.143279Z"
    },
    "execution": {
     "iopub.execute_input": "2020-10-17T15:30:59.558404Z",
     "iopub.status.busy": "2020-10-17T15:30:59.557983Z",
     "iopub.status.idle": "2020-10-17T15:31:00.502702Z",
     "shell.execute_reply": "2020-10-17T15:31:00.501347Z",
     "shell.execute_reply.started": "2020-10-17T15:30:59.558371Z"
    }
   },
   "outputs": [],
   "source": [
    "# defines the classifiers list\n",
    "classifiers = [calibrated_catb, catb_tuned_model]\n",
    "\n",
    "# plots the confusion matrices\n",
    "gu.plot_multiple_confusion_matrices(1, 2, X_test, y_test, classifiers, THRESHOLD)"
   ]
  },
  {
   "cell_type": "markdown",
   "metadata": {},
   "source": [
    "##  Calibrated model - cross validation-score"
   ]
  },
  {
   "cell_type": "code",
   "execution_count": null,
   "metadata": {
    "execution": {
     "iopub.execute_input": "2020-10-17T15:31:00.504857Z",
     "iopub.status.busy": "2020-10-17T15:31:00.504564Z",
     "iopub.status.idle": "2020-10-17T15:31:00.511741Z",
     "shell.execute_reply": "2020-10-17T15:31:00.509979Z",
     "shell.execute_reply.started": "2020-10-17T15:31:00.504830Z"
    }
   },
   "outputs": [],
   "source": [
    "# defines the cross validation strategy\n",
    "cv = StratifiedKFold(n_splits=10)"
   ]
  },
  {
   "cell_type": "code",
   "execution_count": null,
   "metadata": {
    "ExecuteTime": {
     "end_time": "2020-10-06T13:57:34.321656Z",
     "start_time": "2020-10-06T13:54:53.367194Z"
    },
    "execution": {
     "iopub.execute_input": "2020-10-17T15:31:00.514997Z",
     "iopub.status.busy": "2020-10-17T15:31:00.514206Z",
     "iopub.status.idle": "2020-10-17T15:37:25.470680Z",
     "shell.execute_reply": "2020-10-17T15:37:25.469744Z",
     "shell.execute_reply.started": "2020-10-17T15:31:00.514940Z"
    }
   },
   "outputs": [],
   "source": [
    "# calculates the cross validation scores\n",
    "cv_scores = cross_val_score(calibrated_catb, X, np.ravel(y), cv = cv, scoring='precision', n_jobs=-1)\n",
    "\n",
    "# prints the average precision and standard deviation of the scores\n",
    "print(\"Average precision: %0.4f (+/- %0.4f)\" % (cv_scores.mean(), cv_scores.std() * 2))\n",
    "\n",
    "\n",
    "# calculates the cross validation scores\n",
    "cv_scores = cross_val_score(calibrated_catb, X, np.ravel(y), cv = cv, scoring='recall', n_jobs=-1)\n",
    "\n",
    "# prints the average recall and standard deviation of the scores\n",
    "print(\"\\nAverage recall: %0.4f (+/- %0.4f)\" % (cv_scores.mean(), cv_scores.std() * 2))\n",
    "\n",
    "\n",
    "# calculates the cross validation scores\n",
    "cv_scores = cross_val_score(calibrated_catb, X, np.ravel(y), cv = cv, scoring='f1', n_jobs=-1)\n",
    "\n",
    "# prints the average f1-score and standard deviation of the scores\n",
    "print(\"\\nAverage f1-score: %0.4f (+/- %0.4f)\" % (cv_scores.mean(), cv_scores.std() * 2))\n",
    "\n",
    "\n",
    "# calculates the cross validation scores\n",
    "cv_scores = cross_val_score(calibrated_catb, X, np.ravel(y), cv = cv, scoring='roc_auc', n_jobs=-1)\n",
    "\n",
    "# prints the average roc_auc and standard deviation of the scores\n",
    "print(\"\\nAverage ROC AUC: %0.4f (+/- %0.4f)\" % (cv_scores.mean(), cv_scores.std() * 2))"
   ]
  },
  {
   "cell_type": "markdown",
   "metadata": {},
   "source": [
    "##  Cross-validation summary"
   ]
  },
  {
   "cell_type": "markdown",
   "metadata": {},
   "source": [
    "|                                                | Avg Precision             | Avg Recall                | f1\\-score                 | Avg ROC AUC               |\n",
    "|------------------------------------------------|---------------------------|---------------------------|---------------------------|---------------------------|\n",
    "| CatBoost Classifier                            | 0\\.8796 \\(\\+/\\- 0\\.1956\\) | 0\\.7190 \\(\\+/\\- 0\\.1793\\) | 0\\.7837 \\(\\+/\\- 0\\.0976\\) | 0\\.9041 \\(\\+/\\- 0\\.1005\\) |\n",
    "| CatBoost Classifier \\(Tuned HP\\)               | 0\\.9101 \\(\\+/\\- 0\\.1554\\) | 0\\.7155 \\(\\+/\\- 0\\.1743\\) | 0\\.7947 \\(\\+/\\- 0\\.0823\\) | 0\\.9100 \\(\\+/\\- 0\\.0847\\) |\n",
    "| CatBoost Classifier \\(Tuned HP \\+ Calibrated\\) | 0\\.9625 \\(\\+/\\- 0\\.0693\\) | 0\\.7060 \\(\\+/\\- 0\\.1808\\) | 0\\.8100 \\(\\+/\\- 0\\.0959\\) | 0\\.9094 \\(\\+/\\- 0\\.0873\\) |\n",
    "\n",
    "As observed, although the CatBoost Classifier (Tunned HP) has a higher recall and ROC AUC, its probabilities aren't calibrated, so we're using the **CatBoost Classifier (Tuned HP + Calibrated)** in our web app because it's worth the trade-off between a little less precision, but a higher calibration quality. In addition, the Tuned HP + Claibrated model has a higher precision and f1-score."
   ]
  },
  {
   "cell_type": "markdown",
   "metadata": {},
   "source": [
    "##  Saving the calibrated model"
   ]
  },
  {
   "cell_type": "code",
   "execution_count": null,
   "metadata": {
    "ExecuteTime": {
     "end_time": "2020-10-06T13:57:34.365772Z",
     "start_time": "2020-10-06T13:57:34.330326Z"
    },
    "execution": {
     "iopub.execute_input": "2020-10-17T15:37:25.472799Z",
     "iopub.status.busy": "2020-10-17T15:37:25.472418Z",
     "iopub.status.idle": "2020-10-17T15:37:25.483178Z",
     "shell.execute_reply": "2020-10-17T15:37:25.481620Z",
     "shell.execute_reply.started": "2020-10-17T15:37:25.472761Z"
    }
   },
   "outputs": [],
   "source": [
    "# saves the calibrated model\n",
    "pickle.dump(calibrated_catb, open('model_credit_risk.pkl', 'wb'))"
   ]
  },
  {
   "cell_type": "markdown",
   "metadata": {},
   "source": [
    "# Business performance"
   ]
  },
  {
   "cell_type": "markdown",
   "metadata": {},
   "source": [
    "##  How thresholds affect performance"
   ]
  },
  {
   "cell_type": "markdown",
   "metadata": {},
   "source": [
    "Now we can assess the financial impact using the default recall which is selected from the classification reporting using the function `precision_recall_fscore_support()`.\n",
    "\n",
    "For this, we will estimate the amount of unexpected loss using the default recall to find what proportion of defaults we did **not** catch with the new threshold. This will be a dollar amount which tells us how much in losses we would have if all the unfound defaults were to default all at once."
   ]
  },
  {
   "cell_type": "code",
   "execution_count": null,
   "metadata": {
    "ExecuteTime": {
     "end_time": "2020-10-06T13:54:06.207734Z",
     "start_time": "2020-10-06T13:54:06.187359Z"
    },
    "execution": {
     "iopub.execute_input": "2020-10-17T15:37:25.484862Z",
     "iopub.status.busy": "2020-10-17T15:37:25.484607Z",
     "iopub.status.idle": "2020-10-17T15:37:25.503948Z",
     "shell.execute_reply": "2020-10-17T15:37:25.503058Z",
     "shell.execute_reply.started": "2020-10-17T15:37:25.484830Z"
    }
   },
   "outputs": [],
   "source": [
    "# converts X_test to Data Frame\n",
    "df_aux = pd.DataFrame(X_test).loc[:,0:6]\n",
    "\n",
    "# scales the data back\n",
    "df_aux_scaled_back = pd.DataFrame(mms.inverse_transform(df_aux))\n",
    "\n",
    "# assigns the cols names\n",
    "df_aux_scaled_back.columns = df_numerical_vars.columns\n",
    "\n",
    "# displays the data\n",
    "df_aux_scaled_back"
   ]
  },
  {
   "cell_type": "code",
   "execution_count": null,
   "metadata": {
    "ExecuteTime": {
     "end_time": "2020-10-06T13:54:06.227879Z",
     "start_time": "2020-10-06T13:54:06.209996Z"
    },
    "execution": {
     "iopub.execute_input": "2020-10-17T15:37:25.506000Z",
     "iopub.status.busy": "2020-10-17T15:37:25.505517Z",
     "iopub.status.idle": "2020-10-17T15:37:25.523185Z",
     "shell.execute_reply": "2020-10-17T15:37:25.522024Z",
     "shell.execute_reply.started": "2020-10-17T15:37:25.505951Z"
    }
   },
   "outputs": [],
   "source": [
    "# sets the average loan value\n",
    "avg_loan_amnt = df_aux_scaled_back['loan_amnt'].mean()\n",
    "\n",
    "# sets the threshold\n",
    "THRESHOLD = 0.5\n",
    "\n",
    "# reassigns the values of loan status based on the new threshold\n",
    "df_probs['loan_status'] = df_probs['prob_default'].apply(lambda x: 1 if x > THRESHOLD else 0)\n",
    "\n",
    "# stores the number of loan defaults from the prediction data\n",
    "num_defaults = df_probs['loan_status'].value_counts()[1]\n",
    "\n",
    "# stores the default recall from the classification report\n",
    "default_recall = precision_recall_fscore_support(y_test, df_probs['loan_status'])[1][1]\n",
    "\n",
    "# calculates the estimated impact of the new default recall rate\n",
    "print(num_defaults * avg_loan_amnt * (1 - default_recall))"
   ]
  },
  {
   "cell_type": "markdown",
   "metadata": {},
   "source": [
    "By our estimates, this loss would be around `$3.3` million dollars."
   ]
  },
  {
   "cell_type": "markdown",
   "metadata": {},
   "source": [
    "## Acceptance rates"
   ]
  },
  {
   "cell_type": "code",
   "execution_count": null,
   "metadata": {
    "ExecuteTime": {
     "end_time": "2020-10-06T13:57:34.374147Z",
     "start_time": "2020-10-06T13:57:34.368287Z"
    },
    "execution": {
     "iopub.execute_input": "2020-10-17T15:37:25.525461Z",
     "iopub.status.busy": "2020-10-17T15:37:25.524956Z",
     "iopub.status.idle": "2020-10-17T15:37:25.530140Z",
     "shell.execute_reply": "2020-10-17T15:37:25.528842Z",
     "shell.execute_reply.started": "2020-10-17T15:37:25.525428Z"
    }
   },
   "outputs": [],
   "source": [
    "# defines probabilities Data Frame\n",
    "df_probs = pd.DataFrame(calibrated_catb_probs[:,1])\n",
    "df_probs.columns = ['prob_default']"
   ]
  },
  {
   "cell_type": "code",
   "execution_count": null,
   "metadata": {
    "ExecuteTime": {
     "end_time": "2020-10-06T13:57:34.397992Z",
     "start_time": "2020-10-06T13:57:34.378295Z"
    },
    "execution": {
     "iopub.execute_input": "2020-10-17T15:37:25.531744Z",
     "iopub.status.busy": "2020-10-17T15:37:25.531430Z",
     "iopub.status.idle": "2020-10-17T15:37:25.548280Z",
     "shell.execute_reply": "2020-10-17T15:37:25.547373Z",
     "shell.execute_reply.started": "2020-10-17T15:37:25.531716Z"
    }
   },
   "outputs": [],
   "source": [
    "# prepares a Data Frame of labels and pred probability\n",
    "test_pred_df = pd.concat([pd.DataFrame(y_test).reset_index(), df_probs], axis=1)\n",
    "test_pred_df.drop('index', axis=1, inplace=True)\n",
    "\n",
    "test_pred_df.columns = ['y_true','prob_default']\n",
    "test_pred_df"
   ]
  },
  {
   "cell_type": "code",
   "execution_count": null,
   "metadata": {
    "ExecuteTime": {
     "end_time": "2020-10-06T13:57:34.415062Z",
     "start_time": "2020-10-06T13:57:34.402196Z"
    },
    "execution": {
     "iopub.execute_input": "2020-10-17T15:37:25.550292Z",
     "iopub.status.busy": "2020-10-17T15:37:25.549897Z",
     "iopub.status.idle": "2020-10-17T15:37:25.560185Z",
     "shell.execute_reply": "2020-10-17T15:37:25.559060Z",
     "shell.execute_reply.started": "2020-10-17T15:37:25.550240Z"
    }
   },
   "outputs": [],
   "source": [
    "# checks the statistics of the probabilities of default\n",
    "print(test_pred_df['prob_default'].describe())"
   ]
  },
  {
   "cell_type": "markdown",
   "metadata": {},
   "source": [
    " In the results of `.describe()` do you see how it's not until `75%` that we start to see double-digit numbers? That's because the majority of our test set is non-default loans. Next let's look at how the acceptance rate and threshold split up the data."
   ]
  },
  {
   "cell_type": "code",
   "execution_count": null,
   "metadata": {
    "ExecuteTime": {
     "end_time": "2020-10-06T13:57:34.433548Z",
     "start_time": "2020-10-06T13:57:34.417526Z"
    },
    "execution": {
     "iopub.execute_input": "2020-10-17T15:37:25.562019Z",
     "iopub.status.busy": "2020-10-17T15:37:25.561643Z",
     "iopub.status.idle": "2020-10-17T15:37:25.574209Z",
     "shell.execute_reply": "2020-10-17T15:37:25.573186Z",
     "shell.execute_reply.started": "2020-10-17T15:37:25.561969Z"
    }
   },
   "outputs": [],
   "source": [
    "# calculates the threshold for a 85% acceptance rate\n",
    "threshold_85 = np.quantile(test_pred_df['prob_default'], .85)\n",
    "\n",
    "# applies acceptance rate threshold\n",
    "test_pred_df['pred_loan_status'] = test_pred_df['prob_default'].apply(lambda x: 1 if x > threshold_85 else 0)\n",
    "\n",
    "# prints the counts of loan status after the threshold\n",
    "print(test_pred_df['pred_loan_status'].value_counts())"
   ]
  },
  {
   "cell_type": "markdown",
   "metadata": {},
   "source": [
    "## Visualizing quantiles of acceptance"
   ]
  },
  {
   "cell_type": "code",
   "execution_count": null,
   "metadata": {
    "ExecuteTime": {
     "end_time": "2020-10-06T13:57:34.828748Z",
     "start_time": "2020-10-06T13:57:34.436356Z"
    },
    "execution": {
     "iopub.execute_input": "2020-10-17T15:37:25.576582Z",
     "iopub.status.busy": "2020-10-17T15:37:25.576096Z",
     "iopub.status.idle": "2020-10-17T15:37:25.992670Z",
     "shell.execute_reply": "2020-10-17T15:37:25.991513Z",
     "shell.execute_reply.started": "2020-10-17T15:37:25.576548Z"
    }
   },
   "outputs": [],
   "source": [
    "# sets plot size\n",
    "plt.figure(figsize=(8, 6))\n",
    "\n",
    "# plots the predicted probabilities of default\n",
    "plt.hist(calibrated_catb_probs[:,1], color = 'b', bins = 40)\n",
    "# plt.hist(stack_clf_probs[:,1], color = 'blue', bins = 40)\n",
    "\n",
    "# calculates the threshold with quantile\n",
    "threshold = np.quantile(calibrated_catb_probs[:,1], .85)\n",
    "\n",
    "# adds a reference line to the plot for the threshold\n",
    "plt.axvline(x = threshold, color = 'r', label=\"Threshold\")\n",
    "\n",
    "# sets plot features\n",
    "plt.xlabel(\"Probabilities of default\")\n",
    "plt.ylabel(\"Count\")\n",
    "plt.title(\"Predicted probabilities of default histogram\", fontsize=14)\n",
    "plt.legend()\n",
    "\n",
    "# displays the plot\n",
    "plt.show()"
   ]
  },
  {
   "cell_type": "markdown",
   "metadata": {},
   "source": [
    "Here, we can see where the threshold is on the range of predicted probabilities. Not only can we see how many loans will be accepted (left side), but also how many loans will be rejected (right side). \n",
    "\n",
    "We can re-run this code with different threshold values to better understand how this affects the acceptance rate."
   ]
  },
  {
   "cell_type": "markdown",
   "metadata": {},
   "source": [
    "## Bad rates"
   ]
  },
  {
   "cell_type": "code",
   "execution_count": null,
   "metadata": {
    "ExecuteTime": {
     "end_time": "2020-10-06T13:57:34.834476Z",
     "start_time": "2020-10-06T13:57:34.831146Z"
    },
    "execution": {
     "iopub.execute_input": "2020-10-17T15:37:25.994547Z",
     "iopub.status.busy": "2020-10-17T15:37:25.994045Z",
     "iopub.status.idle": "2020-10-17T15:37:25.999064Z",
     "shell.execute_reply": "2020-10-17T15:37:25.997939Z",
     "shell.execute_reply.started": "2020-10-17T15:37:25.994500Z"
    }
   },
   "outputs": [],
   "source": [
    "# renames columns\n",
    "test_pred_df.columns = ['true_loan_status', 'prob_default', 'pred_loan_status']"
   ]
  },
  {
   "cell_type": "code",
   "execution_count": null,
   "metadata": {
    "ExecuteTime": {
     "end_time": "2020-10-06T13:57:34.846114Z",
     "start_time": "2020-10-06T13:57:34.837006Z"
    },
    "execution": {
     "iopub.execute_input": "2020-10-17T15:37:26.001150Z",
     "iopub.status.busy": "2020-10-17T15:37:26.000781Z",
     "iopub.status.idle": "2020-10-17T15:37:26.013152Z",
     "shell.execute_reply": "2020-10-17T15:37:26.012228Z",
     "shell.execute_reply.started": "2020-10-17T15:37:26.001114Z"
    }
   },
   "outputs": [],
   "source": [
    "# Print the top 5 rows of the new data frame\n",
    "test_pred_df.head()"
   ]
  },
  {
   "cell_type": "code",
   "execution_count": null,
   "metadata": {
    "ExecuteTime": {
     "end_time": "2020-10-06T13:57:34.854012Z",
     "start_time": "2020-10-06T13:57:34.848050Z"
    },
    "execution": {
     "iopub.execute_input": "2020-10-17T15:37:26.015179Z",
     "iopub.status.busy": "2020-10-17T15:37:26.014687Z",
     "iopub.status.idle": "2020-10-17T15:37:26.024301Z",
     "shell.execute_reply": "2020-10-17T15:37:26.022843Z",
     "shell.execute_reply.started": "2020-10-17T15:37:26.015128Z"
    }
   },
   "outputs": [],
   "source": [
    "# creates a subset of only accepted loans\n",
    "accepted_loans = test_pred_df[test_pred_df['pred_loan_status'] == 0]\n",
    "\n",
    "# calculates the bad rate\n",
    "print(np.sum(accepted_loans['true_loan_status']) / accepted_loans['true_loan_status'].count())"
   ]
  },
  {
   "cell_type": "markdown",
   "metadata": {},
   "source": [
    "##  Acceptance rate impact"
   ]
  },
  {
   "cell_type": "code",
   "execution_count": null,
   "metadata": {
    "ExecuteTime": {
     "end_time": "2020-10-06T13:57:34.869189Z",
     "start_time": "2020-10-06T13:57:34.856916Z"
    },
    "execution": {
     "iopub.execute_input": "2020-10-17T15:37:26.027345Z",
     "iopub.status.busy": "2020-10-17T15:37:26.027010Z",
     "iopub.status.idle": "2020-10-17T15:37:26.042849Z",
     "shell.execute_reply": "2020-10-17T15:37:26.041781Z",
     "shell.execute_reply.started": "2020-10-17T15:37:26.027302Z"
    }
   },
   "outputs": [],
   "source": [
    "df_aux_scaled_back"
   ]
  },
  {
   "cell_type": "code",
   "execution_count": null,
   "metadata": {
    "ExecuteTime": {
     "end_time": "2020-10-06T13:57:34.894388Z",
     "start_time": "2020-10-06T13:57:34.872151Z"
    },
    "execution": {
     "iopub.execute_input": "2020-10-17T15:37:26.045216Z",
     "iopub.status.busy": "2020-10-17T15:37:26.044950Z",
     "iopub.status.idle": "2020-10-17T15:37:26.070535Z",
     "shell.execute_reply": "2020-10-17T15:37:26.069372Z",
     "shell.execute_reply.started": "2020-10-17T15:37:26.045188Z"
    }
   },
   "outputs": [],
   "source": [
    "# prepares the Data Frame\n",
    "test_pred_df2 = pd.concat([test_pred_df, df_aux_scaled_back[['loan_amnt']].reset_index()], axis=1)\n",
    "test_pred_df2.drop('index', axis=1, inplace=True)\n",
    "test_pred_df2"
   ]
  },
  {
   "cell_type": "code",
   "execution_count": null,
   "metadata": {
    "ExecuteTime": {
     "end_time": "2020-10-06T13:57:34.907030Z",
     "start_time": "2020-10-06T13:57:34.897500Z"
    },
    "execution": {
     "iopub.execute_input": "2020-10-17T15:37:26.072344Z",
     "iopub.status.busy": "2020-10-17T15:37:26.071950Z",
     "iopub.status.idle": "2020-10-17T15:37:26.083522Z",
     "shell.execute_reply": "2020-10-17T15:37:26.082245Z",
     "shell.execute_reply.started": "2020-10-17T15:37:26.072283Z"
    }
   },
   "outputs": [],
   "source": [
    "# prints the statistics of the loan amount column\n",
    "print(test_pred_df2['loan_amnt'].describe())"
   ]
  },
  {
   "cell_type": "code",
   "execution_count": null,
   "metadata": {
    "ExecuteTime": {
     "end_time": "2020-10-06T13:57:34.936618Z",
     "start_time": "2020-10-06T13:57:34.909522Z"
    },
    "execution": {
     "iopub.execute_input": "2020-10-17T15:37:26.085674Z",
     "iopub.status.busy": "2020-10-17T15:37:26.085322Z",
     "iopub.status.idle": "2020-10-17T15:37:26.115335Z",
     "shell.execute_reply": "2020-10-17T15:37:26.114110Z",
     "shell.execute_reply.started": "2020-10-17T15:37:26.085639Z"
    }
   },
   "outputs": [],
   "source": [
    "# stores the average loan amount\n",
    "avg_loan = np.mean(test_pred_df2['loan_amnt'])\n",
    "\n",
    "# sets the formatting for currency, and prints the cross tab\n",
    "pd.options.display.float_format = '${:,.2f}'.format\n",
    "print(pd.crosstab(test_pred_df2['true_loan_status'],\n",
    "                 test_pred_df2['pred_loan_status']).apply(lambda x: x * avg_loan, axis = 0))"
   ]
  },
  {
   "cell_type": "markdown",
   "metadata": {},
   "source": [
    "With this, we can see that our bad rate of about `8.3%` (`[1,0]`) represents an estimated loan value of about **5.0 million dollars**. This may seem like a lot at first, but compare it to the total value of non-default loans (`[0,0]`)! With this, we are ready to start talking about our acceptance strategy going forward."
   ]
  },
  {
   "cell_type": "markdown",
   "metadata": {},
   "source": [
    "## Making the strategy table"
   ]
  },
  {
   "cell_type": "code",
   "execution_count": null,
   "metadata": {
    "ExecuteTime": {
     "end_time": "2020-10-06T13:57:34.943262Z",
     "start_time": "2020-10-06T13:57:34.939783Z"
    },
    "execution": {
     "iopub.execute_input": "2020-10-17T15:37:26.117815Z",
     "iopub.status.busy": "2020-10-17T15:37:26.117237Z",
     "iopub.status.idle": "2020-10-17T15:37:26.125563Z",
     "shell.execute_reply": "2020-10-17T15:37:26.123261Z",
     "shell.execute_reply.started": "2020-10-17T15:37:26.117778Z"
    }
   },
   "outputs": [],
   "source": [
    "# sets the acceptance rates\n",
    "accept_rates = np.linspace(1.0, 0.05, 20)\n",
    "\n",
    "# sets the vars\n",
    "thresholds = []\n",
    "bad_rates = []"
   ]
  },
  {
   "cell_type": "code",
   "execution_count": null,
   "metadata": {
    "ExecuteTime": {
     "end_time": "2020-10-06T13:57:35.052994Z",
     "start_time": "2020-10-06T13:57:34.947472Z"
    },
    "execution": {
     "iopub.execute_input": "2020-10-17T15:37:26.127191Z",
     "iopub.status.busy": "2020-10-17T15:37:26.126837Z",
     "iopub.status.idle": "2020-10-17T15:37:26.269258Z",
     "shell.execute_reply": "2020-10-17T15:37:26.268239Z",
     "shell.execute_reply.started": "2020-10-17T15:37:26.127156Z"
    }
   },
   "outputs": [],
   "source": [
    "# populates the arrays for the strategy table with a for loop\n",
    "for rate in accept_rates:\n",
    "    # calculates the threshold for the acceptance rate\n",
    "    curr_thresh = np.quantile(df_probs['prob_default'], rate).round(4)\n",
    "    \n",
    "    # adds the threshold value to the list of thresholds\n",
    "    thresholds.append(curr_thresh)\n",
    "    \n",
    "    # reassigns the loan_status value using the threshold\n",
    "    test_pred_df['pred_loan_status'] = test_pred_df['prob_default'].apply(lambda x: 1 if x > curr_thresh else 0)\n",
    "    \n",
    "    # creates a set of accepted loans using this acceptance rate\n",
    "    accepted_loans = test_pred_df[test_pred_df['pred_loan_status'] == 0]\n",
    "    \n",
    "    # calculates and append the bad rate using the acceptance rate\n",
    "    curr_bad_rate = np.sum((accepted_loans['true_loan_status']) / len(accepted_loans['true_loan_status'])).round(4)\n",
    "    bad_rates.append(curr_bad_rate)"
   ]
  },
  {
   "cell_type": "code",
   "execution_count": null,
   "metadata": {
    "ExecuteTime": {
     "end_time": "2020-10-06T13:57:35.067738Z",
     "start_time": "2020-10-06T13:57:35.055663Z"
    },
    "execution": {
     "iopub.execute_input": "2020-10-17T15:37:26.271232Z",
     "iopub.status.busy": "2020-10-17T15:37:26.270824Z",
     "iopub.status.idle": "2020-10-17T15:37:26.304853Z",
     "shell.execute_reply": "2020-10-17T15:37:26.303965Z",
     "shell.execute_reply.started": "2020-10-17T15:37:26.271196Z"
    }
   },
   "outputs": [],
   "source": [
    "# sets format to suppress scientific notation\n",
    "pd.options.display.float_format = '{:,.4f}'.format\n",
    "\n",
    "# creates a data frame of the strategy table\n",
    "strat_df = pd.DataFrame(zip(accept_rates, thresholds, bad_rates),\n",
    "                        columns = ['Acceptance Rate','Threshold','Bad Rate'])\n",
    "\n",
    "# Print the entire table\n",
    "strat_df"
   ]
  },
  {
   "cell_type": "markdown",
   "metadata": {},
   "source": [
    "##  Visualizing the strategy"
   ]
  },
  {
   "cell_type": "markdown",
   "metadata": {},
   "source": [
    "Now we have the extended strategy table `strat_df`. The table is not so big that it's difficult to analyze, but visuals can help we see the overview all at once.\n",
    "\n",
    "We should check at the distribution of each column with a box plot. **If the distribution of Acceptance Rate looks the same as the Bad Rate column, that could be a problem. That means that the model's calibration is likely much worse than we thought.**\n",
    "\n",
    "We can also visualize the strategy curve with a line plot. **The Acceptance Rate would be the independent variable with the Bad Rate as the dependent variable.**"
   ]
  },
  {
   "cell_type": "code",
   "execution_count": null,
   "metadata": {
    "ExecuteTime": {
     "end_time": "2020-10-06T13:57:35.247625Z",
     "start_time": "2020-10-06T13:57:35.069600Z"
    },
    "execution": {
     "iopub.execute_input": "2020-10-17T15:37:26.306990Z",
     "iopub.status.busy": "2020-10-17T15:37:26.306357Z",
     "iopub.status.idle": "2020-10-17T15:37:26.545660Z",
     "shell.execute_reply": "2020-10-17T15:37:26.544623Z",
     "shell.execute_reply.started": "2020-10-17T15:37:26.306933Z"
    }
   },
   "outputs": [],
   "source": [
    "# visualizes the distributions in the strategy table with a boxplot\n",
    "plt.figure(figsize=(8,8))\n",
    "strat_df.boxplot()\n",
    "plt.show()"
   ]
  },
  {
   "cell_type": "code",
   "execution_count": null,
   "metadata": {
    "ExecuteTime": {
     "end_time": "2020-10-06T13:57:35.438596Z",
     "start_time": "2020-10-06T13:57:35.250096Z"
    },
    "execution": {
     "iopub.execute_input": "2020-10-17T15:37:26.548023Z",
     "iopub.status.busy": "2020-10-17T15:37:26.547468Z",
     "iopub.status.idle": "2020-10-17T15:37:26.804396Z",
     "shell.execute_reply": "2020-10-17T15:37:26.803452Z",
     "shell.execute_reply.started": "2020-10-17T15:37:26.547971Z"
    }
   },
   "outputs": [],
   "source": [
    "# sets plot size\n",
    "plt.figure(figsize=(8,8))\n",
    "\n",
    "# plots the strategy curve\n",
    "plt.plot(strat_df['Acceptance Rate'], strat_df['Bad Rate'])\n",
    "\n",
    "# sets plot features\n",
    "plt.xlabel('Acceptance Rate')\n",
    "plt.ylabel('Bad Rate')\n",
    "plt.title('Acceptance and Bad Rates', fontsize=14)\n",
    "\n",
    "# displays the plot\n",
    "plt.show()"
   ]
  },
  {
   "cell_type": "markdown",
   "metadata": {},
   "source": [
    " The boxplot shows us the distribution for each column. Look at the strategy curve. The bad rates are very low up until the acceptance rate `0.6` where they suddenly increase. This suggests that many of the accepted defaults may have a `prob_default` value between `0.6` and `0.8`."
   ]
  },
  {
   "cell_type": "markdown",
   "metadata": {},
   "source": [
    "##  Estimated value profiling"
   ]
  },
  {
   "cell_type": "code",
   "execution_count": null,
   "metadata": {
    "ExecuteTime": {
     "end_time": "2020-10-06T13:57:35.443879Z",
     "start_time": "2020-10-06T13:57:35.440747Z"
    },
    "execution": {
     "iopub.execute_input": "2020-10-17T15:37:26.805930Z",
     "iopub.status.busy": "2020-10-17T15:37:26.805641Z",
     "iopub.status.idle": "2020-10-17T15:37:26.810346Z",
     "shell.execute_reply": "2020-10-17T15:37:26.809054Z",
     "shell.execute_reply.started": "2020-10-17T15:37:26.805902Z"
    },
    "hide_input": false
   },
   "outputs": [],
   "source": [
    "# overwrites the data set\n",
    "test_pred_df = test_pred_df2.copy()"
   ]
  },
  {
   "cell_type": "code",
   "execution_count": null,
   "metadata": {
    "ExecuteTime": {
     "end_time": "2020-10-06T13:57:35.451685Z",
     "start_time": "2020-10-06T13:57:35.446843Z"
    },
    "execution": {
     "iopub.execute_input": "2020-10-17T15:37:26.812439Z",
     "iopub.status.busy": "2020-10-17T15:37:26.812186Z",
     "iopub.status.idle": "2020-10-17T15:37:26.818452Z",
     "shell.execute_reply": "2020-10-17T15:37:26.817226Z",
     "shell.execute_reply.started": "2020-10-17T15:37:26.812411Z"
    },
    "hide_input": false
   },
   "outputs": [],
   "source": [
    "# sets the acceptance rates\n",
    "accept_rates = [1.0, 0.95, 0.9, 0.85, 0.8, 0.75, 0.7, 0.65, 0.6, 0.55, \n",
    "                0.5, 0.45, 0.4, 0.35, 0.3, 0.25, 0.2, 0.15, 0.1, 0.05]\n",
    "\n",
    "# sets the vars\n",
    "thresholds = []\n",
    "bad_rates = []\n",
    "num_accepted_loans = []\n",
    "avg_loan_amnt = []"
   ]
  },
  {
   "cell_type": "code",
   "execution_count": null,
   "metadata": {
    "ExecuteTime": {
     "end_time": "2020-10-06T13:57:35.575488Z",
     "start_time": "2020-10-06T13:57:35.454167Z"
    },
    "execution": {
     "iopub.execute_input": "2020-10-17T15:37:26.820678Z",
     "iopub.status.busy": "2020-10-17T15:37:26.820213Z",
     "iopub.status.idle": "2020-10-17T15:37:26.990499Z",
     "shell.execute_reply": "2020-10-17T15:37:26.989580Z",
     "shell.execute_reply.started": "2020-10-17T15:37:26.820627Z"
    },
    "hide_input": false
   },
   "outputs": [],
   "source": [
    "# populates the arrays for the strategy table with a for loop\n",
    "for rate in accept_rates:\n",
    "    # calculates the threshold for the acceptance rate\n",
    "    curr_thresh = np.quantile(df_probs['prob_default'], rate).round(4)\n",
    "    \n",
    "    # adds the threshold value to the list of thresholds\n",
    "    thresholds.append(curr_thresh)\n",
    "    \n",
    "    # reassigns the loan_status value using the threshold\n",
    "    test_pred_df['pred_loan_status'] = test_pred_df['prob_default'].apply(lambda x: 1 if x > curr_thresh else 0)\n",
    "    \n",
    "    # creates a set of accepted loans using this acceptance rate\n",
    "    accepted_loans = test_pred_df[test_pred_df['pred_loan_status'] == 0]\n",
    "    \n",
    "    # calculates and appends the bad rate using the acceptance rate\n",
    "    curr_bad_rate = np.sum((accepted_loans['true_loan_status']) / len(accepted_loans['true_loan_status'])).round(4)\n",
    "    bad_rates.append(curr_bad_rate)\n",
    "    \n",
    "    # calculates and appends the number of accepted loans using the acceptance rate\n",
    "    curr_num_acc_loans = len(test_pred_df[test_pred_df['prob_default'] < np.quantile(test_pred_df['prob_default'], rate)])\n",
    "    num_accepted_loans.append(curr_num_acc_loans)\n",
    "    \n",
    "    # calculates the avg loan amount\n",
    "    avg_loan_amnt.append(np.mean(test_pred_df['loan_amnt']))"
   ]
  },
  {
   "cell_type": "code",
   "execution_count": null,
   "metadata": {
    "ExecuteTime": {
     "end_time": "2020-10-06T13:57:35.598371Z",
     "start_time": "2020-10-06T13:57:35.577532Z"
    },
    "execution": {
     "iopub.execute_input": "2020-10-17T15:37:26.992602Z",
     "iopub.status.busy": "2020-10-17T15:37:26.992225Z",
     "iopub.status.idle": "2020-10-17T15:37:27.020592Z",
     "shell.execute_reply": "2020-10-17T15:37:27.019762Z",
     "shell.execute_reply.started": "2020-10-17T15:37:26.992565Z"
    },
    "hide_input": false
   },
   "outputs": [],
   "source": [
    "# sets format to suppress scientific notation\n",
    "pd.options.display.float_format = '{:,.4f}'.format\n",
    "\n",
    "# creates a data frame of the strategy table\n",
    "strat_df = pd.DataFrame(zip(accept_rates, thresholds, bad_rates, num_accepted_loans, avg_loan_amnt),\n",
    "                        columns = ['Acceptance Rate','Threshold','Bad Rate', \n",
    "                                   'Num Accepted Loans', 'Avg Loan Amnt'])\n",
    "\n",
    "# calculates the portfolio estimated values \n",
    "estimated_value = ((strat_df['Num Accepted Loans'] * (1 - strat_df['Bad Rate'])) * strat_df['Avg Loan Amnt']) - (strat_df['Num Accepted Loans'] * strat_df['Bad Rate'] * strat_df['Avg Loan Amnt'])\n",
    "\n",
    "# includes the column for the estimated_value\n",
    "strat_df = pd.DataFrame(zip(accept_rates, thresholds, bad_rates, \n",
    "                            num_accepted_loans, avg_loan_amnt, estimated_value),\n",
    "                        columns = ['Acceptance Rate','Threshold','Bad Rate', \n",
    "                                   'Num Accepted Loans', 'Avg Loan Amnt', 'Estimated Value'])\n",
    "\n",
    "# prints the entire table\n",
    "strat_df.style.highlight_max(subset='Estimated Value')"
   ]
  },
  {
   "cell_type": "markdown",
   "metadata": {
    "hide_input": false
   },
   "source": [
    "| Column |\tDescription|\n",
    "|:-------|:------------|\n",
    "| Num Accepted Loans |\tThe number of accepted loans based on the threshold|\n",
    "| Avg Loan Amnt \t|The average loan amount of the entire test set|\n",
    "| Estimated value |\tThe estimated net value of non-defaults minus defaults|\n",
    "\n",
    "The highlighted cell indicates the **<mark>Max Est. Value</mark>** for the current portfolio."
   ]
  },
  {
   "cell_type": "code",
   "execution_count": null,
   "metadata": {
    "ExecuteTime": {
     "end_time": "2020-10-06T13:57:35.830408Z",
     "start_time": "2020-10-06T13:57:35.600233Z"
    },
    "execution": {
     "iopub.execute_input": "2020-10-17T15:37:27.022209Z",
     "iopub.status.busy": "2020-10-17T15:37:27.021903Z",
     "iopub.status.idle": "2020-10-17T15:37:27.312744Z",
     "shell.execute_reply": "2020-10-17T15:37:27.311645Z",
     "shell.execute_reply.started": "2020-10-17T15:37:27.022181Z"
    },
    "hide_input": false
   },
   "outputs": [],
   "source": [
    "# sets plot size\n",
    "plt.figure(figsize=(10,8))\n",
    "\n",
    "# creates a line plot of estimated value\n",
    "plt.plot(strat_df['Acceptance Rate'], strat_df['Estimated Value'])\n",
    "\n",
    "# adds a reference line to the plot for the threshold\n",
    "plt.axvline(x = 0.85, color = 'red', linestyle=\":\", label=\"Acceptance Rate for Maximum Estimated Value\")\n",
    "\n",
    "# sets plot feaures\n",
    "plt.title('Estimated Value by Acceptance Rate', fontsize=14)\n",
    "plt.xlabel('Acceptance Rate')\n",
    "plt.ylabel('Estimated Value')\n",
    "plt.legend()\n",
    "\n",
    "# displays the plot\n",
    "plt.show()"
   ]
  },
  {
   "cell_type": "code",
   "execution_count": null,
   "metadata": {
    "ExecuteTime": {
     "end_time": "2020-10-06T13:57:35.841304Z",
     "start_time": "2020-10-06T13:57:35.832851Z"
    },
    "execution": {
     "iopub.execute_input": "2020-10-17T15:37:27.314663Z",
     "iopub.status.busy": "2020-10-17T15:37:27.314108Z",
     "iopub.status.idle": "2020-10-17T15:37:27.327454Z",
     "shell.execute_reply": "2020-10-17T15:37:27.326276Z",
     "shell.execute_reply.started": "2020-10-17T15:37:27.314629Z"
    }
   },
   "outputs": [],
   "source": [
    "# prints the row with the max estimated value\n",
    "strat_df.loc[strat_df['Estimated Value'] == np.max(strat_df['Estimated Value'])]"
   ]
  },
  {
   "cell_type": "markdown",
   "metadata": {},
   "source": [
    "With our credit data and our estimated averag loan value, we clearly see that the acceptance rate `0.85` has the highest potential estimated value. Normally, the allowable bad rate is set, but we can use analyses like this to explore other options."
   ]
  },
  {
   "cell_type": "markdown",
   "metadata": {},
   "source": [
    "##  Total expected loss"
   ]
  },
  {
   "cell_type": "markdown",
   "metadata": {},
   "source": [
    "### $Total\\ Expected\\ Loss = \\sum_{x=1}^n PD_x * LGD_x * EAD_x.$\n",
    "\n",
    "### `expected_loss = prob_default * lgd * loan_amnt`\n",
    "\n",
    "We'll assume that the exposure is the full value of the loan, and the **loss given default is 100%**. This means that **a default on each loan is a loss of the entire amount**."
   ]
  },
  {
   "cell_type": "code",
   "execution_count": null,
   "metadata": {
    "ExecuteTime": {
     "end_time": "2020-10-06T13:57:35.848067Z",
     "start_time": "2020-10-06T13:57:35.844274Z"
    },
    "execution": {
     "iopub.execute_input": "2020-10-17T15:37:27.330842Z",
     "iopub.status.busy": "2020-10-17T15:37:27.330539Z",
     "iopub.status.idle": "2020-10-17T15:37:27.336402Z",
     "shell.execute_reply": "2020-10-17T15:37:27.335230Z",
     "shell.execute_reply.started": "2020-10-17T15:37:27.330810Z"
    }
   },
   "outputs": [],
   "source": [
    "# loss given default is 100%\n",
    "test_pred_df['loss_given_default'] = 1.0"
   ]
  },
  {
   "cell_type": "code",
   "execution_count": null,
   "metadata": {
    "ExecuteTime": {
     "end_time": "2020-10-06T13:57:35.859558Z",
     "start_time": "2020-10-06T13:57:35.850848Z"
    },
    "execution": {
     "iopub.execute_input": "2020-10-17T15:37:27.338679Z",
     "iopub.status.busy": "2020-10-17T15:37:27.338247Z",
     "iopub.status.idle": "2020-10-17T15:37:27.349654Z",
     "shell.execute_reply": "2020-10-17T15:37:27.348741Z",
     "shell.execute_reply.started": "2020-10-17T15:37:27.338643Z"
    }
   },
   "outputs": [],
   "source": [
    "# prints the first five rows of the data frame\n",
    "test_pred_df.head()"
   ]
  },
  {
   "cell_type": "code",
   "execution_count": null,
   "metadata": {
    "ExecuteTime": {
     "end_time": "2020-10-06T13:57:35.868521Z",
     "start_time": "2020-10-06T13:57:35.862309Z"
    },
    "execution": {
     "iopub.execute_input": "2020-10-17T15:37:27.351363Z",
     "iopub.status.busy": "2020-10-17T15:37:27.351125Z",
     "iopub.status.idle": "2020-10-17T15:37:27.361389Z",
     "shell.execute_reply": "2020-10-17T15:37:27.360104Z",
     "shell.execute_reply.started": "2020-10-17T15:37:27.351335Z"
    }
   },
   "outputs": [],
   "source": [
    "# calculates the bank's expected loss and assign it to a new column\n",
    "test_pred_df['expected_loss'] = test_pred_df['prob_default'] * test_pred_df['loss_given_default'] * test_pred_df['loan_amnt']\n",
    "\n",
    "# calculates the total expected loss to two decimal places\n",
    "tot_exp_loss = round(np.sum(test_pred_df['expected_loss']), 2)\n",
    "\n",
    "# prints the total expected loss\n",
    "print('Total expected loss: ', '${:,.2f}'.format(tot_exp_loss))"
   ]
  },
  {
   "cell_type": "markdown",
   "metadata": {},
   "source": [
    "```\n",
    "Total expected loss:  $19,596,497.74\n",
    "```"
   ]
  },
  {
   "cell_type": "markdown",
   "metadata": {},
   "source": [
    "| Used algorithm                    | Calibrated? | Boruta? | Algorithm that was used by Boruta | Number of remaining features | Total expected loss |\n",
    "|-----------------------------------|-------------|---------|-----------------------------------|------------------------------|---------------------|\n",
    "| No algorithm, just human guessing | N/A         | N/A     | N/A                               | 26                           | 35,395,287\\.50    |\n",
    "| XGBoost Classifier                | No          | Yes     | Random Forest Classifier          | 7                            | 29,276,107\\.72    |\n",
    "| XGBoost Classifier                | Yes         | Yes     | Random Forest Classifier          | 7                            | 28,948,507\\.08    |\n",
    "| XGBoost Classifier                | Yes         | Yes     | XGBoost Classifier                | 19                           | 27,821,760\\.79    |\n",
    "| XGBoost Classifier                | Yes         | No      | N/A                               | 26                           | 19,596,497\\.74    |\n",
    "| Stacking Classifier XGB           | Yes         | No      | N/A                               | 26                           | 20,431,941\\.38    |\n",
    "| CatBoost Classifier \\(HP\\)        | Yes         | No      | N/A                               | 26                           | 17,547,088\\.71      |\n"
   ]
  },
  {
   "cell_type": "markdown",
   "metadata": {},
   "source": [
    "## Making the Pipeline"
   ]
  },
  {
   "cell_type": "code",
   "execution_count": null,
   "metadata": {
    "ExecuteTime": {
     "end_time": "2020-10-06T13:57:35.912689Z",
     "start_time": "2020-10-06T13:57:35.902988Z"
    },
    "execution": {
     "iopub.execute_input": "2020-10-17T15:37:27.395553Z",
     "iopub.status.busy": "2020-10-17T15:37:27.395211Z",
     "iopub.status.idle": "2020-10-17T15:37:27.630592Z",
     "shell.execute_reply": "2020-10-17T15:37:27.629469Z",
     "shell.execute_reply.started": "2020-10-17T15:37:27.395517Z"
    }
   },
   "outputs": [],
   "source": [
    "# data manipulation\n",
    "import pickle\n",
    "import pandas as pd\n",
    "import numpy as np\n",
    "\n",
    "# data transformation\n",
    "from sklearn.preprocessing import MinMaxScaler\n",
    "\n",
    "\n",
    "class Pipeline(object):\n",
    "\n",
    "    def __init__(self):\n",
    "        # sets the home path\n",
    "        self.home_path = ''\n",
    "\n",
    "        # loads model\n",
    "        self.model = pickle.load(\n",
    "            open(self.home_path + 'model_credit_risk.pkl', 'rb'))\n",
    "\n",
    "        # instantiates the scaler\n",
    "        self.scaler = pickle.load(\n",
    "            open(self.home_path + 'numerical_vars_scaler.pkl', 'rb'))\n",
    "\n",
    "    # scales and encodes the data\n",
    "    def transform(self, input_data):\n",
    "        data = input_data.copy()\n",
    "\n",
    "        ##########################\n",
    "        # SCALING NUMERICAL VARS #\n",
    "        ##########################\n",
    "\n",
    "        # selects only numerical data types variables\n",
    "        df_numerical_vars = data.select_dtypes(\n",
    "            include=['int64', 'float64']).drop('loan_status', axis=1)\n",
    "\n",
    "        # applies the scaler\n",
    "        scaled_numerical = self.scaler.transform(df_numerical_vars)\n",
    "\n",
    "        # gets the Data Frame version of numerical scaled for later manipulation\n",
    "        df_scaled_numerical = pd.DataFrame(scaled_numerical)\n",
    "\n",
    "        # renaming the columns of result Data Frame\n",
    "        df_scaled_numerical.columns = df_numerical_vars.columns\n",
    "\n",
    "        #############################\n",
    "        # ENCODING CATEGORICAL VARS #\n",
    "        #############################\n",
    "\n",
    "        # creates data sets for non-numeric data\n",
    "        cred_str = data.select_dtypes(include=['object'])\n",
    "\n",
    "        # One-hot encode the non-numeric columns\n",
    "        cred_str_onehot = pd.get_dummies(cred_str)\n",
    "\n",
    "        # union the one-hot encoded columns to the numeric ones\n",
    "        df_cr_loan_prep = pd.concat(\n",
    "            [df_scaled_numerical, cred_str_onehot], axis=1)\n",
    "\n",
    "        return df_cr_loan_prep\n",
    "\n",
    "    def predict(self, input_data):\n",
    "        transformed_data = self.transform(input_data)\n",
    "\n",
    "        predictions = self.model.predict_proba(transformed_data)\n",
    "\n",
    "        return predictions\n"
   ]
  },
  {
   "cell_type": "code",
   "execution_count": null,
   "metadata": {
    "ExecuteTime": {
     "end_time": "2020-10-06T13:57:35.922394Z",
     "start_time": "2020-10-06T13:57:35.916248Z"
    },
    "execution": {
     "iopub.execute_input": "2020-10-17T15:37:27.632546Z",
     "iopub.status.busy": "2020-10-17T15:37:27.632137Z",
     "iopub.status.idle": "2020-10-17T15:37:27.642008Z",
     "shell.execute_reply": "2020-10-17T15:37:27.640477Z",
     "shell.execute_reply.started": "2020-10-17T15:37:27.632507Z"
    }
   },
   "outputs": [],
   "source": [
    "def prepare_data_for_calculation(data_frame, probs):\n",
    "\n",
    "    # defines probabilities Data Frame\n",
    "    df_probs = pd.DataFrame(probs[:, 1])\n",
    "    df_probs.columns = ['prob_default']\n",
    "\n",
    "    # concatenates the probabilities with the respective loan amount\n",
    "    df_prep = pd.concat(\n",
    "        [df_probs, data_frame[['loan_amnt']].reset_index()], axis=1)\n",
    "\n",
    "    # drops unused column\n",
    "    df_prep.drop('index', axis=1, inplace=True)\n",
    "\n",
    "    return df_prep\n",
    "\n",
    "\n",
    "def calculate_total_expected_loss(data_frame, probs, lgd, ead):\n",
    "\n",
    "    # calls the function to prepare the Data Frame\n",
    "    data = prepare_data_for_calculation(data_frame, probs)\n",
    "\n",
    "    # sets the loss given default\n",
    "    data['loss_given_default'] = lgd\n",
    "\n",
    "    # calculates the bank's expected loss and assign it to a new column\n",
    "    data['expected_loss'] = data['prob_default'] * \\\n",
    "        data['loss_given_default'] * (data['loan_amnt'] * ead)\n",
    "\n",
    "    # calculates the total expected loss to two decimal places\n",
    "    total_exp_loss = round(np.sum(data['expected_loss']), 2)\n",
    "\n",
    "    return total_exp_loss"
   ]
  },
  {
   "cell_type": "markdown",
   "metadata": {},
   "source": [
    "##  Sampling the data for test"
   ]
  },
  {
   "cell_type": "code",
   "execution_count": null,
   "metadata": {
    "ExecuteTime": {
     "end_time": "2020-10-06T14:07:02.590219Z",
     "start_time": "2020-10-06T14:07:02.466063Z"
    },
    "execution": {
     "iopub.execute_input": "2020-10-17T15:37:27.643908Z",
     "iopub.status.busy": "2020-10-17T15:37:27.643589Z",
     "iopub.status.idle": "2020-10-17T15:37:27.779993Z",
     "shell.execute_reply": "2020-10-17T15:37:27.778916Z",
     "shell.execute_reply.started": "2020-10-17T15:37:27.643869Z"
    }
   },
   "outputs": [],
   "source": [
    "# loads data set\n",
    "df_raw = pd.read_csv('data/cr_loan_clean.csv')\n",
    "\n",
    "# selects a sample\n",
    "df_raw = df_raw.sample(n=10000, random_state=SEED)\n",
    "\n",
    "# exports the test data set\n",
    "df_raw.to_csv('data/test_data.csv', index=False)\n",
    "\n",
    "df_raw.head()"
   ]
  },
  {
   "cell_type": "code",
   "execution_count": null,
   "metadata": {
    "ExecuteTime": {
     "end_time": "2020-10-06T14:07:05.089862Z",
     "start_time": "2020-10-06T14:07:05.085823Z"
    },
    "execution": {
     "iopub.execute_input": "2020-10-17T15:37:27.781546Z",
     "iopub.status.busy": "2020-10-17T15:37:27.781194Z",
     "iopub.status.idle": "2020-10-17T15:37:27.787083Z",
     "shell.execute_reply": "2020-10-17T15:37:27.786185Z",
     "shell.execute_reply.started": "2020-10-17T15:37:27.781496Z"
    }
   },
   "outputs": [],
   "source": [
    "df_raw.shape"
   ]
  },
  {
   "cell_type": "markdown",
   "metadata": {},
   "source": [
    "##  Testing the Pipeline"
   ]
  },
  {
   "cell_type": "code",
   "execution_count": null,
   "metadata": {
    "ExecuteTime": {
     "end_time": "2020-10-06T14:08:08.642284Z",
     "start_time": "2020-10-06T14:08:07.575021Z"
    },
    "execution": {
     "iopub.execute_input": "2020-10-17T15:37:27.788831Z",
     "iopub.status.busy": "2020-10-17T15:37:27.788585Z",
     "iopub.status.idle": "2020-10-17T15:37:27.909581Z",
     "shell.execute_reply": "2020-10-17T15:37:27.908652Z",
     "shell.execute_reply.started": "2020-10-17T15:37:27.788803Z"
    }
   },
   "outputs": [],
   "source": [
    "# instantiate the data pipeline\n",
    "pipeline = Pipeline()\n",
    "\n",
    "# makes the predictions\n",
    "predictions = pipeline.predict(df_raw)\n",
    "\n",
    "# calculates the total expected_loss\n",
    "LGD = 1\n",
    "EAD = 1\n",
    "\n",
    "total_expected_loss = calculate_total_expected_loss(df_raw, predictions, LGD, EAD)\n",
    "\n",
    "print(f'${total_expected_loss:,.2f}')"
   ]
  },
  {
   "cell_type": "code",
   "execution_count": null,
   "metadata": {},
   "outputs": [],
   "source": []
  }
 ],
 "metadata": {
  "kernelspec": {
   "display_name": "Python 3 (ipykernel)",
   "language": "python",
   "name": "python3"
  },
  "language_info": {
   "codemirror_mode": {
    "name": "ipython",
    "version": 3
   },
   "file_extension": ".py",
   "mimetype": "text/x-python",
   "name": "python",
   "nbconvert_exporter": "python",
   "pygments_lexer": "ipython3",
   "version": "3.9.12"
  }
 },
 "nbformat": 4,
 "nbformat_minor": 4
}
